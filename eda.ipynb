{
 "cells": [
  {
   "cell_type": "markdown",
   "source": [
    "# Exploratory data analysis\n",
    "Introduction to exploratory data analysis (EDA)."
   ],
   "metadata": {
    "collapsed": false
   }
  },
  {
   "cell_type": "markdown",
   "source": [
    "EDA is an approach to analyzing datasets to summarize their main characteristics, often with visual methods. EDA is used for seeing what the data can tell us before the modeling task [(source 1)](https://chartio.com/learn/data-analytics/what-is-exploratory-data-analysis/). It is used to explore the data, find different patterns, relations, and anomalies in the data using some statistical graphs and other visualization techniques, and possibly formulate hypotheses that could lead to new data collection and experiments [(source 2)](https://www.analyticsvidhya.com/blog/2021/08/how-to-perform-exploratory-data-analysis-a-guide-for-beginners/). More specifically, EDA enables analysts to:\n",
    "1. get maximum insights from a data set\n",
    "2. uncover underlying structure\n",
    "3. extract important variables from the dataset\n",
    "4. detect outliers and anomalies (if any)\n",
    "5. test underlying assumptions\n",
    "6. determine the optimal factor settings"
   ],
   "metadata": {
    "collapsed": false
   }
  },
  {
   "cell_type": "markdown",
   "source": [
    "## EDA steps and tools\n",
    "Practical steps in conducting EDA and frequently used EDA tools.\n",
    "Based on *pandas2020-main.Sales_Analysis_Pandas_P3_tutorial.ipynb* and *pandas2020-main.TED_Talks_Pandas_P3_tutorial.ipynb*.\n"
   ],
   "metadata": {
    "collapsed": false
   }
  },
  {
   "cell_type": "markdown",
   "source": [
    "Based on [this](https://stackoverflow.com/a/22149930/1899061), in all computations, `axis=...` refers to the axis **along which** the computation is done. By default, `axis=0`. This is consistent with the `numpy.mean` usage when axis is specified explicitly (in `numpy.mean`, `axis==None` by default, which computes the mean value over the flattened array), in which `axis=0` along the rows (namely, index in pandas), and `axis=1` along the columns.\n",
    "Note also that that `axis=0` indicates aggregating along rows and `axis=1` indicates aggregating along columns. This is consistent with how we index into a dataframe. In `df.iloc[<row>, <column>]`, `<row>` is in index position 0 and `<column>` is in index position 1. For added clarity, one may choose to specify `axis='index'` (instead of `axis=0`) or `axis='columns'` (instead of `axis=1`).\n",
    "**But**, `axis=0` means each row as a bulk - we manipulate a `pd.DataFrame` inter-row, instead of within-row. Likewise, 1 means each column as a bulk, i.e. we manipulate a `pd.DataFrame` inter-column instead of within-column. For example, `<pd.df>.drop(\"A\", axis=1)` will drop a whole column."
   ],
   "metadata": {
    "collapsed": false
   }
  },
  {
   "cell_type": "markdown",
   "source": [
    "### Reading the dataset\n",
    "- `pd.read_csv()`"
   ],
   "metadata": {
    "collapsed": false
   }
  },
  {
   "cell_type": "markdown",
   "source": [
    "### Initial examination and adaptations\n",
    "- `<pd.df>.shape`, `<pd.df>.head()`, `<pd.df>.tail()`, `<pd.df>.sample()`, `<pd.df>.dtypes`, `<pd.df>.info()`, `<pd.df>.describe()`\n",
    "- `<pd.df>.columns`, `<pd.df>.columns.values`, `<pd.df>.columns.values.tolist()`, `<pd.df>.values`\n",
    "- `<pd.df>.rename({'<column_1 old name>':'<column_1 new name>', '<column_2 old name>':'<column_2 new name>', ...}, axis='columns')`, `<pd.df>.columns = ['<column_1 name>', '<column_2 name>', ...]` (change the names of all columns in <pd.df>)\n",
    "- `ast.literal_eval()` (using Python's *ast* module to transform a string into a literal value, a list, a tuple or any other container object)"
   ],
   "metadata": {
    "collapsed": false
   }
  },
  {
   "cell_type": "markdown",
   "source": [
    "### Missing values and value counts\n",
    "- `<pd.df>.isna()` (`<pd.df>.isnull()`), `<pd.df>.isna().sum()` (`<pd.df>.isnull().sum`) ([example](https://www.analyticsvidhya.com/blog/2021/08/how-to-perform-exploratory-data-analysis-a-guide-for-beginners/))\n",
    "- `sb.heatmap()`, e.g. `sb.heatmap(<pd.df>.isnull(),cbar=False,cmap='viridis')` ([example](https://www.analyticsvidhya.com/blog/2021/08/how-to-perform-exploratory-data-analysis-a-guide-for-beginners/))\n",
    "- `<pd.df>['<column>'].value_counts()`, `<pd.df>['<column>'].value_counts(normalize=True)`, `<pd.Series>.dropna(how='all'/'any', inplace=True)`"
   ],
   "metadata": {
    "collapsed": false
   }
  },
  {
   "cell_type": "markdown",
   "source": [
    "### Examining individual data items, rows and columns\n",
    "- `<pd.df>.sample()`\n",
    "- Simple indexing and fancy indexing: `<pd.df>.iloc[]`, `<pd.df>.loc[]`\n",
    "- `<pd.df>.index`, `<pd.df>.index[<from>:<to>]`, `<pd.df>.reset_index(drop=True, inplace=True)`\n",
    "- Indexing using list of values: `<pd.df>.loc[<pd.df>.<column>.isin(<list of values>)]` (select those observations where the value of `<column>` is in the `<list of values>`)\n",
    "- Indexing in data stats: `<pd.df>.describe().loc['50%', '<column_name>']` (select the median of `<column_name>` from the `<pd.df>` stats computed by `describe()`)"
   ],
   "metadata": {
    "collapsed": false
   }
  },
  {
   "cell_type": "markdown",
   "source": [
    "### Grouping and sorting data\n",
    "- `<pd.df>['<column>'].unique()`, `<pd.df>['<column>'].nunique()`\n",
    "- `<pd.df>['<column>'].groupby()`, `<pd.df>['<column>'].groupby().get_group()`\n",
    "- `<pd.df>['<column>'].value_counts()`, `<pd.df>['<column>'].value_counts().sort_index()`, `<pd.df>['<column>'].value_counts().sort_index(inplace=True)`\n",
    "- `<pd.df>.sort_values(by='<column name>', ascending=False/True)`\n",
    "- `<pd.df>.groupby('<column>').<another column>.<f()>.sort_values(ascending=False)` (aggregate using function `f()`, e.g. `mean()`)\n",
    "- `<pd.df>.groupby('<column>').<another column>.agg(['<f1 name>', '<f2 name>', ...])` (aggregate using multiple functions, e.g. `mean()`, `count()`,...)\n",
    "\n",
    "If `sort_values()` is used after `agg(['f1 name>', '<f2 name>', ...])` (`agg(['<f1 name>', '<f2 name>', ...]).sort_values(by='<f name>', ascending=False)`), it must be passed one positional argument (`by='<f name>'`) before the optional `ascending=False`.\n"
   ],
   "metadata": {
    "collapsed": false
   }
  },
  {
   "cell_type": "markdown",
   "source": [
    "### Data transformations\n",
    "- `<pd.df>.describe()`\n",
    "- `pd.to_numeric(<pd.DataFrame object>['<column name>'], errors='coerce')`, `pd.DataFrame.to_numpy()`, `pd.Series.to_numpy()`, `pd.to_datetime()`, ...\n",
    "- `<pd.df>.<column>.apply(<f_name>)` (apply the <f_name> function to all elements of each element of the `<column>`; for example, each element of the `<column>` can be a list of other elements)\n"
   ],
   "metadata": {
    "collapsed": false
   }
  },
  {
   "cell_type": "markdown",
   "source": [
    "### Exploring correlations\n",
    "Explore correlations between the (numerical) columns.\n",
    "- `sb.heatmap()`\n",
    "- [Example](https://www.analyticsvidhya.com/blog/2021/08/how-to-perform-exploratory-data-analysis-a-guide-for-beginners/)"
   ],
   "metadata": {
    "collapsed": false
   }
  },
  {
   "cell_type": "markdown",
   "source": [
    "### Data visualization\n",
    "Plot some bargraphs, scatterplots, boxplots,...\n",
    "- [Example](https://www.analyticsvidhya.com/blog/2021/08/how-to-perform-exploratory-data-analysis-a-guide-for-beginners/)"
   ],
   "metadata": {
    "collapsed": false
   }
  },
  {
   "cell_type": "markdown",
   "source": [
    "### Other\n",
    "[Other interesting ideas and different ways of using the things from above](https://realpython.com/pandas-python-explore-dataset/#exploring-your-dataset) (see the rest from [that article](https://realpython.com/pandas-python-explore-dataset/) as well)."
   ],
   "metadata": {
    "collapsed": false
   }
  },
  {
   "cell_type": "markdown",
   "source": [
    "## Import and configure packages\n",
    "The `%run` magic does not work well in DataSpell, thus the following `import` statements are copied here from *import_packages.ipynb* (the last line is added subsequently):"
   ],
   "metadata": {
    "collapsed": false
   }
  },
  {
   "cell_type": "code",
   "execution_count": 54,
   "outputs": [
    {
     "name": "stdout",
     "output_type": "stream",
     "text": [
      "The autoreload extension is already loaded. To reload it, use:\n",
      "  %reload_ext autoreload\n"
     ]
    }
   ],
   "source": [
    "%load_ext autoreload\n",
    "%autoreload 2\n",
    "\n",
    "%matplotlib inline\n",
    "\n",
    "%config IPCompleter.greedy=True\n",
    "\n",
    "import numpy as np\n",
    "import matplotlib as mpl\n",
    "import matplotlib.pyplot as plt\n",
    "plt.style.use('classic')\n",
    "import pandas as pd\n",
    "import seaborn as sb\n",
    "\n",
    "from plotnine import ggplot, aes, labs, geom_point, geom_line, geom_histogram, theme_xkcd"
   ],
   "metadata": {
    "collapsed": false,
    "ExecuteTime": {
     "end_time": "2023-11-10T13:41:33.523305200Z",
     "start_time": "2023-11-10T13:41:33.323223100Z"
    }
   }
  },
  {
   "cell_type": "code",
   "execution_count": null,
   "outputs": [],
   "source": [
    "# %run \"import_packages.ipynb\""
   ],
   "metadata": {
    "collapsed": false
   }
  },
  {
   "cell_type": "markdown",
   "metadata": {},
   "source": [
    "## Introducing The Rolling Stones datasets"
   ]
  },
  {
   "cell_type": "markdown",
   "source": [
    "### Available datasets\n",
    "The starting set of The Rolling Stones datasets, located in the *data* folder:\n",
    "* *rolling_stones_spotify.csv* - Spotify audio features collected from playlists\n",
    "* *stones.csv* - complete raw dataset (including data from Spotify, Wikipedia, AllMusic, etc.)\n",
    "* *stones_analysis.csv* - clean dataset (no NAs, no duplicates,...)"
   ],
   "metadata": {
    "collapsed": false
   }
  },
  {
   "cell_type": "markdown",
   "metadata": {},
   "source": [
    "### Read a *csv* file containing one of the available datasets describing The Rolling Stones songs\n",
    "`pd.read_csv()` returns a `pd.DataFrame` object.\n",
    "\n",
    "As for specifying the path of the dataset properly, see [this](https://stackoverflow.com/questions/35384358/how-to-open-my-files-in-data-folder-with-pandas-using-relative-path) (more specifically, **both** [this](https://stackoverflow.com/a/35384414/1899061) and [this](https://stackoverflow.com/a/43600253/1899061))."
   ]
  },
  {
   "cell_type": "code",
   "execution_count": 170,
   "metadata": {
    "ExecuteTime": {
     "end_time": "2023-11-10T20:51:39.729339100Z",
     "start_time": "2023-11-10T20:51:39.606229300Z"
    }
   },
   "outputs": [],
   "source": [
    "# Get the songs as a pd.DataFrame object from 'data/stones.csv', \n",
    "# or from '../data/stones.csv', \n",
    "# or '../../data/stones.csv', \n",
    "# or ..., \n",
    "# depending on where the csv file is located\n",
    "\n",
    "songs = pd.read_csv('data/stones.csv')\n",
    "# If an int columns contains NaN values, read_csv() sets all values to float values, because NaN are internally\n",
    "# represented as float values. To read the int columns as int values and still preserve NaN values where they \n",
    "# exist, see this: https://stackoverflow.com/a/72323514. \n",
    "# The trick is: df = pd.read_csv('file.csv', dtype={'a': 'Int32', 'b': 'Int32'}), assuming that 'a' and 'b' \n",
    "# columns contain int and NaN values."
   ]
  },
  {
   "cell_type": "markdown",
   "source": [
    "### Explore the dataset (first steps)"
   ],
   "metadata": {
    "collapsed": false
   }
  },
  {
   "cell_type": "markdown",
   "source": [
    "##### Initial examination and adaptations\n",
    "- `<pd.df>.shape`, `<pd.df>.head()`, `<pd.df>.tail()`, `<pd.df>.sample()`, `<pd.df>.dtypes`, `<pd.df>.info()`, `<pd.df>.describe()`\n",
    "- `<pd.df>.columns`, `<pd.df>.columns.values`, `<pd.df>.columns.values.tolist()` (or `<pd.df>.columns.values.to_list()`), `<pd.df>.values`\n",
    "- `<pd.df>.rename({'<column_1 old name>':'<column_1 new name>', '<column_2 old name>':'<column_2 new name>', ...}, axis='columns')`, `<pd.df>.columns = ['<column_1 name>', '<column_2 name>', ...]` (change the names of all columns in <pd.df>)\n",
    "- `ast.literal_eval()` (using Python's *ast* module to transform a string into a literal value, a list, a tuple or any other container object)"
   ],
   "metadata": {
    "collapsed": false
   }
  },
  {
   "cell_type": "markdown",
   "source": [
    "###### A sneak peek into the dataset\n",
    "- `<pd.df>.shape`, `<pd.df>.head()`, `<pd.df>.tail()`, `<pd.df>.sample()`, `<pd.df>.dtypes`, **<u>`<pd.df>.info()`**</u>, `<pd.df>.describe()` (shows descriptive statistics for numerical columns only).\n",
    "\n",
    "When calling `display()` on a method like `<pd.df>.head()`, `<pd.df>.tail()` and `<pd.df>.sample()`, only a certain default number of columns is displayed. To display *all* columns, use `pd.set_option('display.max_columns', None)` first. To display *<n>* columns, use `pd.set_option('display.max_columns', <n>)` first. "
   ],
   "metadata": {
    "collapsed": false
   }
  },
  {
   "cell_type": "code",
   "execution_count": 14,
   "outputs": [
    {
     "data": {
      "text/plain": "(297, 36)"
     },
     "metadata": {},
     "output_type": "display_data"
    },
    {
     "data": {
      "text/plain": "     Unnamed: 0                           Title  Year_recorded  Year_released  \\\n262         262              Time Is On My Side           1964           1964   \n7             7               All Down The Line           1972           1972   \n61           61                Doncha Bother Me           1965           1966   \n155         155                    Love In Vain           1969           1969   \n75           75                Fingerprint File           1974           1974   \n137         137                       Lady Jane           1966           1966   \n269         269                 Torn And Frayed           1971           1972   \n3             3                        2000 Man           1967           1967   \n162         162                          Melody           1975           1976   \n144         144  Let's Spend The Night Together           1966           1967   \n\n                               Album  ... FRA SWI  CAN POL Certification  \n262         Got Live If You Want It!  ...   4   3    -   -             -  \n7                  Exile on Main St.  ...   -   -    -   -             -  \n61                         Aftermath  ...   -   -    -   -             -  \n155             Get Yer Ya-Ya's Out!  ...   -   -    -   -             -  \n75           It's Only Rock 'n' Roll  ...   -   -    -   -             -  \n137                          Flowers  ...   -   -    -   -             -  \n269                Exile on Main St.  ...   -   -    -   -             -  \n3    Their Satanic Majesties Request  ...   -   -    -   -             -  \n162                   Black and Blue  ...   -   -    -   -             -  \n144                          Flowers  ...   3   -    -   -             -  \n\n[10 rows x 36 columns]",
      "text/html": "<div>\n<style scoped>\n    .dataframe tbody tr th:only-of-type {\n        vertical-align: middle;\n    }\n\n    .dataframe tbody tr th {\n        vertical-align: top;\n    }\n\n    .dataframe thead th {\n        text-align: right;\n    }\n</style>\n<table border=\"1\" class=\"dataframe\">\n  <thead>\n    <tr style=\"text-align: right;\">\n      <th></th>\n      <th>Unnamed: 0</th>\n      <th>Title</th>\n      <th>Year_recorded</th>\n      <th>Year_released</th>\n      <th>Album</th>\n      <th>...</th>\n      <th>FRA</th>\n      <th>SWI</th>\n      <th>CAN</th>\n      <th>POL</th>\n      <th>Certification</th>\n    </tr>\n  </thead>\n  <tbody>\n    <tr>\n      <th>262</th>\n      <td>262</td>\n      <td>Time Is On My Side</td>\n      <td>1964</td>\n      <td>1964</td>\n      <td>Got Live If You Want It!</td>\n      <td>...</td>\n      <td>4</td>\n      <td>3</td>\n      <td>-</td>\n      <td>-</td>\n      <td>-</td>\n    </tr>\n    <tr>\n      <th>7</th>\n      <td>7</td>\n      <td>All Down The Line</td>\n      <td>1972</td>\n      <td>1972</td>\n      <td>Exile on Main St.</td>\n      <td>...</td>\n      <td>-</td>\n      <td>-</td>\n      <td>-</td>\n      <td>-</td>\n      <td>-</td>\n    </tr>\n    <tr>\n      <th>61</th>\n      <td>61</td>\n      <td>Doncha Bother Me</td>\n      <td>1965</td>\n      <td>1966</td>\n      <td>Aftermath</td>\n      <td>...</td>\n      <td>-</td>\n      <td>-</td>\n      <td>-</td>\n      <td>-</td>\n      <td>-</td>\n    </tr>\n    <tr>\n      <th>155</th>\n      <td>155</td>\n      <td>Love In Vain</td>\n      <td>1969</td>\n      <td>1969</td>\n      <td>Get Yer Ya-Ya's Out!</td>\n      <td>...</td>\n      <td>-</td>\n      <td>-</td>\n      <td>-</td>\n      <td>-</td>\n      <td>-</td>\n    </tr>\n    <tr>\n      <th>75</th>\n      <td>75</td>\n      <td>Fingerprint File</td>\n      <td>1974</td>\n      <td>1974</td>\n      <td>It's Only Rock 'n' Roll</td>\n      <td>...</td>\n      <td>-</td>\n      <td>-</td>\n      <td>-</td>\n      <td>-</td>\n      <td>-</td>\n    </tr>\n    <tr>\n      <th>137</th>\n      <td>137</td>\n      <td>Lady Jane</td>\n      <td>1966</td>\n      <td>1966</td>\n      <td>Flowers</td>\n      <td>...</td>\n      <td>-</td>\n      <td>-</td>\n      <td>-</td>\n      <td>-</td>\n      <td>-</td>\n    </tr>\n    <tr>\n      <th>269</th>\n      <td>269</td>\n      <td>Torn And Frayed</td>\n      <td>1971</td>\n      <td>1972</td>\n      <td>Exile on Main St.</td>\n      <td>...</td>\n      <td>-</td>\n      <td>-</td>\n      <td>-</td>\n      <td>-</td>\n      <td>-</td>\n    </tr>\n    <tr>\n      <th>3</th>\n      <td>3</td>\n      <td>2000 Man</td>\n      <td>1967</td>\n      <td>1967</td>\n      <td>Their Satanic Majesties Request</td>\n      <td>...</td>\n      <td>-</td>\n      <td>-</td>\n      <td>-</td>\n      <td>-</td>\n      <td>-</td>\n    </tr>\n    <tr>\n      <th>162</th>\n      <td>162</td>\n      <td>Melody</td>\n      <td>1975</td>\n      <td>1976</td>\n      <td>Black and Blue</td>\n      <td>...</td>\n      <td>-</td>\n      <td>-</td>\n      <td>-</td>\n      <td>-</td>\n      <td>-</td>\n    </tr>\n    <tr>\n      <th>144</th>\n      <td>144</td>\n      <td>Let's Spend The Night Together</td>\n      <td>1966</td>\n      <td>1967</td>\n      <td>Flowers</td>\n      <td>...</td>\n      <td>3</td>\n      <td>-</td>\n      <td>-</td>\n      <td>-</td>\n      <td>-</td>\n    </tr>\n  </tbody>\n</table>\n<p>10 rows × 36 columns</p>\n</div>"
     },
     "metadata": {},
     "output_type": "display_data"
    },
    {
     "data": {
      "text/plain": "     Unnamed: 0                          Title  Year_recorded  Year_released  \\\n28           28            Blinded By Rainbows           1994           1994   \n82           82              Going To A Go-Go            1981           1982   \n135         135                 Just Your Fool           2015           2016   \n240         240                Streets Of Love           2004           2005   \n219         219                    She Was Hot           1982           1983   \n224         224         Sing This All Together           1967           1967   \n284         284                    Wild Horses           1969           1971   \n263         263          Time Waits For No One           1973           1974   \n106         106               Honky Tonk Women           1969           1969   \n120         120  I've Been Loving You Too Long           1965           1966   \n\n                               Album               Record Label Album_type  \\\n28                     Voodoo Lounge                     Virgin     Studio   \n82                        Still Life                     Virgin       Live   \n135                  Blue & Lonesome       Interscope / Polydor     Studio   \n240                    A Bigger Bang                     Virgin     Studio   \n219                    Shine a Light                 Interscope       Live   \n224  Their Satanic Majesties Request              ABKCO Records     Studio   \n284                   Sticky Fingers                     Virgin     Studio   \n263          It's Only Rock 'n' Roll                     Virgin     Studio   \n106             Get Yer Ya-Ya's Out!              ABKCO Records       Live   \n120         Got Live If You Want It!  ABKCO Records / Universal       Live   \n\n     Track_number Duration                                      Songwriter(s)  \\\n28           12.0    04:33                                    Jagger/Richards   \n82            6.0    03:21  Smokey Robinson/Pete Moore/Bobby Rogers/Marvin...   \n135           1.0    02:16                                      Buddy Johnson   \n240           5.0    05:10                                    Jagger/Richards   \n219           3.0    04:44                                    Jagger/Richards   \n224           1.0    03:46                                    Jagger/Richards   \n284           3.0    05:44                                    Jagger/Richards   \n263           5.0    06:38                                    Jagger/Richards   \n106           9.0    03:34                                    Jagger/Richards   \n120           5.0    02:55                          Otis Redding/Jerry Butler   \n\n    Lead_vocal  acousticness  danceability    energy  instrumentalness  \\\n28      Jagger      0.688000         0.332  0.472000          0.000556   \n82      Jagger           NaN           NaN       NaN               NaN   \n135     Jagger      0.329000         0.547  0.903000          0.216000   \n240     Jagger      0.041600         0.434  0.603000          0.000006   \n219     Jagger      0.031400         0.487  0.966000          0.094900   \n224     Jagger      0.781000         0.572  0.707000          0.000844   \n284     Jagger      0.687000         0.432  0.389000          0.010700   \n263     Jagger      0.078400         0.533  0.781000          0.000273   \n106     Jagger      0.009480         0.343  0.974000          0.001780   \n120     Jagger      0.418333         0.289  0.561667          0.113667   \n\n     liveness   loudness  speechiness       tempo  valence British_charts  \\\n28     0.1160  -8.183000     0.042400   89.811000   0.2610            Yes   \n82        NaN        NaN          NaN         NaN      NaN            Yes   \n135    0.3880  -3.832000     0.057900  116.152000   0.8420            Yes   \n240    0.6530  -4.995000     0.031200   81.755000   0.2130            Yes   \n219    0.0914  -4.290000     0.057700  151.781000   0.7210            Yes   \n224    0.5370 -12.124000     0.050100  121.900000   0.5540            Yes   \n284    0.0788  -6.517000     0.025500  139.506000   0.1580            Yes   \n263    0.0630  -4.602000     0.031600  118.316000   0.8150            Yes   \n106    0.7480  -3.690000     0.063800  122.223000   0.8100            Yes   \n120    0.4370  -9.457667     0.046633  139.897333   0.0427            Yes   \n\n            Date UK_peak_pos WoC Weeks_at_no_1 US_cash US_rec_world AUS  US  \\\n28             -           -   -             -       -            -   -   -   \n82             -           -   -             -       -            -  48  25   \n135            -           -   -             -       -            -   -   -   \n240            -           -   -             -       -            -   -   -   \n219  11.02. 1984          42  04            00       -            -  60  44   \n224            -           -   -             -       -            -   -   -   \n284            -           -   -             -      18           21   -  28   \n263            -           -   -             -       -            -   -   -   \n106  15.07. 1969          01  17            05       1            1   -   1   \n120            -           -   -             -       -            -   -   -   \n\n    GER NLD FRA SWI CAN POL   Certification  \n28    -   -   -   -   -   -               -  \n82    -   3   -   9   4   -               -  \n135   -   -   -   -   -   -               -  \n240  15   5   -  21   -  21               -  \n219  54  18   -   -   -   -               -  \n224   -   -   -   -   -   -               -  \n284   -   -   -   -  11   -    UK: Gold[17]  \n263   -   -   -   -   -   -               -  \n106   2   4  13   1   2   -  RIAA: Gold[60]  \n120   -   -   -   -   -   -               -  ",
      "text/html": "<div>\n<style scoped>\n    .dataframe tbody tr th:only-of-type {\n        vertical-align: middle;\n    }\n\n    .dataframe tbody tr th {\n        vertical-align: top;\n    }\n\n    .dataframe thead th {\n        text-align: right;\n    }\n</style>\n<table border=\"1\" class=\"dataframe\">\n  <thead>\n    <tr style=\"text-align: right;\">\n      <th></th>\n      <th>Unnamed: 0</th>\n      <th>Title</th>\n      <th>Year_recorded</th>\n      <th>Year_released</th>\n      <th>Album</th>\n      <th>Record Label</th>\n      <th>Album_type</th>\n      <th>Track_number</th>\n      <th>Duration</th>\n      <th>Songwriter(s)</th>\n      <th>Lead_vocal</th>\n      <th>acousticness</th>\n      <th>danceability</th>\n      <th>energy</th>\n      <th>instrumentalness</th>\n      <th>liveness</th>\n      <th>loudness</th>\n      <th>speechiness</th>\n      <th>tempo</th>\n      <th>valence</th>\n      <th>British_charts</th>\n      <th>Date</th>\n      <th>UK_peak_pos</th>\n      <th>WoC</th>\n      <th>Weeks_at_no_1</th>\n      <th>US_cash</th>\n      <th>US_rec_world</th>\n      <th>AUS</th>\n      <th>US</th>\n      <th>GER</th>\n      <th>NLD</th>\n      <th>FRA</th>\n      <th>SWI</th>\n      <th>CAN</th>\n      <th>POL</th>\n      <th>Certification</th>\n    </tr>\n  </thead>\n  <tbody>\n    <tr>\n      <th>28</th>\n      <td>28</td>\n      <td>Blinded By Rainbows</td>\n      <td>1994</td>\n      <td>1994</td>\n      <td>Voodoo Lounge</td>\n      <td>Virgin</td>\n      <td>Studio</td>\n      <td>12.0</td>\n      <td>04:33</td>\n      <td>Jagger/Richards</td>\n      <td>Jagger</td>\n      <td>0.688000</td>\n      <td>0.332</td>\n      <td>0.472000</td>\n      <td>0.000556</td>\n      <td>0.1160</td>\n      <td>-8.183000</td>\n      <td>0.042400</td>\n      <td>89.811000</td>\n      <td>0.2610</td>\n      <td>Yes</td>\n      <td>-</td>\n      <td>-</td>\n      <td>-</td>\n      <td>-</td>\n      <td>-</td>\n      <td>-</td>\n      <td>-</td>\n      <td>-</td>\n      <td>-</td>\n      <td>-</td>\n      <td>-</td>\n      <td>-</td>\n      <td>-</td>\n      <td>-</td>\n      <td>-</td>\n    </tr>\n    <tr>\n      <th>82</th>\n      <td>82</td>\n      <td>Going To A Go-Go</td>\n      <td>1981</td>\n      <td>1982</td>\n      <td>Still Life</td>\n      <td>Virgin</td>\n      <td>Live</td>\n      <td>6.0</td>\n      <td>03:21</td>\n      <td>Smokey Robinson/Pete Moore/Bobby Rogers/Marvin...</td>\n      <td>Jagger</td>\n      <td>NaN</td>\n      <td>NaN</td>\n      <td>NaN</td>\n      <td>NaN</td>\n      <td>NaN</td>\n      <td>NaN</td>\n      <td>NaN</td>\n      <td>NaN</td>\n      <td>NaN</td>\n      <td>Yes</td>\n      <td>-</td>\n      <td>-</td>\n      <td>-</td>\n      <td>-</td>\n      <td>-</td>\n      <td>-</td>\n      <td>48</td>\n      <td>25</td>\n      <td>-</td>\n      <td>3</td>\n      <td>-</td>\n      <td>9</td>\n      <td>4</td>\n      <td>-</td>\n      <td>-</td>\n    </tr>\n    <tr>\n      <th>135</th>\n      <td>135</td>\n      <td>Just Your Fool</td>\n      <td>2015</td>\n      <td>2016</td>\n      <td>Blue &amp; Lonesome</td>\n      <td>Interscope / Polydor</td>\n      <td>Studio</td>\n      <td>1.0</td>\n      <td>02:16</td>\n      <td>Buddy Johnson</td>\n      <td>Jagger</td>\n      <td>0.329000</td>\n      <td>0.547</td>\n      <td>0.903000</td>\n      <td>0.216000</td>\n      <td>0.3880</td>\n      <td>-3.832000</td>\n      <td>0.057900</td>\n      <td>116.152000</td>\n      <td>0.8420</td>\n      <td>Yes</td>\n      <td>-</td>\n      <td>-</td>\n      <td>-</td>\n      <td>-</td>\n      <td>-</td>\n      <td>-</td>\n      <td>-</td>\n      <td>-</td>\n      <td>-</td>\n      <td>-</td>\n      <td>-</td>\n      <td>-</td>\n      <td>-</td>\n      <td>-</td>\n      <td>-</td>\n    </tr>\n    <tr>\n      <th>240</th>\n      <td>240</td>\n      <td>Streets Of Love</td>\n      <td>2004</td>\n      <td>2005</td>\n      <td>A Bigger Bang</td>\n      <td>Virgin</td>\n      <td>Studio</td>\n      <td>5.0</td>\n      <td>05:10</td>\n      <td>Jagger/Richards</td>\n      <td>Jagger</td>\n      <td>0.041600</td>\n      <td>0.434</td>\n      <td>0.603000</td>\n      <td>0.000006</td>\n      <td>0.6530</td>\n      <td>-4.995000</td>\n      <td>0.031200</td>\n      <td>81.755000</td>\n      <td>0.2130</td>\n      <td>Yes</td>\n      <td>-</td>\n      <td>-</td>\n      <td>-</td>\n      <td>-</td>\n      <td>-</td>\n      <td>-</td>\n      <td>-</td>\n      <td>-</td>\n      <td>15</td>\n      <td>5</td>\n      <td>-</td>\n      <td>21</td>\n      <td>-</td>\n      <td>21</td>\n      <td>-</td>\n    </tr>\n    <tr>\n      <th>219</th>\n      <td>219</td>\n      <td>She Was Hot</td>\n      <td>1982</td>\n      <td>1983</td>\n      <td>Shine a Light</td>\n      <td>Interscope</td>\n      <td>Live</td>\n      <td>3.0</td>\n      <td>04:44</td>\n      <td>Jagger/Richards</td>\n      <td>Jagger</td>\n      <td>0.031400</td>\n      <td>0.487</td>\n      <td>0.966000</td>\n      <td>0.094900</td>\n      <td>0.0914</td>\n      <td>-4.290000</td>\n      <td>0.057700</td>\n      <td>151.781000</td>\n      <td>0.7210</td>\n      <td>Yes</td>\n      <td>11.02. 1984</td>\n      <td>42</td>\n      <td>04</td>\n      <td>00</td>\n      <td>-</td>\n      <td>-</td>\n      <td>60</td>\n      <td>44</td>\n      <td>54</td>\n      <td>18</td>\n      <td>-</td>\n      <td>-</td>\n      <td>-</td>\n      <td>-</td>\n      <td>-</td>\n    </tr>\n    <tr>\n      <th>224</th>\n      <td>224</td>\n      <td>Sing This All Together</td>\n      <td>1967</td>\n      <td>1967</td>\n      <td>Their Satanic Majesties Request</td>\n      <td>ABKCO Records</td>\n      <td>Studio</td>\n      <td>1.0</td>\n      <td>03:46</td>\n      <td>Jagger/Richards</td>\n      <td>Jagger</td>\n      <td>0.781000</td>\n      <td>0.572</td>\n      <td>0.707000</td>\n      <td>0.000844</td>\n      <td>0.5370</td>\n      <td>-12.124000</td>\n      <td>0.050100</td>\n      <td>121.900000</td>\n      <td>0.5540</td>\n      <td>Yes</td>\n      <td>-</td>\n      <td>-</td>\n      <td>-</td>\n      <td>-</td>\n      <td>-</td>\n      <td>-</td>\n      <td>-</td>\n      <td>-</td>\n      <td>-</td>\n      <td>-</td>\n      <td>-</td>\n      <td>-</td>\n      <td>-</td>\n      <td>-</td>\n      <td>-</td>\n    </tr>\n    <tr>\n      <th>284</th>\n      <td>284</td>\n      <td>Wild Horses</td>\n      <td>1969</td>\n      <td>1971</td>\n      <td>Sticky Fingers</td>\n      <td>Virgin</td>\n      <td>Studio</td>\n      <td>3.0</td>\n      <td>05:44</td>\n      <td>Jagger/Richards</td>\n      <td>Jagger</td>\n      <td>0.687000</td>\n      <td>0.432</td>\n      <td>0.389000</td>\n      <td>0.010700</td>\n      <td>0.0788</td>\n      <td>-6.517000</td>\n      <td>0.025500</td>\n      <td>139.506000</td>\n      <td>0.1580</td>\n      <td>Yes</td>\n      <td>-</td>\n      <td>-</td>\n      <td>-</td>\n      <td>-</td>\n      <td>18</td>\n      <td>21</td>\n      <td>-</td>\n      <td>28</td>\n      <td>-</td>\n      <td>-</td>\n      <td>-</td>\n      <td>-</td>\n      <td>11</td>\n      <td>-</td>\n      <td>UK: Gold[17]</td>\n    </tr>\n    <tr>\n      <th>263</th>\n      <td>263</td>\n      <td>Time Waits For No One</td>\n      <td>1973</td>\n      <td>1974</td>\n      <td>It's Only Rock 'n' Roll</td>\n      <td>Virgin</td>\n      <td>Studio</td>\n      <td>5.0</td>\n      <td>06:38</td>\n      <td>Jagger/Richards</td>\n      <td>Jagger</td>\n      <td>0.078400</td>\n      <td>0.533</td>\n      <td>0.781000</td>\n      <td>0.000273</td>\n      <td>0.0630</td>\n      <td>-4.602000</td>\n      <td>0.031600</td>\n      <td>118.316000</td>\n      <td>0.8150</td>\n      <td>Yes</td>\n      <td>-</td>\n      <td>-</td>\n      <td>-</td>\n      <td>-</td>\n      <td>-</td>\n      <td>-</td>\n      <td>-</td>\n      <td>-</td>\n      <td>-</td>\n      <td>-</td>\n      <td>-</td>\n      <td>-</td>\n      <td>-</td>\n      <td>-</td>\n      <td>-</td>\n    </tr>\n    <tr>\n      <th>106</th>\n      <td>106</td>\n      <td>Honky Tonk Women</td>\n      <td>1969</td>\n      <td>1969</td>\n      <td>Get Yer Ya-Ya's Out!</td>\n      <td>ABKCO Records</td>\n      <td>Live</td>\n      <td>9.0</td>\n      <td>03:34</td>\n      <td>Jagger/Richards</td>\n      <td>Jagger</td>\n      <td>0.009480</td>\n      <td>0.343</td>\n      <td>0.974000</td>\n      <td>0.001780</td>\n      <td>0.7480</td>\n      <td>-3.690000</td>\n      <td>0.063800</td>\n      <td>122.223000</td>\n      <td>0.8100</td>\n      <td>Yes</td>\n      <td>15.07. 1969</td>\n      <td>01</td>\n      <td>17</td>\n      <td>05</td>\n      <td>1</td>\n      <td>1</td>\n      <td>-</td>\n      <td>1</td>\n      <td>2</td>\n      <td>4</td>\n      <td>13</td>\n      <td>1</td>\n      <td>2</td>\n      <td>-</td>\n      <td>RIAA: Gold[60]</td>\n    </tr>\n    <tr>\n      <th>120</th>\n      <td>120</td>\n      <td>I've Been Loving You Too Long</td>\n      <td>1965</td>\n      <td>1966</td>\n      <td>Got Live If You Want It!</td>\n      <td>ABKCO Records / Universal</td>\n      <td>Live</td>\n      <td>5.0</td>\n      <td>02:55</td>\n      <td>Otis Redding/Jerry Butler</td>\n      <td>Jagger</td>\n      <td>0.418333</td>\n      <td>0.289</td>\n      <td>0.561667</td>\n      <td>0.113667</td>\n      <td>0.4370</td>\n      <td>-9.457667</td>\n      <td>0.046633</td>\n      <td>139.897333</td>\n      <td>0.0427</td>\n      <td>Yes</td>\n      <td>-</td>\n      <td>-</td>\n      <td>-</td>\n      <td>-</td>\n      <td>-</td>\n      <td>-</td>\n      <td>-</td>\n      <td>-</td>\n      <td>-</td>\n      <td>-</td>\n      <td>-</td>\n      <td>-</td>\n      <td>-</td>\n      <td>-</td>\n      <td>-</td>\n    </tr>\n  </tbody>\n</table>\n</div>"
     },
     "metadata": {},
     "output_type": "display_data"
    },
    {
     "name": "stdout",
     "output_type": "stream",
     "text": [
      "<class 'pandas.core.frame.DataFrame'>\n",
      "RangeIndex: 297 entries, 0 to 296\n",
      "Data columns (total 36 columns):\n",
      " #   Column            Non-Null Count  Dtype  \n",
      "---  ------            --------------  -----  \n",
      " 0   Unnamed: 0        297 non-null    int64  \n",
      " 1   Title             297 non-null    object \n",
      " 2   Year_recorded     297 non-null    int64  \n",
      " 3   Year_released     297 non-null    int64  \n",
      " 4   Album             297 non-null    object \n",
      " 5   Record Label      297 non-null    object \n",
      " 6   Album_type        297 non-null    object \n",
      " 7   Track_number      293 non-null    float64\n",
      " 8   Duration          293 non-null    object \n",
      " 9   Songwriter(s)     297 non-null    object \n",
      " 10  Lead_vocal        297 non-null    object \n",
      " 11  acousticness      281 non-null    float64\n",
      " 12  danceability      281 non-null    float64\n",
      " 13  energy            281 non-null    float64\n",
      " 14  instrumentalness  281 non-null    float64\n",
      " 15  liveness          281 non-null    float64\n",
      " 16  loudness          281 non-null    float64\n",
      " 17  speechiness       281 non-null    float64\n",
      " 18  tempo             281 non-null    float64\n",
      " 19  valence           281 non-null    float64\n",
      " 20  British_charts    297 non-null    object \n",
      " 21  Date              297 non-null    object \n",
      " 22  UK_peak_pos       297 non-null    object \n",
      " 23  WoC               297 non-null    object \n",
      " 24  Weeks_at_no_1     297 non-null    object \n",
      " 25  US_cash           297 non-null    object \n",
      " 26  US_rec_world      297 non-null    object \n",
      " 27  AUS               297 non-null    object \n",
      " 28  US                297 non-null    object \n",
      " 29  GER               297 non-null    object \n",
      " 30  NLD               297 non-null    object \n",
      " 31  FRA               297 non-null    object \n",
      " 32  SWI               297 non-null    object \n",
      " 33  CAN               297 non-null    object \n",
      " 34  POL               297 non-null    object \n",
      " 35  Certification     297 non-null    object \n",
      "dtypes: float64(10), int64(3), object(23)\n",
      "memory usage: 83.7+ KB\n"
     ]
    },
    {
     "data": {
      "text/plain": "None"
     },
     "metadata": {},
     "output_type": "display_data"
    }
   ],
   "source": [
    "display(songs.shape)\n",
    "# display(songs.head())\n",
    "# display(songs.tail())\n",
    "pd.set_option('display.max_columns', 10)\n",
    "display(songs.sample(10))\n",
    "pd.set_option('display.max_columns', None)\n",
    "display(songs.sample(10))\n",
    "# display(songs.dtypes)\n",
    "display(songs.info())"
   ],
   "metadata": {
    "collapsed": false,
    "ExecuteTime": {
     "end_time": "2023-11-09T19:45:43.098082700Z",
     "start_time": "2023-11-09T19:45:42.888929400Z"
    }
   }
  },
  {
   "cell_type": "markdown",
   "source": [
    "###### Columns\n",
    "- `<pd.df>.columns`, `<pd.df>.columns.values`, `<pd.df>.columns.values.tolist()` (or `<pd.df>.columns.values.to_list()`), `<pd.df>.values`\n",
    "\n",
    "Show the columns of the `songs` object (which is a `pd.DataFrame` object)."
   ],
   "metadata": {
    "collapsed": false
   }
  },
  {
   "cell_type": "code",
   "execution_count": 15,
   "outputs": [
    {
     "data": {
      "text/plain": "array([[0, '19th Nervous Breakdown', 1965, ..., '9', '-', '-'],\n       [1, '100 Years Ago', 1972, ..., '-', '-', '-'],\n       [2, '2000 Light Years From Home', 1967, ..., '-', '-', '-'],\n       ...,\n       [294, 'You Got Me Rocking', 1993, ..., '29', '32', '-'],\n       [295, 'You Got The Silver', 1969, ..., '-', '-', '-'],\n       [296, 'You Gotta Move', 1969, ..., '-', '-', '-']], dtype=object)"
     },
     "execution_count": 15,
     "metadata": {},
     "output_type": "execute_result"
    }
   ],
   "source": [
    "# Get the columns as a pd.Index object, using <pd.df>.columns\n",
    "songs.columns\n",
    "# Get the columns as a list, using list(<pd.df>.columns)\n",
    "list(songs.columns)\n",
    "# Get the columns as a numpy.ndarray object, using <pd.df>.columns.values or np.array(<pd.df>.columns)\n",
    "songs.columns.values\n",
    "# Get the columns as a list, using <pd.df>.columns.tolist() or <pd.df>.columns.to_list()\n",
    "songs.columns.to_list()\n",
    "# Get the values of all items in the dataset as a numpy.ndarray of lists of the values in each item, using <pd.df>.values (the type is numpy.ndarray)\n",
    "type(songs.values)\n",
    "songs.values"
   ],
   "metadata": {
    "collapsed": false,
    "ExecuteTime": {
     "end_time": "2023-11-09T19:45:53.756540800Z",
     "start_time": "2023-11-09T19:45:53.645955400Z"
    }
   }
  },
  {
   "cell_type": "markdown",
   "source": [
    "###### Renaming columns\n",
    "- `<pd.df>.rename(columns={'<column_1 old name>':'<column_1 new name>', '<column_2 old name>':'<column_2 new name>', ...}, inplace=True)`, or\n",
    "- `<pd.df>.rename({'<column_1 old name>':'<column_1 new name>', '<column_2 old name>':'<column_2 new name>', ...}, axis='columns', inplace=True)`;\n",
    "- `<pd.df>.columns = ['<column_1 name>', '<column_2 name>', ...]` (change the names of all columns in `<pd.df>`)"
   ],
   "metadata": {
    "collapsed": false
   }
  },
  {
   "cell_type": "code",
   "execution_count": 8,
   "outputs": [
    {
     "data": {
      "text/plain": "                   Title  Year Recorded  Year Released  \\\n266            Too Tight           1997           1997   \n265             Too Rude           1985           1986   \n130        It's Not Easy           1965           1966   \n262   Time Is On My Side           1964           1964   \n9           All Sold Out           1966           1967   \n56   Dance Little Sister           1974           1974   \n156       Love Is Strong           1993           1994   \n162               Melody           1975           1976   \n90          Hand Of Fate           1974           1975   \n179            New Faces           1994           1994   \n\n                   Album name               Record Label Album type  \\\n266        Bridges to Babylon                     Virgin     Studio   \n265                Dirty Work                     Virgin     Studio   \n130                 Aftermath              ABKCO Records     Studio   \n262  Got Live If You Want It!  ABKCO Records / Universal       Live   \n9         Between the Buttons              ABKCO Records     Studio   \n56    It's Only Rock 'n' Roll                     Virgin     Studio   \n156             Voodoo Lounge                     Virgin     Studio   \n162            Black and Blue                     Virgin     Studio   \n90             Black and Blue                     Virgin     Studio   \n179             Voodoo Lounge                     Virgin     Studio   \n\n     Track number Song duration              Songwriter(s) Lead vocal(s)  ...  \\\n266          11.0         03:37            Jagger/Richards        Jagger  ...   \n265           5.0         03:13             Lindon Roberts      Richards  ...   \n130           9.0         02:50            Jagger/Richards        Jagger  ...   \n262           9.0         02:49  Norman Meade/Jimmy Norman        Jagger  ...   \n9             7.0         02:18            Jagger/Richards        Jagger  ...   \n56            7.0         04:11            Jagger/Richards        Jagger  ...   \n156           1.0         03:50            Jagger/Richards        Jagger  ...   \n162           6.0         05:50            Jagger/Richards        Jagger  ...   \n90            2.0         04:28            Jagger/Richards        Jagger  ...   \n179           5.0         02:51            Jagger/Richards        Jagger  ...   \n\n     US Rec World  AUS  US  GER  NLD  FRA  SWI  CAN  POL Certification  \n266             -    -   -    -    -    -    -    -    -             -  \n265             -    -   -    -    -    -    -    -    -             -  \n130             -    -   -    -    -    -    -    -    -             -  \n262            28    -   6   10   11    4    3    -    -             -  \n9               -    -   -    -    -    -    -    -    -             -  \n56              -    -   -    -    -   19    -    -    -             -  \n156             -    -  91   40    6    -   29    2   28             -  \n162             -    -   -    -    -    -    -    -    -             -  \n90              -    -   -    -    -    -    -    -    -             -  \n179             -    -   -    -    -    -    -    -    -             -  \n\n[10 rows x 35 columns]",
      "text/html": "<div>\n<style scoped>\n    .dataframe tbody tr th:only-of-type {\n        vertical-align: middle;\n    }\n\n    .dataframe tbody tr th {\n        vertical-align: top;\n    }\n\n    .dataframe thead th {\n        text-align: right;\n    }\n</style>\n<table border=\"1\" class=\"dataframe\">\n  <thead>\n    <tr style=\"text-align: right;\">\n      <th></th>\n      <th>Title</th>\n      <th>Year Recorded</th>\n      <th>Year Released</th>\n      <th>Album name</th>\n      <th>Record Label</th>\n      <th>Album type</th>\n      <th>Track number</th>\n      <th>Song duration</th>\n      <th>Songwriter(s)</th>\n      <th>Lead vocal(s)</th>\n      <th>...</th>\n      <th>US Rec World</th>\n      <th>AUS</th>\n      <th>US</th>\n      <th>GER</th>\n      <th>NLD</th>\n      <th>FRA</th>\n      <th>SWI</th>\n      <th>CAN</th>\n      <th>POL</th>\n      <th>Certification</th>\n    </tr>\n  </thead>\n  <tbody>\n    <tr>\n      <th>266</th>\n      <td>Too Tight</td>\n      <td>1997</td>\n      <td>1997</td>\n      <td>Bridges to Babylon</td>\n      <td>Virgin</td>\n      <td>Studio</td>\n      <td>11.0</td>\n      <td>03:37</td>\n      <td>Jagger/Richards</td>\n      <td>Jagger</td>\n      <td>...</td>\n      <td>-</td>\n      <td>-</td>\n      <td>-</td>\n      <td>-</td>\n      <td>-</td>\n      <td>-</td>\n      <td>-</td>\n      <td>-</td>\n      <td>-</td>\n      <td>-</td>\n    </tr>\n    <tr>\n      <th>265</th>\n      <td>Too Rude</td>\n      <td>1985</td>\n      <td>1986</td>\n      <td>Dirty Work</td>\n      <td>Virgin</td>\n      <td>Studio</td>\n      <td>5.0</td>\n      <td>03:13</td>\n      <td>Lindon Roberts</td>\n      <td>Richards</td>\n      <td>...</td>\n      <td>-</td>\n      <td>-</td>\n      <td>-</td>\n      <td>-</td>\n      <td>-</td>\n      <td>-</td>\n      <td>-</td>\n      <td>-</td>\n      <td>-</td>\n      <td>-</td>\n    </tr>\n    <tr>\n      <th>130</th>\n      <td>It's Not Easy</td>\n      <td>1965</td>\n      <td>1966</td>\n      <td>Aftermath</td>\n      <td>ABKCO Records</td>\n      <td>Studio</td>\n      <td>9.0</td>\n      <td>02:50</td>\n      <td>Jagger/Richards</td>\n      <td>Jagger</td>\n      <td>...</td>\n      <td>-</td>\n      <td>-</td>\n      <td>-</td>\n      <td>-</td>\n      <td>-</td>\n      <td>-</td>\n      <td>-</td>\n      <td>-</td>\n      <td>-</td>\n      <td>-</td>\n    </tr>\n    <tr>\n      <th>262</th>\n      <td>Time Is On My Side</td>\n      <td>1964</td>\n      <td>1964</td>\n      <td>Got Live If You Want It!</td>\n      <td>ABKCO Records / Universal</td>\n      <td>Live</td>\n      <td>9.0</td>\n      <td>02:49</td>\n      <td>Norman Meade/Jimmy Norman</td>\n      <td>Jagger</td>\n      <td>...</td>\n      <td>28</td>\n      <td>-</td>\n      <td>6</td>\n      <td>10</td>\n      <td>11</td>\n      <td>4</td>\n      <td>3</td>\n      <td>-</td>\n      <td>-</td>\n      <td>-</td>\n    </tr>\n    <tr>\n      <th>9</th>\n      <td>All Sold Out</td>\n      <td>1966</td>\n      <td>1967</td>\n      <td>Between the Buttons</td>\n      <td>ABKCO Records</td>\n      <td>Studio</td>\n      <td>7.0</td>\n      <td>02:18</td>\n      <td>Jagger/Richards</td>\n      <td>Jagger</td>\n      <td>...</td>\n      <td>-</td>\n      <td>-</td>\n      <td>-</td>\n      <td>-</td>\n      <td>-</td>\n      <td>-</td>\n      <td>-</td>\n      <td>-</td>\n      <td>-</td>\n      <td>-</td>\n    </tr>\n    <tr>\n      <th>56</th>\n      <td>Dance Little Sister</td>\n      <td>1974</td>\n      <td>1974</td>\n      <td>It's Only Rock 'n' Roll</td>\n      <td>Virgin</td>\n      <td>Studio</td>\n      <td>7.0</td>\n      <td>04:11</td>\n      <td>Jagger/Richards</td>\n      <td>Jagger</td>\n      <td>...</td>\n      <td>-</td>\n      <td>-</td>\n      <td>-</td>\n      <td>-</td>\n      <td>-</td>\n      <td>19</td>\n      <td>-</td>\n      <td>-</td>\n      <td>-</td>\n      <td>-</td>\n    </tr>\n    <tr>\n      <th>156</th>\n      <td>Love Is Strong</td>\n      <td>1993</td>\n      <td>1994</td>\n      <td>Voodoo Lounge</td>\n      <td>Virgin</td>\n      <td>Studio</td>\n      <td>1.0</td>\n      <td>03:50</td>\n      <td>Jagger/Richards</td>\n      <td>Jagger</td>\n      <td>...</td>\n      <td>-</td>\n      <td>-</td>\n      <td>91</td>\n      <td>40</td>\n      <td>6</td>\n      <td>-</td>\n      <td>29</td>\n      <td>2</td>\n      <td>28</td>\n      <td>-</td>\n    </tr>\n    <tr>\n      <th>162</th>\n      <td>Melody</td>\n      <td>1975</td>\n      <td>1976</td>\n      <td>Black and Blue</td>\n      <td>Virgin</td>\n      <td>Studio</td>\n      <td>6.0</td>\n      <td>05:50</td>\n      <td>Jagger/Richards</td>\n      <td>Jagger</td>\n      <td>...</td>\n      <td>-</td>\n      <td>-</td>\n      <td>-</td>\n      <td>-</td>\n      <td>-</td>\n      <td>-</td>\n      <td>-</td>\n      <td>-</td>\n      <td>-</td>\n      <td>-</td>\n    </tr>\n    <tr>\n      <th>90</th>\n      <td>Hand Of Fate</td>\n      <td>1974</td>\n      <td>1975</td>\n      <td>Black and Blue</td>\n      <td>Virgin</td>\n      <td>Studio</td>\n      <td>2.0</td>\n      <td>04:28</td>\n      <td>Jagger/Richards</td>\n      <td>Jagger</td>\n      <td>...</td>\n      <td>-</td>\n      <td>-</td>\n      <td>-</td>\n      <td>-</td>\n      <td>-</td>\n      <td>-</td>\n      <td>-</td>\n      <td>-</td>\n      <td>-</td>\n      <td>-</td>\n    </tr>\n    <tr>\n      <th>179</th>\n      <td>New Faces</td>\n      <td>1994</td>\n      <td>1994</td>\n      <td>Voodoo Lounge</td>\n      <td>Virgin</td>\n      <td>Studio</td>\n      <td>5.0</td>\n      <td>02:51</td>\n      <td>Jagger/Richards</td>\n      <td>Jagger</td>\n      <td>...</td>\n      <td>-</td>\n      <td>-</td>\n      <td>-</td>\n      <td>-</td>\n      <td>-</td>\n      <td>-</td>\n      <td>-</td>\n      <td>-</td>\n      <td>-</td>\n      <td>-</td>\n    </tr>\n  </tbody>\n</table>\n<p>10 rows × 35 columns</p>\n</div>"
     },
     "execution_count": 8,
     "metadata": {},
     "output_type": "execute_result"
    }
   ],
   "source": [
    "# Rename the Duration column to Length and Album to Album_title\n",
    "songs.rename(columns={'Duration': 'Length', 'Album': 'Album_title'}, inplace=True)\n",
    "# Rename the Length column back to Duration and Album_title back to Album\n",
    "songs.rename(columns={'Length': 'Duration', 'Album_title': 'Album'}, inplace=True)\n",
    "songs.sample(10)"
   ],
   "metadata": {
    "collapsed": false,
    "ExecuteTime": {
     "end_time": "2023-11-09T19:40:21.770413500Z",
     "start_time": "2023-11-09T19:40:21.637493700Z"
    }
   }
  },
  {
   "cell_type": "markdown",
   "source": [
    "Rename several columns from the original dataset to eliminate blanks (replace '  ' with '_'), to make them Pythonic, and to match the usual names and labels. Save the updated dataset. All original/starting datasets are kept in the *original_datasets* subfolder."
   ],
   "metadata": {
    "collapsed": false
   }
  },
  {
   "cell_type": "code",
   "execution_count": 150,
   "outputs": [],
   "source": [
    "# songs.columns\n",
    "# songs.rename(columns={'Year Recorded': 'Year_recorded',\n",
    "#                       'Year Released': 'Year_released',\n",
    "#                       'Album name': 'Album',\n",
    "#                       'Record Label': 'Record_label',\n",
    "#                       'Album type': 'Album_type',\n",
    "#                       'Track number': 'Track_number',\n",
    "#                       'Song duration': 'Duration',\n",
    "#                       'Songwriter(s)': 'Songwriter',\n",
    "#                       'Lead vocal(s)': 'Lead_vocal',\n",
    "#                       'British charts': 'British_charts',\n",
    "#                       'UK Peak Pos': 'UK_peak_pos',\n",
    "#                       'WksNo 1': 'Weeks_at_no_1',\n",
    "#                       'US Cash': 'US_cash',\n",
    "#                       'US Rec World': 'US_rec_world'\n",
    "#                       }, \n",
    "#              inplace=True)\n",
    "# songs.rename(columns={'Songwriter(s)': 'Songwriter'}, inplace=True)\n",
    "# songs.columns\n",
    "# songs.to_csv('data/stones.csv', index=False)"
   ],
   "metadata": {
    "collapsed": false,
    "ExecuteTime": {
     "end_time": "2023-11-10T19:26:36.205009300Z",
     "start_time": "2023-11-10T19:26:36.083490Z"
    }
   }
  },
  {
   "cell_type": "markdown",
   "source": [
    "Rearrange columns in the `songs` dataset to a desired order and save the dataset again."
   ],
   "metadata": {
    "collapsed": false
   }
  },
  {
   "cell_type": "code",
   "execution_count": 47,
   "outputs": [],
   "source": [
    "# songs = songs[['Title', 'Year_recorded', 'Year_released', 'Album', \n",
    "# 'Album_type', 'Record_label', 'Track_number', 'Duration', 'Songwriter', 'Lead_vocal',\n",
    "# 'acousticness', 'danceability', 'energy', 'instrumentalness',\n",
    "# 'liveness', 'loudness', 'speechiness', 'tempo', 'valence',\n",
    "# 'British_charts', 'Date', 'UK_peak_pos', 'WoC', 'Weeks_at_no_1',\n",
    "# 'US_cash', 'US_rec_world', 'AUS', 'US', 'GER', 'NLD', 'FRA', 'SWI',\n",
    "# 'CAN', 'POL', 'Certification']]\n",
    "# songs.columns\n",
    "# songs.to_csv('data/stones.csv', index=False)"
   ],
   "metadata": {
    "collapsed": false,
    "ExecuteTime": {
     "end_time": "2023-11-09T20:11:12.208647400Z",
     "start_time": "2023-11-09T20:11:12.101901900Z"
    }
   }
  },
  {
   "cell_type": "markdown",
   "source": [
    "Convert the values in other columns to more natural representations (e.g., `Duration` should be `int`, not `str`, `Track_number` should be `int`, not `float`, etc.)."
   ],
   "metadata": {
    "collapsed": false
   }
  },
  {
   "cell_type": "code",
   "execution_count": 161,
   "outputs": [
    {
     "data": {
      "text/plain": "                        Title  Track_number                Album Duration\n50                   Corinna            NaN          No Security        0\n177      The Nearness Of You            NaN           Live Licks        0\n205             Rock Me Baby            NaN           Live Licks        0\n283  Who's Been Sleeping Here           NaN  Between the Buttons        0",
      "text/html": "<div>\n<style scoped>\n    .dataframe tbody tr th:only-of-type {\n        vertical-align: middle;\n    }\n\n    .dataframe tbody tr th {\n        vertical-align: top;\n    }\n\n    .dataframe thead th {\n        text-align: right;\n    }\n</style>\n<table border=\"1\" class=\"dataframe\">\n  <thead>\n    <tr style=\"text-align: right;\">\n      <th></th>\n      <th>Title</th>\n      <th>Track_number</th>\n      <th>Album</th>\n      <th>Duration</th>\n    </tr>\n  </thead>\n  <tbody>\n    <tr>\n      <th>50</th>\n      <td>Corinna</td>\n      <td>NaN</td>\n      <td>No Security</td>\n      <td>0</td>\n    </tr>\n    <tr>\n      <th>177</th>\n      <td>The Nearness Of You</td>\n      <td>NaN</td>\n      <td>Live Licks</td>\n      <td>0</td>\n    </tr>\n    <tr>\n      <th>205</th>\n      <td>Rock Me Baby</td>\n      <td>NaN</td>\n      <td>Live Licks</td>\n      <td>0</td>\n    </tr>\n    <tr>\n      <th>283</th>\n      <td>Who's Been Sleeping Here</td>\n      <td>NaN</td>\n      <td>Between the Buttons</td>\n      <td>0</td>\n    </tr>\n  </tbody>\n</table>\n</div>"
     },
     "execution_count": 161,
     "metadata": {},
     "output_type": "execute_result"
    }
   ],
   "source": [
    "# duration = songs.Duration.copy()\n",
    "# for i in range(len(duration)):\n",
    "#     duration[i] = int(duration[i].split(':')[0]) * 60 + int(duration[i].split(':')[1])\n",
    "# print(duration[:10])\n",
    "# songs.Duration = duration\n",
    "# print(songs.Duration[:10])\n",
    "# songs.Duration.isna().sum()\n",
    "\n",
    "songs.Track_number.isna().sum()\n",
    "songs.loc[songs.Track_number.isna(), ['Title', 'Track_number', 'Album', 'Duration']]\n",
    "# track_number = songs.Track_number.copy()\n",
    "# # track_number\n",
    "# for i in range(len(track_number)):\n",
    "#     track_number[i] = int(track_number[i])\n",
    "# track_number"
   ],
   "metadata": {
    "collapsed": false,
    "ExecuteTime": {
     "end_time": "2023-11-10T20:06:59.534478600Z",
     "start_time": "2023-11-10T20:06:59.414496Z"
    }
   }
  },
  {
   "cell_type": "markdown",
   "source": [
    "##### Missing values and value counts\n",
    "- `<pd.df>.isna()` (`<pd.df>.isnull()`), `<pd.df>.isna().sum()` (`<pd.df>.isnull().sum`) ([example](https://www.analyticsvidhya.com/blog/2021/08/how-to-perform-exploratory-data-analysis-a-guide-for-beginners/))\n",
    "- `<pd.df>['<column>'].value_counts()`, `<pd.df>['<column>'].value_counts(normalize=True)`, `<pd.Series>.dropna(how='all'/'any', inplace=True)`\n",
    "- `sb.heatmap()`, e.g. `sb.heatmap(<pd.df>.isna(),cbar=False,cmap='viridis')` ([example](https://www.analyticsvidhya.com/blog/2021/08/how-to-perform-exploratory-data-analysis-a-guide-for-beginners/))\n",
    "\n",
    "The `cmap` parameter of `sb.heatmap()` denotes a [Matplotlib colormap](https://matplotlib.org/stable/tutorials/colors/colormaps.html#classes-of-colormaps) (`viridis`, `cividis`, `tab20`, `winter`, `BuPu_r`, `ocean`,...)."
   ],
   "metadata": {
    "collapsed": false
   }
  },
  {
   "cell_type": "code",
   "execution_count": 130,
   "outputs": [
    {
     "data": {
      "text/plain": "Title                  Year_recorded  Year_released  Album                 Album_type  Record_label          Track_number  Duration  Songwriter                Lead_vocal  acousticness  danceability  energy  instrumentalness  liveness  loudness  speechiness  tempo    valence  British_charts  Date         UK_peak_pos  WoC  Weeks_at_no_1  US_cash  US_rec_world  AUS  US  GER  NLD  FRA  SWI  CAN  POL  Certification \n100 Years Ago          1972           1973           Goats Head Soup       Studio      Interscope / Polydor  2.0           3:58      Jagger/Richards           Jagger      0.93500       0.554         0.413   0.000994          0.1450    -7.800    0.0276       105.219  0.414    Yes             -            -            -    -              -        -             -    -   -    -    -    -    -    -    -                 1\nPretty Beat Up         1983           1983           Undercover            Studio      Universal             7.0           4:05      Jagger/Richards/Wood      Jagger      0.06230       0.565         0.951   0.657000          0.2730    -3.804    0.0393       97.337   0.737    Yes             -            -            -    -              -        -             -    -   -    -    -    -    -    -    -                 1\nRock And A Hard Place  1989           1989           Flashpoint            Live        Virgin                5.0           4:51      Jagger/Richards           Jagger      0.00934       0.598         0.957   0.000054          0.0902    -4.391    0.0451       129.082  0.864    Yes             25.11. 1989  63           03   00             -        -             99   23  -    23   -    -    10   -    -                 1\nRip This Joint         1971           1972           Exile on Main St.     Studio      Virgin                2.0           2:22      Jagger/Richards           Jagger      0.03870       0.383         0.954   0.002940          0.4010    -3.659    0.0734       108.597  0.689    Yes             -            -            -    -              -        -             -    -   -    -    -    -    -    -    -                 1\nRide 'Em On Down       2015           2016           Blue & Lonesome       Studio      Interscope / Polydor  7.0           2:48      Eddie Taylor              Jagger      0.14000       0.508         0.949   0.014900          0.3760    -4.203    0.0866       116.004  0.726    Yes             -            -            -    -              -        -             -    -   -    -    -    -    -    -    -                 1\n                                                                                                                                                                                                                                                                                                                                                                                                                                 ..\nHold On To Your Hat    1989           1989           Steel Wheels          Studio      Virgin                4.0           3:32      Jagger/Richards           Jagger      0.31200       0.240         0.984   0.349000          0.4980    -3.495    0.1150       189.600  0.413    Yes             -            -            -    -              -        -             -    -   -    -    -    -    -    -    -                 1\nHonky Tonk Women       1969           1969           Get Yer Ya-Ya's Out!  Live        ABKCO Records         9.0           3:34      Jagger/Richards           Jagger      0.00948       0.343         0.974   0.001780          0.7480    -3.690    0.0638       122.223  0.810    Yes             15.07. 1969  01           17   05             1        1             -    1   2    4    13   1    2    -    RIAA: Gold[60]    1\nHoo Doo Blues          2015           2016           Blue & Lonesome       Studio      Interscope / Polydor  9.0           2:36      Otis Hicks/Jerry West     Jagger      0.35800       0.461         0.740   0.138000          0.3010    -4.961    0.0387       70.003   0.597    Yes             -            -            -    -              -        -             -    -   -    -    -    -    -    -    -                 1\nHot Stuff              1975           1976           Black and Blue        Studio      Virgin                1.0           5:21      Jagger/Richards           Jagger      0.27800       0.788         0.768   0.000161          0.0654    -7.250    0.0601       100.118  0.852    Yes             -            -            -    -              60       -             -    49  -    -    -    -    -    -    -                 1\nYou Gotta Move         1969           1971           Sticky Fingers        Studio      Virgin                5.0           2:33      Fred McDowell/Gary Davis  Jagger      0.72400       0.439         0.422   0.203000          0.1520    -8.384    0.0312       70.283   0.564    Yes             -            -            -    -              -        -             -    -   -    -    -    -    -    -    -                 1\nLength: 281, dtype: int64"
     },
     "execution_count": 130,
     "metadata": {},
     "output_type": "execute_result"
    }
   ],
   "source": [
    "# songs.isna()\n",
    "# songs.isna().sum()\n",
    "songs.value_counts()                    # shows only the rows without NAs (default: is dropna=True), check shape"
   ],
   "metadata": {
    "collapsed": false,
    "ExecuteTime": {
     "end_time": "2023-11-10T19:10:16.684495700Z",
     "start_time": "2023-11-10T19:10:16.530894900Z"
    }
   }
  },
  {
   "cell_type": "code",
   "execution_count": 131,
   "outputs": [
    {
     "data": {
      "text/plain": "<Figure size 640x480 with 1 Axes>",
      "image/png": "[encoded data removed]"
     },
     "metadata": {},
     "output_type": "display_data"
    }
   ],
   "source": [
    "# Display the heatmap (missing values) of the songs dataset \n",
    "# (demonstrate using sb.heatmap() vs. sb.heatmap();)\n",
    "\n",
    "# sb.heatmap(songs.isna(), cbar=False, cmap='viridis')\n",
    "sb.heatmap(songs.isna(), cbar=False, cmap='cividis');"
   ],
   "metadata": {
    "collapsed": false,
    "ExecuteTime": {
     "end_time": "2023-11-10T19:11:13.461006400Z",
     "start_time": "2023-11-10T19:11:12.965850900Z"
    }
   }
  },
  {
   "cell_type": "markdown",
   "source": [
    "How many missing values are there? (`<pd.df>.isna().sum()` for all columns, `<pd.df>.['<column>'].isna().sum()` for a specific column, `<pd.df>.[['<column1>', 'column2', ...]].isna().sum()` for selected multiple columns; `isnull()` is the same as `isna()`, and `isna()` is used more often)."
   ],
   "metadata": {
    "collapsed": false
   }
  },
  {
   "cell_type": "code",
   "execution_count": 132,
   "outputs": [
    {
     "data": {
      "text/plain": "Title                0\nYear_recorded        0\nYear_released        0\nAlbum                0\nAlbum_type           0\nRecord_label         0\nTrack_number         4\nDuration             4\nSongwriter           0\nLead_vocal           0\nacousticness        16\ndanceability        16\nenergy              16\ninstrumentalness    16\nliveness            16\nloudness            16\nspeechiness         16\ntempo               16\nvalence             16\nBritish_charts       0\nDate                 0\nUK_peak_pos          0\nWoC                  0\nWeeks_at_no_1        0\nUS_cash              0\nUS_rec_world         0\nAUS                  0\nUS                   0\nGER                  0\nNLD                  0\nFRA                  0\nSWI                  0\nCAN                  0\nPOL                  0\nCertification        0\ndtype: int64"
     },
     "execution_count": 132,
     "metadata": {},
     "output_type": "execute_result"
    }
   ],
   "source": [
    "songs.isna().sum()"
   ],
   "metadata": {
    "collapsed": false,
    "ExecuteTime": {
     "end_time": "2023-11-10T19:11:21.977629800Z",
     "start_time": "2023-11-10T19:11:21.852243400Z"
    }
   }
  },
  {
   "cell_type": "markdown",
   "source": [
    "### Examining individual data items, rows and columns\n",
    "- `<pd.df>.sample()`\n",
    "- Simple indexing and fancy indexing: `<pd.df>.iloc[]`, `<pd.df>.loc[]`\n",
    "- `<pd.df>.index`, `<pd.df>.index[<from>:<to>]`, `<pd.df>.reset_index(drop=True, inplace=True)`\n",
    "- Indexing using list of values: `<pd.df>.loc[<pd.df>.<column>.isin(<list of values>)]` (select those observations where the value of <column> is in the `<list of values>`)\n",
    "- Indexing in data stats: `<pd.df>.describe().loc['50%', '<column_name>']` (select the median of `<column_name>` from the `<pd.df>` stats computed by `describe()`)"
   ],
   "metadata": {
    "collapsed": false
   }
  },
  {
   "cell_type": "markdown",
   "source": [
    "Take a sample of the dataset to get a feeling of what's in there."
   ],
   "metadata": {
    "collapsed": false
   }
  },
  {
   "cell_type": "code",
   "execution_count": 56,
   "outputs": [
    {
     "data": {
      "text/plain": "                                      Title  Year_recorded  Year_released  \\\n244                      Surprise, Surprise           1964           1965   \n131  It's Only Rock 'N Roll (But I Like It)           1973           1974   \n175                                 My Girl           1965           1967   \n242                     Suck On The Jugular           1993           1994   \n187                   One Hit (To The Body)           1985           1986   \n1                             100 Years Ago           1972           1973   \n243                          Summer Romance           1979           1980   \n169                          Mixed Emotions           1989           1989   \n162                                  Melody           1975           1976   \n186                        On With The Show           1967           1967   \n\n                               Album   Album_type          Record_label  \\\n244         The Rolling Stones, Now!       Studio         ABKCO Records   \n131                    Love You Live         Live                Virgin   \n175                          Flowers  Compilation         ABKCO Records   \n242                    Voodoo Lounge       Studio                Virgin   \n187                       Dirty Work       Studio                Virgin   \n1                    Goats Head Soup       Studio  Interscope / Polydor   \n243                 Emotional Rescue       Studio             Universal   \n169                     Steel Wheels       Studio                Virgin   \n162                   Black and Blue       Studio                Virgin   \n186  Their Satanic Majesties Request       Studio         ABKCO Records   \n\n     Track_number Duration                    Songwriter Lead_vocal  \\\n244          12.0     2:31               Jagger/Richards     Jagger   \n131           5.0     4:29               Jagger/Richards     Jagger   \n175           6.0     2:39  Smokey Robinson/Ronald White     Jagger   \n242          11.0     4:27               Jagger/Richards     Jagger   \n187           1.0     4:44               Jagger/Richards     Jagger   \n1             2.0     3:58               Jagger/Richards     Jagger   \n243           2.0     3:16               Jagger/Richards     Jagger   \n169           2.0     4:38               Jagger/Richards     Jagger   \n162           6.0     5:50               Jagger/Richards     Jagger   \n186          10.0     3:39               Jagger/Richards     Jagger   \n\n     acousticness  danceability  energy  instrumentalness  liveness  loudness  \\\n244        0.0300         0.750   0.882          0.000005    0.1090    -8.842   \n131           NaN           NaN     NaN               NaN       NaN       NaN   \n175        0.6790         0.589   0.567          0.175000    0.3350    -7.774   \n242        0.0974         0.477   0.896          0.052600    0.0521    -5.999   \n187        0.1470         0.587   0.965          0.000048    0.6200    -3.719   \n1          0.9350         0.554   0.413          0.000994    0.1450    -7.800   \n243        0.0730         0.334   0.975          0.269000    0.2910    -3.134   \n169        0.0995         0.493   0.956          0.000295    0.8300    -4.257   \n162        0.6320         0.657   0.517          0.001390    0.2410    -7.250   \n186        0.6710         0.532   0.858          0.000007    0.4880   -11.190   \n\n     speechiness    tempo  valence British_charts         Date UK_peak_pos  \\\n244       0.0762  107.690    0.939            Yes            -           -   \n131          NaN      NaN      NaN            Yes            -           -   \n175       0.0342  110.531    0.731            Yes            -           -   \n242       0.0644  102.591    0.726            Yes            -           -   \n187       0.1050  138.312    0.637            Yes  31.05. 1986          80   \n1         0.0276  105.219    0.414            Yes            -           -   \n243       0.1880  170.035    0.620            Yes            -           -   \n169       0.0429  137.091    0.831            Yes  02.09. 1989          36   \n162       0.0417   81.915    0.574            Yes            -           -   \n186       0.2230  114.351    0.590            Yes            -           -   \n\n    WoC Weeks_at_no_1 US_cash US_rec_world AUS  US GER NLD FRA SWI CAN POL  \\\n244   -             -       -            -   -   -   -   -   -   -   -   -   \n131   -             -      18           11   -  16  36  17   3   -  12   -   \n175   -             -       -            -   -   -   -   -   -   -   -   -   \n242   -             -       -            -   -   -   -   -   -   -   -   -   \n187  02            00       -            -  34  28   -  50   -   -  26   -   \n1     -             -       -            -   -   -   -   -   -   -   -   -   \n243   -             -       -            -   -   -   -   -   -   -   -   -   \n169  05            00       -            -  25   5  20   9  41  24   1  39   \n162   -             -       -            -   -   -   -   -   -   -   -   -   \n186   -             -       -            -   -   -   -   -   -   -   -   -   \n\n    Certification  \n244             -  \n131             -  \n175             -  \n242             -  \n187             -  \n1               -  \n243             -  \n169             -  \n162             -  \n186             -  ",
      "text/html": "<div>\n<style scoped>\n    .dataframe tbody tr th:only-of-type {\n        vertical-align: middle;\n    }\n\n    .dataframe tbody tr th {\n        vertical-align: top;\n    }\n\n    .dataframe thead th {\n        text-align: right;\n    }\n</style>\n<table border=\"1\" class=\"dataframe\">\n  <thead>\n    <tr style=\"text-align: right;\">\n      <th></th>\n      <th>Title</th>\n      <th>Year_recorded</th>\n      <th>Year_released</th>\n      <th>Album</th>\n      <th>Album_type</th>\n      <th>Record_label</th>\n      <th>Track_number</th>\n      <th>Duration</th>\n      <th>Songwriter</th>\n      <th>Lead_vocal</th>\n      <th>acousticness</th>\n      <th>danceability</th>\n      <th>energy</th>\n      <th>instrumentalness</th>\n      <th>liveness</th>\n      <th>loudness</th>\n      <th>speechiness</th>\n      <th>tempo</th>\n      <th>valence</th>\n      <th>British_charts</th>\n      <th>Date</th>\n      <th>UK_peak_pos</th>\n      <th>WoC</th>\n      <th>Weeks_at_no_1</th>\n      <th>US_cash</th>\n      <th>US_rec_world</th>\n      <th>AUS</th>\n      <th>US</th>\n      <th>GER</th>\n      <th>NLD</th>\n      <th>FRA</th>\n      <th>SWI</th>\n      <th>CAN</th>\n      <th>POL</th>\n      <th>Certification</th>\n    </tr>\n  </thead>\n  <tbody>\n    <tr>\n      <th>244</th>\n      <td>Surprise, Surprise</td>\n      <td>1964</td>\n      <td>1965</td>\n      <td>The Rolling Stones, Now!</td>\n      <td>Studio</td>\n      <td>ABKCO Records</td>\n      <td>12.0</td>\n      <td>2:31</td>\n      <td>Jagger/Richards</td>\n      <td>Jagger</td>\n      <td>0.0300</td>\n      <td>0.750</td>\n      <td>0.882</td>\n      <td>0.000005</td>\n      <td>0.1090</td>\n      <td>-8.842</td>\n      <td>0.0762</td>\n      <td>107.690</td>\n      <td>0.939</td>\n      <td>Yes</td>\n      <td>-</td>\n      <td>-</td>\n      <td>-</td>\n      <td>-</td>\n      <td>-</td>\n      <td>-</td>\n      <td>-</td>\n      <td>-</td>\n      <td>-</td>\n      <td>-</td>\n      <td>-</td>\n      <td>-</td>\n      <td>-</td>\n      <td>-</td>\n      <td>-</td>\n    </tr>\n    <tr>\n      <th>131</th>\n      <td>It's Only Rock 'N Roll (But I Like It)</td>\n      <td>1973</td>\n      <td>1974</td>\n      <td>Love You Live</td>\n      <td>Live</td>\n      <td>Virgin</td>\n      <td>5.0</td>\n      <td>4:29</td>\n      <td>Jagger/Richards</td>\n      <td>Jagger</td>\n      <td>NaN</td>\n      <td>NaN</td>\n      <td>NaN</td>\n      <td>NaN</td>\n      <td>NaN</td>\n      <td>NaN</td>\n      <td>NaN</td>\n      <td>NaN</td>\n      <td>NaN</td>\n      <td>Yes</td>\n      <td>-</td>\n      <td>-</td>\n      <td>-</td>\n      <td>-</td>\n      <td>18</td>\n      <td>11</td>\n      <td>-</td>\n      <td>16</td>\n      <td>36</td>\n      <td>17</td>\n      <td>3</td>\n      <td>-</td>\n      <td>12</td>\n      <td>-</td>\n      <td>-</td>\n    </tr>\n    <tr>\n      <th>175</th>\n      <td>My Girl</td>\n      <td>1965</td>\n      <td>1967</td>\n      <td>Flowers</td>\n      <td>Compilation</td>\n      <td>ABKCO Records</td>\n      <td>6.0</td>\n      <td>2:39</td>\n      <td>Smokey Robinson/Ronald White</td>\n      <td>Jagger</td>\n      <td>0.6790</td>\n      <td>0.589</td>\n      <td>0.567</td>\n      <td>0.175000</td>\n      <td>0.3350</td>\n      <td>-7.774</td>\n      <td>0.0342</td>\n      <td>110.531</td>\n      <td>0.731</td>\n      <td>Yes</td>\n      <td>-</td>\n      <td>-</td>\n      <td>-</td>\n      <td>-</td>\n      <td>-</td>\n      <td>-</td>\n      <td>-</td>\n      <td>-</td>\n      <td>-</td>\n      <td>-</td>\n      <td>-</td>\n      <td>-</td>\n      <td>-</td>\n      <td>-</td>\n      <td>-</td>\n    </tr>\n    <tr>\n      <th>242</th>\n      <td>Suck On The Jugular</td>\n      <td>1993</td>\n      <td>1994</td>\n      <td>Voodoo Lounge</td>\n      <td>Studio</td>\n      <td>Virgin</td>\n      <td>11.0</td>\n      <td>4:27</td>\n      <td>Jagger/Richards</td>\n      <td>Jagger</td>\n      <td>0.0974</td>\n      <td>0.477</td>\n      <td>0.896</td>\n      <td>0.052600</td>\n      <td>0.0521</td>\n      <td>-5.999</td>\n      <td>0.0644</td>\n      <td>102.591</td>\n      <td>0.726</td>\n      <td>Yes</td>\n      <td>-</td>\n      <td>-</td>\n      <td>-</td>\n      <td>-</td>\n      <td>-</td>\n      <td>-</td>\n      <td>-</td>\n      <td>-</td>\n      <td>-</td>\n      <td>-</td>\n      <td>-</td>\n      <td>-</td>\n      <td>-</td>\n      <td>-</td>\n      <td>-</td>\n    </tr>\n    <tr>\n      <th>187</th>\n      <td>One Hit (To The Body)</td>\n      <td>1985</td>\n      <td>1986</td>\n      <td>Dirty Work</td>\n      <td>Studio</td>\n      <td>Virgin</td>\n      <td>1.0</td>\n      <td>4:44</td>\n      <td>Jagger/Richards</td>\n      <td>Jagger</td>\n      <td>0.1470</td>\n      <td>0.587</td>\n      <td>0.965</td>\n      <td>0.000048</td>\n      <td>0.6200</td>\n      <td>-3.719</td>\n      <td>0.1050</td>\n      <td>138.312</td>\n      <td>0.637</td>\n      <td>Yes</td>\n      <td>31.05. 1986</td>\n      <td>80</td>\n      <td>02</td>\n      <td>00</td>\n      <td>-</td>\n      <td>-</td>\n      <td>34</td>\n      <td>28</td>\n      <td>-</td>\n      <td>50</td>\n      <td>-</td>\n      <td>-</td>\n      <td>26</td>\n      <td>-</td>\n      <td>-</td>\n    </tr>\n    <tr>\n      <th>1</th>\n      <td>100 Years Ago</td>\n      <td>1972</td>\n      <td>1973</td>\n      <td>Goats Head Soup</td>\n      <td>Studio</td>\n      <td>Interscope / Polydor</td>\n      <td>2.0</td>\n      <td>3:58</td>\n      <td>Jagger/Richards</td>\n      <td>Jagger</td>\n      <td>0.9350</td>\n      <td>0.554</td>\n      <td>0.413</td>\n      <td>0.000994</td>\n      <td>0.1450</td>\n      <td>-7.800</td>\n      <td>0.0276</td>\n      <td>105.219</td>\n      <td>0.414</td>\n      <td>Yes</td>\n      <td>-</td>\n      <td>-</td>\n      <td>-</td>\n      <td>-</td>\n      <td>-</td>\n      <td>-</td>\n      <td>-</td>\n      <td>-</td>\n      <td>-</td>\n      <td>-</td>\n      <td>-</td>\n      <td>-</td>\n      <td>-</td>\n      <td>-</td>\n      <td>-</td>\n    </tr>\n    <tr>\n      <th>243</th>\n      <td>Summer Romance</td>\n      <td>1979</td>\n      <td>1980</td>\n      <td>Emotional Rescue</td>\n      <td>Studio</td>\n      <td>Universal</td>\n      <td>2.0</td>\n      <td>3:16</td>\n      <td>Jagger/Richards</td>\n      <td>Jagger</td>\n      <td>0.0730</td>\n      <td>0.334</td>\n      <td>0.975</td>\n      <td>0.269000</td>\n      <td>0.2910</td>\n      <td>-3.134</td>\n      <td>0.1880</td>\n      <td>170.035</td>\n      <td>0.620</td>\n      <td>Yes</td>\n      <td>-</td>\n      <td>-</td>\n      <td>-</td>\n      <td>-</td>\n      <td>-</td>\n      <td>-</td>\n      <td>-</td>\n      <td>-</td>\n      <td>-</td>\n      <td>-</td>\n      <td>-</td>\n      <td>-</td>\n      <td>-</td>\n      <td>-</td>\n      <td>-</td>\n    </tr>\n    <tr>\n      <th>169</th>\n      <td>Mixed Emotions</td>\n      <td>1989</td>\n      <td>1989</td>\n      <td>Steel Wheels</td>\n      <td>Studio</td>\n      <td>Virgin</td>\n      <td>2.0</td>\n      <td>4:38</td>\n      <td>Jagger/Richards</td>\n      <td>Jagger</td>\n      <td>0.0995</td>\n      <td>0.493</td>\n      <td>0.956</td>\n      <td>0.000295</td>\n      <td>0.8300</td>\n      <td>-4.257</td>\n      <td>0.0429</td>\n      <td>137.091</td>\n      <td>0.831</td>\n      <td>Yes</td>\n      <td>02.09. 1989</td>\n      <td>36</td>\n      <td>05</td>\n      <td>00</td>\n      <td>-</td>\n      <td>-</td>\n      <td>25</td>\n      <td>5</td>\n      <td>20</td>\n      <td>9</td>\n      <td>41</td>\n      <td>24</td>\n      <td>1</td>\n      <td>39</td>\n      <td>-</td>\n    </tr>\n    <tr>\n      <th>162</th>\n      <td>Melody</td>\n      <td>1975</td>\n      <td>1976</td>\n      <td>Black and Blue</td>\n      <td>Studio</td>\n      <td>Virgin</td>\n      <td>6.0</td>\n      <td>5:50</td>\n      <td>Jagger/Richards</td>\n      <td>Jagger</td>\n      <td>0.6320</td>\n      <td>0.657</td>\n      <td>0.517</td>\n      <td>0.001390</td>\n      <td>0.2410</td>\n      <td>-7.250</td>\n      <td>0.0417</td>\n      <td>81.915</td>\n      <td>0.574</td>\n      <td>Yes</td>\n      <td>-</td>\n      <td>-</td>\n      <td>-</td>\n      <td>-</td>\n      <td>-</td>\n      <td>-</td>\n      <td>-</td>\n      <td>-</td>\n      <td>-</td>\n      <td>-</td>\n      <td>-</td>\n      <td>-</td>\n      <td>-</td>\n      <td>-</td>\n      <td>-</td>\n    </tr>\n    <tr>\n      <th>186</th>\n      <td>On With The Show</td>\n      <td>1967</td>\n      <td>1967</td>\n      <td>Their Satanic Majesties Request</td>\n      <td>Studio</td>\n      <td>ABKCO Records</td>\n      <td>10.0</td>\n      <td>3:39</td>\n      <td>Jagger/Richards</td>\n      <td>Jagger</td>\n      <td>0.6710</td>\n      <td>0.532</td>\n      <td>0.858</td>\n      <td>0.000007</td>\n      <td>0.4880</td>\n      <td>-11.190</td>\n      <td>0.2230</td>\n      <td>114.351</td>\n      <td>0.590</td>\n      <td>Yes</td>\n      <td>-</td>\n      <td>-</td>\n      <td>-</td>\n      <td>-</td>\n      <td>-</td>\n      <td>-</td>\n      <td>-</td>\n      <td>-</td>\n      <td>-</td>\n      <td>-</td>\n      <td>-</td>\n      <td>-</td>\n      <td>-</td>\n      <td>-</td>\n      <td>-</td>\n    </tr>\n  </tbody>\n</table>\n</div>"
     },
     "execution_count": 56,
     "metadata": {},
     "output_type": "execute_result"
    }
   ],
   "source": [
    "songs.sample(10)"
   ],
   "metadata": {
    "collapsed": false,
    "ExecuteTime": {
     "end_time": "2023-11-10T13:42:07.341547200Z",
     "start_time": "2023-11-10T13:42:07.206349300Z"
    }
   }
  },
  {
   "cell_type": "markdown",
   "source": [
    "What are the songs that have *some* missing values? \n",
    "Use, e.g., `songs.isna.sum()` and show the type of the result."
   ],
   "metadata": {
    "collapsed": false
   }
  },
  {
   "cell_type": "code",
   "execution_count": 133,
   "outputs": [
    {
     "data": {
      "text/plain": "Title                0\nYear_recorded        0\nYear_released        0\nAlbum                0\nAlbum_type           0\nRecord_label         0\nTrack_number         4\nDuration             4\nSongwriter           0\nLead_vocal           0\nacousticness        16\ndanceability        16\nenergy              16\ninstrumentalness    16\nliveness            16\nloudness            16\nspeechiness         16\ntempo               16\nvalence             16\nBritish_charts       0\nDate                 0\nUK_peak_pos          0\nWoC                  0\nWeeks_at_no_1        0\nUS_cash              0\nUS_rec_world         0\nAUS                  0\nUS                   0\nGER                  0\nNLD                  0\nFRA                  0\nSWI                  0\nCAN                  0\nPOL                  0\nCertification        0\ndtype: int64"
     },
     "metadata": {},
     "output_type": "display_data"
    },
    {
     "data": {
      "text/plain": "pandas.core.series.Series"
     },
     "metadata": {},
     "output_type": "display_data"
    }
   ],
   "source": [
    "display(songs.isna().sum())\n",
    "display(type(songs.isna().sum()))           # pd.Series"
   ],
   "metadata": {
    "collapsed": false,
    "ExecuteTime": {
     "end_time": "2023-11-10T19:11:38.014204700Z",
     "start_time": "2023-11-10T19:11:37.901368400Z"
    }
   }
  },
  {
   "cell_type": "markdown",
   "source": [
    "From the `pd.Series` object retrieved in the previous step, select the elements that have the values > 0 (i.e., the names of the columns that have some `NaN` values).\n",
    "Use masking to create the index of such elements."
   ],
   "metadata": {
    "collapsed": false
   }
  },
  {
   "cell_type": "code",
   "execution_count": 134,
   "outputs": [
    {
     "data": {
      "text/plain": "Title               False\nYear_recorded       False\nYear_released       False\nAlbum               False\nAlbum_type          False\nRecord_label        False\nTrack_number         True\nDuration             True\nSongwriter          False\nLead_vocal          False\nacousticness         True\ndanceability         True\nenergy               True\ninstrumentalness     True\nliveness             True\nloudness             True\nspeechiness          True\ntempo                True\nvalence              True\nBritish_charts      False\nDate                False\nUK_peak_pos         False\nWoC                 False\nWeeks_at_no_1       False\nUS_cash             False\nUS_rec_world        False\nAUS                 False\nUS                  False\nGER                 False\nNLD                 False\nFRA                 False\nSWI                 False\nCAN                 False\nPOL                 False\nCertification       False\ndtype: bool"
     },
     "metadata": {},
     "output_type": "display_data"
    },
    {
     "data": {
      "text/plain": "pandas.core.series.Series"
     },
     "metadata": {},
     "output_type": "display_data"
    },
    {
     "data": {
      "text/plain": "Index(['Title', 'Year_recorded', 'Year_released', 'Album', 'Album_type',\n       'Record_label', 'Track_number', 'Duration', 'Songwriter', 'Lead_vocal',\n       'acousticness', 'danceability', 'energy', 'instrumentalness',\n       'liveness', 'loudness', 'speechiness', 'tempo', 'valence',\n       'British_charts', 'Date', 'UK_peak_pos', 'WoC', 'Weeks_at_no_1',\n       'US_cash', 'US_rec_world', 'AUS', 'US', 'GER', 'NLD', 'FRA', 'SWI',\n       'CAN', 'POL', 'Certification'],\n      dtype='object')"
     },
     "metadata": {},
     "output_type": "display_data"
    },
    {
     "data": {
      "text/plain": "Index(['Track_number', 'Duration', 'acousticness', 'danceability', 'energy',\n       'instrumentalness', 'liveness', 'loudness', 'speechiness', 'tempo',\n       'valence'],\n      dtype='object')"
     },
     "metadata": {},
     "output_type": "display_data"
    }
   ],
   "source": [
    "i = songs.isna().sum() > 0\n",
    "display(i)\n",
    "display(type(i))                            # pd.Series\n",
    "\n",
    "display(songs.isna().sum().index)\n",
    "display(songs.isna().sum().index[i])\n",
    "# display(songs.isna().sum().values)\n",
    "# display(type(songs.isna().sum().values))"
   ],
   "metadata": {
    "collapsed": false,
    "ExecuteTime": {
     "end_time": "2023-11-10T19:11:56.881676Z",
     "start_time": "2023-11-10T19:11:56.734723800Z"
    }
   }
  },
  {
   "cell_type": "markdown",
   "source": [
    "How many `NaN`s are there in each column that has `NaN`s?"
   ],
   "metadata": {
    "collapsed": false
   }
  },
  {
   "cell_type": "code",
   "execution_count": 135,
   "outputs": [
    {
     "data": {
      "text/plain": "Track_number         4\nDuration             4\nacousticness        16\ndanceability        16\nenergy              16\ninstrumentalness    16\nliveness            16\nloudness            16\nspeechiness         16\ntempo               16\nvalence             16\ndtype: int64"
     },
     "execution_count": 135,
     "metadata": {},
     "output_type": "execute_result"
    }
   ],
   "source": [
    "columns_with_NaNs = songs.isna().sum()[i]\n",
    "columns_with_NaNs"
   ],
   "metadata": {
    "collapsed": false,
    "ExecuteTime": {
     "end_time": "2023-11-10T19:12:17.506658800Z",
     "start_time": "2023-11-10T19:12:17.405107400Z"
    }
   }
  },
  {
   "cell_type": "markdown",
   "source": [
    "What are the songs with missing `Duration` values?"
   ],
   "metadata": {
    "collapsed": false
   }
  },
  {
   "cell_type": "markdown",
   "source": [
    "Using `isna()`, `loc[]`, `iloc[]`, `len()` and `index`."
   ],
   "metadata": {
    "collapsed": false
   }
  },
  {
   "cell_type": "markdown",
   "source": [
    "Calling `loc[]` effectively means *creating a subset* (typically based on a relational or logical expression over one or more columns of the dataset). In other words, `loc[]` creates a *slice* of the dataframe, so the type of the result is `<pd.df>`.\n",
    "\n",
    "Note that `loc[]` works as `loc[<selected rows>, <selected columns>]`. The indices `<selected rows>` and `<selected columns>` can be created either directly in `loc[]` or beforehand.\n",
    "\n",
    "If defining the `<selected rows>` index to be used with `loc[]` subsequently, it is a good practice to define it as a boolean *mask* over a single column, like `<pd.df>['<column>'].isna()`, or as a logical expression in which each chunk is a relational expression over a single column, e.g. `<pd.df>['<column1>'].isna() & <pd.df>['<column2>'] < 23`. The result will be a subset of the original dataframe (i.e., another `<pd.df>`)."
   ],
   "metadata": {
    "collapsed": false
   }
  },
  {
   "cell_type": "markdown",
   "source": [
    "Defining the relevant index with a statement like `<pd.df>.loc[<pd.df>['<column>'].isna()].index` is a good starting point when using `iloc[]` subsequently.\n",
    "\n",
    "If using `iloc[]`, don't forget the `.index` chunk in the statement used to create the index (such as `<pd.df>.loc[<pd.df>['<column>'].isna()].index`). Without it, the result is another `<pd.df>`."
   ],
   "metadata": {
    "collapsed": false
   }
  },
  {
   "cell_type": "code",
   "execution_count": 171,
   "outputs": [
    {
     "data": {
      "text/plain": "Int64Index([50, 177, 205, 283], dtype='int64')"
     },
     "metadata": {},
     "output_type": "display_data"
    },
    {
     "data": {
      "text/plain": "                        Title                Album Duration\n50                   Corinna           No Security      NaN\n177      The Nearness Of You            Live Licks      NaN\n205             Rock Me Baby            Live Licks      NaN\n283  Who's Been Sleeping Here  Between the Buttons      NaN",
      "text/html": "<div>\n<style scoped>\n    .dataframe tbody tr th:only-of-type {\n        vertical-align: middle;\n    }\n\n    .dataframe tbody tr th {\n        vertical-align: top;\n    }\n\n    .dataframe thead th {\n        text-align: right;\n    }\n</style>\n<table border=\"1\" class=\"dataframe\">\n  <thead>\n    <tr style=\"text-align: right;\">\n      <th></th>\n      <th>Title</th>\n      <th>Album</th>\n      <th>Duration</th>\n    </tr>\n  </thead>\n  <tbody>\n    <tr>\n      <th>50</th>\n      <td>Corinna</td>\n      <td>No Security</td>\n      <td>NaN</td>\n    </tr>\n    <tr>\n      <th>177</th>\n      <td>The Nearness Of You</td>\n      <td>Live Licks</td>\n      <td>NaN</td>\n    </tr>\n    <tr>\n      <th>205</th>\n      <td>Rock Me Baby</td>\n      <td>Live Licks</td>\n      <td>NaN</td>\n    </tr>\n    <tr>\n      <th>283</th>\n      <td>Who's Been Sleeping Here</td>\n      <td>Between the Buttons</td>\n      <td>NaN</td>\n    </tr>\n  </tbody>\n</table>\n</div>"
     },
     "metadata": {},
     "output_type": "display_data"
    },
    {
     "data": {
      "text/plain": "                        Title                Album Duration\n50                   Corinna           No Security      NaN\n177      The Nearness Of You            Live Licks      NaN\n205             Rock Me Baby            Live Licks      NaN\n283  Who's Been Sleeping Here  Between the Buttons      NaN",
      "text/html": "<div>\n<style scoped>\n    .dataframe tbody tr th:only-of-type {\n        vertical-align: middle;\n    }\n\n    .dataframe tbody tr th {\n        vertical-align: top;\n    }\n\n    .dataframe thead th {\n        text-align: right;\n    }\n</style>\n<table border=\"1\" class=\"dataframe\">\n  <thead>\n    <tr style=\"text-align: right;\">\n      <th></th>\n      <th>Title</th>\n      <th>Album</th>\n      <th>Duration</th>\n    </tr>\n  </thead>\n  <tbody>\n    <tr>\n      <th>50</th>\n      <td>Corinna</td>\n      <td>No Security</td>\n      <td>NaN</td>\n    </tr>\n    <tr>\n      <th>177</th>\n      <td>The Nearness Of You</td>\n      <td>Live Licks</td>\n      <td>NaN</td>\n    </tr>\n    <tr>\n      <th>205</th>\n      <td>Rock Me Baby</td>\n      <td>Live Licks</td>\n      <td>NaN</td>\n    </tr>\n    <tr>\n      <th>283</th>\n      <td>Who's Been Sleeping Here</td>\n      <td>Between the Buttons</td>\n      <td>NaN</td>\n    </tr>\n  </tbody>\n</table>\n</div>"
     },
     "metadata": {},
     "output_type": "display_data"
    }
   ],
   "source": [
    "# Define i_iloc, the index to be used with iloc[]\n",
    "# iloc[] can be used conveniently here if the relevant index is already defined with <pd.df>.loc[<pd.df>['<column>'].isna()].index;\n",
    "# remember that the second index in iloc[] must be a number too (the relevant column index)\n",
    "i = songs.Duration.isna() > 0\n",
    "i_iloc = songs.loc[i].index\n",
    "display(i_iloc)\n",
    "display(songs.iloc[i_iloc, [0, 3, 7]])\n",
    "\n",
    "# Define i_loc, the index (boolean mask) to be used with loc[]\n",
    "i_loc = songs.Duration.isna() > 0\n",
    "display(songs.loc[i_loc, ['Title', 'Album', 'Duration']])\n",
    "\n",
    "# display(songs.loc[i_loc.index, ['Title', 'Album']])\n",
    "# display(songs.iloc[i_iloc, [0, 2]])"
   ],
   "metadata": {
    "collapsed": false,
    "ExecuteTime": {
     "end_time": "2023-11-10T20:52:06.105964100Z",
     "start_time": "2023-11-10T20:52:05.972172Z"
    }
   }
  },
  {
   "cell_type": "markdown",
   "source": [
    "Replace `NaN` values in `Duration` with 'No' (these songs have not appeared on any of the official albums)."
   ],
   "metadata": {
    "collapsed": false
   }
  },
  {
   "cell_type": "code",
   "execution_count": 172,
   "outputs": [
    {
     "data": {
      "text/plain": "                        Title                Album Duration\n50                   Corinna           No Security       No\n177      The Nearness Of You            Live Licks       No\n205             Rock Me Baby            Live Licks       No\n283  Who's Been Sleeping Here  Between the Buttons       No",
      "text/html": "<div>\n<style scoped>\n    .dataframe tbody tr th:only-of-type {\n        vertical-align: middle;\n    }\n\n    .dataframe tbody tr th {\n        vertical-align: top;\n    }\n\n    .dataframe thead th {\n        text-align: right;\n    }\n</style>\n<table border=\"1\" class=\"dataframe\">\n  <thead>\n    <tr style=\"text-align: right;\">\n      <th></th>\n      <th>Title</th>\n      <th>Album</th>\n      <th>Duration</th>\n    </tr>\n  </thead>\n  <tbody>\n    <tr>\n      <th>50</th>\n      <td>Corinna</td>\n      <td>No Security</td>\n      <td>No</td>\n    </tr>\n    <tr>\n      <th>177</th>\n      <td>The Nearness Of You</td>\n      <td>Live Licks</td>\n      <td>No</td>\n    </tr>\n    <tr>\n      <th>205</th>\n      <td>Rock Me Baby</td>\n      <td>Live Licks</td>\n      <td>No</td>\n    </tr>\n    <tr>\n      <th>283</th>\n      <td>Who's Been Sleeping Here</td>\n      <td>Between the Buttons</td>\n      <td>No</td>\n    </tr>\n  </tbody>\n</table>\n</div>"
     },
     "execution_count": 172,
     "metadata": {},
     "output_type": "execute_result"
    }
   ],
   "source": [
    "# Make the replacement and display it\n",
    "# songs.Duration\n",
    "songs.loc[i_loc, 'Duration'] = 'No'\n",
    "songs.loc[i_loc, ['Title', 'Album', 'Duration']]\n",
    "# songs.Duration"
   ],
   "metadata": {
    "collapsed": false,
    "ExecuteTime": {
     "end_time": "2023-11-10T20:52:11.195331Z",
     "start_time": "2023-11-10T20:52:11.067351900Z"
    }
   }
  },
  {
   "cell_type": "markdown",
   "source": [
    "Double-check the missing values now:"
   ],
   "metadata": {
    "collapsed": false
   }
  },
  {
   "cell_type": "code",
   "execution_count": 142,
   "outputs": [
    {
     "data": {
      "text/plain": "0"
     },
     "execution_count": 142,
     "metadata": {},
     "output_type": "execute_result"
    }
   ],
   "source": [
    "# Use <pd.df>.isna().sum() or sb.heatmap(<pd.df>.isna(), cmap='...')\n",
    "songs.Duration.isna().sum()"
   ],
   "metadata": {
    "collapsed": false,
    "ExecuteTime": {
     "end_time": "2023-11-10T19:15:39.840628500Z",
     "start_time": "2023-11-10T19:15:39.716229500Z"
    }
   }
  },
  {
   "cell_type": "markdown",
   "source": [
    "How many songs from The Rolling Stones early years are there?"
   ],
   "metadata": {
    "collapsed": false
   }
  },
  {
   "cell_type": "code",
   "execution_count": 102,
   "outputs": [
    {
     "data": {
      "text/plain": "                          Title  Year_released\n0        19th Nervous Breakdown           1966\n2    2000 Light Years From Home           1967\n3                      2000 Man           1967\n4    2120 South Michigan Avenue           1964\n9                  All Sold Out           1967\n..                          ...            ...\n280                What A Shame           1965\n283    Who's Been Sleeping Here           1967\n289          Yesterday's Papers           1967\n290          You Better Move On           1964\n292          You Can't Catch Me           1965\n\n[91 rows x 2 columns]",
      "text/html": "<div>\n<style scoped>\n    .dataframe tbody tr th:only-of-type {\n        vertical-align: middle;\n    }\n\n    .dataframe tbody tr th {\n        vertical-align: top;\n    }\n\n    .dataframe thead th {\n        text-align: right;\n    }\n</style>\n<table border=\"1\" class=\"dataframe\">\n  <thead>\n    <tr style=\"text-align: right;\">\n      <th></th>\n      <th>Title</th>\n      <th>Year_released</th>\n    </tr>\n  </thead>\n  <tbody>\n    <tr>\n      <th>0</th>\n      <td>19th Nervous Breakdown</td>\n      <td>1966</td>\n    </tr>\n    <tr>\n      <th>2</th>\n      <td>2000 Light Years From Home</td>\n      <td>1967</td>\n    </tr>\n    <tr>\n      <th>3</th>\n      <td>2000 Man</td>\n      <td>1967</td>\n    </tr>\n    <tr>\n      <th>4</th>\n      <td>2120 South Michigan Avenue</td>\n      <td>1964</td>\n    </tr>\n    <tr>\n      <th>9</th>\n      <td>All Sold Out</td>\n      <td>1967</td>\n    </tr>\n    <tr>\n      <th>...</th>\n      <td>...</td>\n      <td>...</td>\n    </tr>\n    <tr>\n      <th>280</th>\n      <td>What A Shame</td>\n      <td>1965</td>\n    </tr>\n    <tr>\n      <th>283</th>\n      <td>Who's Been Sleeping Here</td>\n      <td>1967</td>\n    </tr>\n    <tr>\n      <th>289</th>\n      <td>Yesterday's Papers</td>\n      <td>1967</td>\n    </tr>\n    <tr>\n      <th>290</th>\n      <td>You Better Move On</td>\n      <td>1964</td>\n    </tr>\n    <tr>\n      <th>292</th>\n      <td>You Can't Catch Me</td>\n      <td>1965</td>\n    </tr>\n  </tbody>\n</table>\n<p>91 rows × 2 columns</p>\n</div>"
     },
     "execution_count": 102,
     "metadata": {},
     "output_type": "execute_result"
    }
   ],
   "source": [
    "# Define early years using a list comprehension\n",
    "early_years = [y for y in songs.Year_released if 1962 <= y <= 1967]\n",
    "# Display the songs from the early years using a combination of <pd.df>.loc[] and isin()\n",
    "songs.loc[songs.Year_released.isin(early_years), ['Title', 'Year_released']]"
   ],
   "metadata": {
    "collapsed": false,
    "ExecuteTime": {
     "end_time": "2023-11-10T17:20:02.501108500Z",
     "start_time": "2023-11-10T17:20:02.337875500Z"
    }
   }
  },
  {
   "cell_type": "markdown",
   "source": [
    "### Grouping and sorting data\n",
    "- `<pd.df>['<column>'].unique()`, `<pd.df>['<column>'].nunique()`\n",
    "- `<pd.df>.<column>.groupby()`, `<pd.df>.groupby('<column>')`, `<pd.df>.groupby('<column>').get_group(<value>)`\n",
    "- `<pd.df>['<column>'].value_counts()`, `<pd.df>['<column>'].value_counts().sort_index()`, `<pd.df>['<column>'].value_counts().sort_index(inplace=True)`\n",
    "- `<pd.df>.sort_values(by='<column name>', ascending=False/True)`\n",
    "- `<pd.df>.groupby('<column>').<another column>.<f()>.sort_values(ascending=False)` (aggregate using function `f()`, e.g. `mean()`)\n",
    "- `<pd.df>.groupby('<column>').<another column>.agg(['<f1 name>', '<f2 name>', ...])` (aggregate using multiple functions, e.g. `mean()`, `count()`,...)\n",
    "\n",
    "If `sort_values()` is used after `agg([<'f1 name>', '<f2 name>', ...])` (`agg(['<f1 name>', '<f2 name>', ...]).sort_values(by='<f name>', ascending=False)`), it must be passed one positional argument (`by='<f name>'`) before the optional `ascending=False`.\n"
   ],
   "metadata": {
    "collapsed": false
   }
  },
  {
   "cell_type": "markdown",
   "source": [
    "How many unique values for `Year_released` are there in the dataset (`<pd.df>['<column>'].unique()`, `<pd.df>['<column>'].nunique()`)?"
   ],
   "metadata": {
    "collapsed": false
   }
  },
  {
   "cell_type": "code",
   "execution_count": 165,
   "outputs": [
    {
     "data": {
      "text/plain": "30"
     },
     "execution_count": 165,
     "metadata": {},
     "output_type": "execute_result"
    }
   ],
   "source": [
    "songs.Year_released.nunique()"
   ],
   "metadata": {
    "collapsed": false,
    "ExecuteTime": {
     "end_time": "2023-11-10T20:46:16.680627300Z",
     "start_time": "2023-11-10T20:46:16.572894600Z"
    }
   }
  },
  {
   "cell_type": "markdown",
   "source": [
    "Group the songs in the dataset by the year of release (`<pd.df>.<column>.groupby()`, `<pd.df>.groupby('<column>')`, `<pd.df>.groupby('<column>').get_group(<value>)`). The result can be `songs_by_year`. Display it, show its type, and explore its individual groups and their types."
   ],
   "metadata": {
    "collapsed": false
   }
  },
  {
   "cell_type": "code",
   "execution_count": 166,
   "outputs": [
    {
     "data": {
      "text/plain": "<pandas.core.groupby.generic.DataFrameGroupBy object at 0x00000214517E8CD0>"
     },
     "metadata": {},
     "output_type": "display_data"
    },
    {
     "data": {
      "text/plain": "pandas.core.groupby.generic.DataFrameGroupBy"
     },
     "metadata": {},
     "output_type": "display_data"
    },
    {
     "data": {
      "text/plain": "                                            Title  Year_recorded  \\\n17                                 As Tears Go By           1965   \n30                             Blue Turns To Grey           1965   \n54                                      Cry To Me           1965   \n63                                 Down Home Girl           1964   \n65                          Down The Road A Piece           1964   \n70               Everybody Needs Somebody To Love           1964   \n80                            Get Off Of My Cloud           1965   \n84                                     Good Times           1965   \n86                                 Gotta Get Away           1965   \n103                                    Hitch Hike           1965   \n111                          I Can't Be Satisfied           1964   \n117                                  I'm Alright            1965   \n118                                      I'm Free           1965   \n119                                I'm Moving On            1965   \n154                         Look What You've Done           1964   \n164                                  Mercy, Mercy           1964   \n183                                  Off The Hook           1964   \n184          Oh, Baby (We Got A Good Thing Going)           1964   \n188                                  One More Try           1965   \n192                              Pain In My Heart           1964   \n195                                Play With Fire           1965   \n216                                 She Said Yeah           1965   \n225                       The Singer Not The Song           1965   \n235                        The Spider And The Fly           1965   \n244                            Surprise, Surprise           1964   \n253                             Talkin' About You           1965   \n255                  That's How Strong My Love Is           1965   \n273  The Under Assistant West Coast Promotion Man           1965   \n280                                  What A Shame           1964   \n292                            You Can't Catch Me           1964   \n\n     Year_released                                  Album Album_type  \\\n17            1965  December's Children (And Everybody's)     Studio   \n30            1965  December's Children (And Everybody's)     Studio   \n54            1965                       Out of Our Heads     Studio   \n63            1965               The Rolling Stones, Now!     Studio   \n65            1965               The Rolling Stones, Now!     Studio   \n70            1965               The Rolling Stones, Now!     Studio   \n80            1965               Got Live If You Want It!       Live   \n84            1965                       Out of Our Heads     Studio   \n86            1965  December's Children (And Everybody's)     Studio   \n103           1965                       Out of Our Heads     Studio   \n111           1965                The Rolling Stones No.2     Studio   \n117           1965               Got Live If You Want It!       Live   \n118           1965  December's Children (And Everybody's)     Studio   \n119           1965  December's Children (And Everybody's)     Studio   \n154           1965  December's Children (And Everybody's)     Studio   \n164           1965                       Out of Our Heads     Studio   \n183           1965               The Rolling Stones, Now!     Studio   \n184           1965               The Rolling Stones, Now!     Studio   \n188           1965                       Out of Our Heads     Studio   \n192           1965               The Rolling Stones, Now!     Studio   \n195           1965                       Out of Our Heads     Studio   \n216           1965  December's Children (And Everybody's)     Studio   \n225           1965  December's Children (And Everybody's)     Studio   \n235           1965                               Stripped       Live   \n244           1965               The Rolling Stones, Now!     Studio   \n253           1965  December's Children (And Everybody's)     Studio   \n255           1965                       Out of Our Heads     Studio   \n273           1965                       Out of Our Heads     Studio   \n280           1965               The Rolling Stones, Now!     Studio   \n292           1965               The Rolling Stones, Now!     Studio   \n\n                  Record_label  Track_number Duration  \\\n17               ABKCO Records           9.0     2:46   \n30               ABKCO Records          11.0     2:29   \n54               ABKCO Records           8.0     3:09   \n63               ABKCO Records           2.0     4:13   \n65               ABKCO Records           7.0     2:56   \n70               ABKCO Records           1.0     3:00   \n80   ABKCO Records / Universal           2.0     2:54   \n84               ABKCO Records           5.0     1:59   \n86               ABKCO Records          10.0     2:07   \n103              ABKCO Records           2.0     2:26   \n111                      Decca           9.0     3:26   \n117  ABKCO Records / Universal          10.0     2:26   \n118              ABKCO Records           8.0     2:24   \n119              ABKCO Records          12.0     2:13   \n154              ABKCO Records           4.0     2:16   \n164              ABKCO Records           1.0     2:47   \n183              ABKCO Records           8.0     2:35   \n184              ABKCO Records          10.0     2:09   \n188              ABKCO Records          12.0     1:58   \n192              ABKCO Records           9.0     2:12   \n195              ABKCO Records          10.0     2:15   \n216              ABKCO Records           1.0     1:35   \n225              ABKCO Records           5.0     2:23   \n235                     Virgin           5.0     3:28   \n244              ABKCO Records          12.0     2:31   \n253              ABKCO Records           2.0     2:31   \n255              ABKCO Records           4.0     2:25   \n273              ABKCO Records           9.0     3:07   \n280              ABKCO Records           5.0     3:06   \n292              ABKCO Records           3.0     3:40   \n\n                                            Songwriter        Lead_vocal  \\\n17                         Jagger/Richards/Loog Oldham            Jagger   \n30                                     Jagger/Richards            Jagger   \n54                                          Bert Berns            Jagger   \n63                           Jerry Leiber/Artie Butler            Jagger   \n65                                            Don Raye            Jagger   \n70               Jerry Wexler/Bert Berns/Solomon Burke            Jagger   \n80                                     Jagger/Richards            Jagger   \n84                                           Sam Cooke            Jagger   \n86                                     Jagger/Richards            Jagger   \n103  Marvin Gaye/William \"Mickey\" Stevenson/Clarenc...            Jagger   \n111                                       Muddy Waters            Jagger   \n117                                         Bo Diddley  Jagger, Richards   \n118                                    Jagger/Richards            Jagger   \n119                                          Hank Snow            Jagger   \n154                                       Muddy Waters            Jagger   \n164                            Don Covay/Ronnie Miller            Jagger   \n183                                    Jagger/Richards            Jagger   \n184                                  Barbara Lynn Ozen            Jagger   \n188                                    Jagger/Richards            Jagger   \n192  Allen Toussaint (under the pseudonym Naomi Nev...            Jagger   \n195                                    Jagger/Richards            Jagger   \n216                           Sonny Bono/Roddy Jackson            Jagger   \n225                                    Jagger/Richards            Jagger   \n235                                    Jagger/Richards            Jagger   \n244                                    Jagger/Richards            Jagger   \n253                                        Chuck Berry            Jagger   \n255                                  Roosevelt Jamison            Jagger   \n273                                   Nanker Phelge[a]            Jagger   \n280                                    Jagger/Richards            Jagger   \n292                                        Chuck Berry            Jagger   \n\n     acousticness  danceability  energy  instrumentalness  liveness  loudness  \\\n17       0.734000         0.375   0.290          0.001690    0.1850   -10.889   \n30       0.177000         0.584   0.678          0.004830    0.1380    -7.665   \n54       0.125000         0.348   0.641          0.189000    0.1700   -10.159   \n63       0.672000         0.675   0.782          0.692000    0.0825    -8.204   \n65            NaN           NaN     NaN               NaN       NaN       NaN   \n70       0.273000         0.531   0.744          0.003180    0.1280    -7.580   \n80       0.032100         0.578   0.879          0.675000    0.0617    -8.676   \n84       0.073600         0.663   0.551          0.001360    0.2070   -10.317   \n86       0.069300         0.666   0.550          0.574000    0.1420    -8.296   \n103      0.340000         0.747   0.835          0.733000    0.0281    -7.040   \n111      0.137000         0.485   0.525          0.014600    0.3140   -10.585   \n117      0.000058         0.426   0.824          0.716000    0.9460    -9.782   \n118      0.197000         0.640   0.443          0.039700    0.4350   -10.652   \n119           NaN           NaN     NaN               NaN       NaN       NaN   \n154      0.493000         0.576   0.569          0.288000    0.5610    -9.475   \n164      0.049500         0.711   0.636          0.674000    0.0806    -9.935   \n183      0.169000         0.632   0.618          0.000002    0.1630   -11.015   \n184           NaN           NaN     NaN               NaN       NaN       NaN   \n188      0.036200         0.522   0.811          0.463000    0.3010    -9.364   \n192      0.618000         0.463   0.555          0.799000    0.1360    -8.952   \n195      0.238000         0.574   0.413          0.000298    0.2420    -9.548   \n216      0.031500         0.421   0.830          0.023400    0.0482    -7.818   \n225      0.046500         0.718   0.589          0.000201    0.0926    -9.169   \n235      0.120000         0.737   0.458          0.182000    0.0713   -10.681   \n244      0.030000         0.750   0.882          0.000005    0.1090    -8.842   \n253      0.114000         0.668   0.637          0.000418    0.0603    -8.337   \n255      0.001510         0.431   0.596          0.004070    0.0642    -9.121   \n273      0.088800         0.575   0.673          0.000003    0.2220    -7.811   \n280      0.165000         0.680   0.565          0.148000    0.1400   -10.131   \n292      0.061100         0.659   0.872          0.003540    0.3480   -11.355   \n\n     speechiness    tempo  valence British_charts         Date UK_peak_pos  \\\n17        0.0293  113.163   0.3440            Yes            -           -   \n30        0.0292  112.703   0.7730            Yes            -           -   \n54        0.0406  182.276   0.5220            Yes            -           -   \n63        0.0276  115.855   0.8350            Yes            -           -   \n65           NaN      NaN      NaN            Yes            -           -   \n70        0.0700  177.862   0.7780            Yes            -           -   \n80        0.0565  126.116   0.8710            Yes  03.11. 1965          01   \n84        0.0391  126.251   0.7480            Yes            -           -   \n86        0.0326  112.947   0.6990            Yes            -           -   \n103       0.0324  123.456   0.9630            Yes            -           -   \n111       0.0616  198.549   0.5830            Yes            -           -   \n117       0.0502  118.944   0.6120            Yes            -           -   \n118       0.0310  118.710   0.5820            Yes            -           -   \n119          NaN      NaN      NaN            Yes            -           -   \n154       0.0507   98.239   0.7420            Yes            -           -   \n164       0.0457  117.807   0.7840            Yes            -           -   \n183       0.0303   76.641   0.8640            Yes            -           -   \n184          NaN      NaN      NaN            Yes            -           -   \n188       0.0700  177.706   0.9100            Yes            -           -   \n192       0.0371  176.858   0.8250            Yes            -           -   \n195       0.0269  108.719   0.0876            Yes            -           -   \n216       0.0631  111.124   0.8350            Yes            -           -   \n225       0.0293  110.783   0.8530            Yes            -           -   \n235       0.0322   98.390   0.9090            Yes            -           -   \n244       0.0762  107.690   0.9390            Yes            -           -   \n253       0.0370  120.292   0.8330            Yes            -           -   \n255       0.0269   96.711   0.5410            Yes            -           -   \n273       0.0347  136.974   0.6250            Yes            -           -   \n280       0.0298  127.011   0.8900            Yes            -           -   \n292       0.0478  104.217   0.8400            Yes            -           -   \n\n    WoC Weeks_at_no_1 US_cash US_rec_world AUS US GER NLD FRA SWI CAN POL  \\\n17    -             -       3            6   -  6   8   -  22   -   1   -   \n30    -             -       -            -   -  -   -   -   -   -   -   -   \n54    -             -       -            -   -  -   -   -   -   -   -   -   \n63    -             -       -            -   -  -   -   -   -   -   -   -   \n65    -             -       -            -   -  -   -   -   -   -   -   -   \n70    -             -       -            -   -  -   -   -   -   -   -   -   \n80   12            03       1            2   -  1   1   3   7   -   1   -   \n84    -             -       -            -   -  -   -   -   -   -   -   -   \n86    -             -       -            -   -  -   -   -   -   -   -   -   \n103   -             -       -            -   -  -   -   -   -   -   -   -   \n111   -             -       -            -   -  -   -   -   -   -   -   -   \n117   -             -       -            -   -  -   -   -   -   -   -   -   \n118   -             -       -            -   -  -   -   -   -   -   -   -   \n119   -             -       -            -   -  -   -   -   -   -   -   -   \n154   -             -       -            -   -  -   -   -   -   -   -   -   \n164   -             -       -            -   -  -   -   -   -   -   -   -   \n183   -             -       -            -   -  -   -   -   -   -   -   -   \n184   -             -       -            -   -  -   -   -   -   -   -   -   \n188   -             -       -            -   -  -   -   -   -   -   -   -   \n192   -             -       -            -   -  -   -   -   -   -   -   -   \n195   -             -       -            -   -  -   -   -   -   -   -   -   \n216   -             -       -            -   -  -   -   -   -   -   -   -   \n225   -             -       -            -   -  -   -   -   -   -   -   -   \n235   -             -       -            -   -  -   -   -   -   -   -   -   \n244   -             -       -            -   -  -   -   -   -   -   -   -   \n253   -             -       -            -   -  -   -   -   -   -   -   -   \n255   -             -       -            -   -  -   -   -   -   -   -   -   \n273   -             -       -            -   -  -   -   -   -   -   -   -   \n280   -             -       -            -   -  -   -   -   -   -   -   -   \n292   -             -       -            -   -  -   -   -   -   -   -   -   \n\n    Certification  \n17              -  \n30              -  \n54              -  \n63              -  \n65              -  \n70              -  \n80              -  \n84              -  \n86              -  \n103             -  \n111             -  \n117             -  \n118             -  \n119             -  \n154             -  \n164             -  \n183             -  \n184             -  \n188             -  \n192             -  \n195             -  \n216             -  \n225             -  \n235             -  \n244             -  \n253             -  \n255             -  \n273             -  \n280             -  \n292             -  ",
      "text/html": "<div>\n<style scoped>\n    .dataframe tbody tr th:only-of-type {\n        vertical-align: middle;\n    }\n\n    .dataframe tbody tr th {\n        vertical-align: top;\n    }\n\n    .dataframe thead th {\n        text-align: right;\n    }\n</style>\n<table border=\"1\" class=\"dataframe\">\n  <thead>\n    <tr style=\"text-align: right;\">\n      <th></th>\n      <th>Title</th>\n      <th>Year_recorded</th>\n      <th>Year_released</th>\n      <th>Album</th>\n      <th>Album_type</th>\n      <th>Record_label</th>\n      <th>Track_number</th>\n      <th>Duration</th>\n      <th>Songwriter</th>\n      <th>Lead_vocal</th>\n      <th>acousticness</th>\n      <th>danceability</th>\n      <th>energy</th>\n      <th>instrumentalness</th>\n      <th>liveness</th>\n      <th>loudness</th>\n      <th>speechiness</th>\n      <th>tempo</th>\n      <th>valence</th>\n      <th>British_charts</th>\n      <th>Date</th>\n      <th>UK_peak_pos</th>\n      <th>WoC</th>\n      <th>Weeks_at_no_1</th>\n      <th>US_cash</th>\n      <th>US_rec_world</th>\n      <th>AUS</th>\n      <th>US</th>\n      <th>GER</th>\n      <th>NLD</th>\n      <th>FRA</th>\n      <th>SWI</th>\n      <th>CAN</th>\n      <th>POL</th>\n      <th>Certification</th>\n    </tr>\n  </thead>\n  <tbody>\n    <tr>\n      <th>17</th>\n      <td>As Tears Go By</td>\n      <td>1965</td>\n      <td>1965</td>\n      <td>December's Children (And Everybody's)</td>\n      <td>Studio</td>\n      <td>ABKCO Records</td>\n      <td>9.0</td>\n      <td>2:46</td>\n      <td>Jagger/Richards/Loog Oldham</td>\n      <td>Jagger</td>\n      <td>0.734000</td>\n      <td>0.375</td>\n      <td>0.290</td>\n      <td>0.001690</td>\n      <td>0.1850</td>\n      <td>-10.889</td>\n      <td>0.0293</td>\n      <td>113.163</td>\n      <td>0.3440</td>\n      <td>Yes</td>\n      <td>-</td>\n      <td>-</td>\n      <td>-</td>\n      <td>-</td>\n      <td>3</td>\n      <td>6</td>\n      <td>-</td>\n      <td>6</td>\n      <td>8</td>\n      <td>-</td>\n      <td>22</td>\n      <td>-</td>\n      <td>1</td>\n      <td>-</td>\n      <td>-</td>\n    </tr>\n    <tr>\n      <th>30</th>\n      <td>Blue Turns To Grey</td>\n      <td>1965</td>\n      <td>1965</td>\n      <td>December's Children (And Everybody's)</td>\n      <td>Studio</td>\n      <td>ABKCO Records</td>\n      <td>11.0</td>\n      <td>2:29</td>\n      <td>Jagger/Richards</td>\n      <td>Jagger</td>\n      <td>0.177000</td>\n      <td>0.584</td>\n      <td>0.678</td>\n      <td>0.004830</td>\n      <td>0.1380</td>\n      <td>-7.665</td>\n      <td>0.0292</td>\n      <td>112.703</td>\n      <td>0.7730</td>\n      <td>Yes</td>\n      <td>-</td>\n      <td>-</td>\n      <td>-</td>\n      <td>-</td>\n      <td>-</td>\n      <td>-</td>\n      <td>-</td>\n      <td>-</td>\n      <td>-</td>\n      <td>-</td>\n      <td>-</td>\n      <td>-</td>\n      <td>-</td>\n      <td>-</td>\n      <td>-</td>\n    </tr>\n    <tr>\n      <th>54</th>\n      <td>Cry To Me</td>\n      <td>1965</td>\n      <td>1965</td>\n      <td>Out of Our Heads</td>\n      <td>Studio</td>\n      <td>ABKCO Records</td>\n      <td>8.0</td>\n      <td>3:09</td>\n      <td>Bert Berns</td>\n      <td>Jagger</td>\n      <td>0.125000</td>\n      <td>0.348</td>\n      <td>0.641</td>\n      <td>0.189000</td>\n      <td>0.1700</td>\n      <td>-10.159</td>\n      <td>0.0406</td>\n      <td>182.276</td>\n      <td>0.5220</td>\n      <td>Yes</td>\n      <td>-</td>\n      <td>-</td>\n      <td>-</td>\n      <td>-</td>\n      <td>-</td>\n      <td>-</td>\n      <td>-</td>\n      <td>-</td>\n      <td>-</td>\n      <td>-</td>\n      <td>-</td>\n      <td>-</td>\n      <td>-</td>\n      <td>-</td>\n      <td>-</td>\n    </tr>\n    <tr>\n      <th>63</th>\n      <td>Down Home Girl</td>\n      <td>1964</td>\n      <td>1965</td>\n      <td>The Rolling Stones, Now!</td>\n      <td>Studio</td>\n      <td>ABKCO Records</td>\n      <td>2.0</td>\n      <td>4:13</td>\n      <td>Jerry Leiber/Artie Butler</td>\n      <td>Jagger</td>\n      <td>0.672000</td>\n      <td>0.675</td>\n      <td>0.782</td>\n      <td>0.692000</td>\n      <td>0.0825</td>\n      <td>-8.204</td>\n      <td>0.0276</td>\n      <td>115.855</td>\n      <td>0.8350</td>\n      <td>Yes</td>\n      <td>-</td>\n      <td>-</td>\n      <td>-</td>\n      <td>-</td>\n      <td>-</td>\n      <td>-</td>\n      <td>-</td>\n      <td>-</td>\n      <td>-</td>\n      <td>-</td>\n      <td>-</td>\n      <td>-</td>\n      <td>-</td>\n      <td>-</td>\n      <td>-</td>\n    </tr>\n    <tr>\n      <th>65</th>\n      <td>Down The Road A Piece</td>\n      <td>1964</td>\n      <td>1965</td>\n      <td>The Rolling Stones, Now!</td>\n      <td>Studio</td>\n      <td>ABKCO Records</td>\n      <td>7.0</td>\n      <td>2:56</td>\n      <td>Don Raye</td>\n      <td>Jagger</td>\n      <td>NaN</td>\n      <td>NaN</td>\n      <td>NaN</td>\n      <td>NaN</td>\n      <td>NaN</td>\n      <td>NaN</td>\n      <td>NaN</td>\n      <td>NaN</td>\n      <td>NaN</td>\n      <td>Yes</td>\n      <td>-</td>\n      <td>-</td>\n      <td>-</td>\n      <td>-</td>\n      <td>-</td>\n      <td>-</td>\n      <td>-</td>\n      <td>-</td>\n      <td>-</td>\n      <td>-</td>\n      <td>-</td>\n      <td>-</td>\n      <td>-</td>\n      <td>-</td>\n      <td>-</td>\n    </tr>\n    <tr>\n      <th>70</th>\n      <td>Everybody Needs Somebody To Love</td>\n      <td>1964</td>\n      <td>1965</td>\n      <td>The Rolling Stones, Now!</td>\n      <td>Studio</td>\n      <td>ABKCO Records</td>\n      <td>1.0</td>\n      <td>3:00</td>\n      <td>Jerry Wexler/Bert Berns/Solomon Burke</td>\n      <td>Jagger</td>\n      <td>0.273000</td>\n      <td>0.531</td>\n      <td>0.744</td>\n      <td>0.003180</td>\n      <td>0.1280</td>\n      <td>-7.580</td>\n      <td>0.0700</td>\n      <td>177.862</td>\n      <td>0.7780</td>\n      <td>Yes</td>\n      <td>-</td>\n      <td>-</td>\n      <td>-</td>\n      <td>-</td>\n      <td>-</td>\n      <td>-</td>\n      <td>-</td>\n      <td>-</td>\n      <td>-</td>\n      <td>-</td>\n      <td>-</td>\n      <td>-</td>\n      <td>-</td>\n      <td>-</td>\n      <td>-</td>\n    </tr>\n    <tr>\n      <th>80</th>\n      <td>Get Off Of My Cloud</td>\n      <td>1965</td>\n      <td>1965</td>\n      <td>Got Live If You Want It!</td>\n      <td>Live</td>\n      <td>ABKCO Records / Universal</td>\n      <td>2.0</td>\n      <td>2:54</td>\n      <td>Jagger/Richards</td>\n      <td>Jagger</td>\n      <td>0.032100</td>\n      <td>0.578</td>\n      <td>0.879</td>\n      <td>0.675000</td>\n      <td>0.0617</td>\n      <td>-8.676</td>\n      <td>0.0565</td>\n      <td>126.116</td>\n      <td>0.8710</td>\n      <td>Yes</td>\n      <td>03.11. 1965</td>\n      <td>01</td>\n      <td>12</td>\n      <td>03</td>\n      <td>1</td>\n      <td>2</td>\n      <td>-</td>\n      <td>1</td>\n      <td>1</td>\n      <td>3</td>\n      <td>7</td>\n      <td>-</td>\n      <td>1</td>\n      <td>-</td>\n      <td>-</td>\n    </tr>\n    <tr>\n      <th>84</th>\n      <td>Good Times</td>\n      <td>1965</td>\n      <td>1965</td>\n      <td>Out of Our Heads</td>\n      <td>Studio</td>\n      <td>ABKCO Records</td>\n      <td>5.0</td>\n      <td>1:59</td>\n      <td>Sam Cooke</td>\n      <td>Jagger</td>\n      <td>0.073600</td>\n      <td>0.663</td>\n      <td>0.551</td>\n      <td>0.001360</td>\n      <td>0.2070</td>\n      <td>-10.317</td>\n      <td>0.0391</td>\n      <td>126.251</td>\n      <td>0.7480</td>\n      <td>Yes</td>\n      <td>-</td>\n      <td>-</td>\n      <td>-</td>\n      <td>-</td>\n      <td>-</td>\n      <td>-</td>\n      <td>-</td>\n      <td>-</td>\n      <td>-</td>\n      <td>-</td>\n      <td>-</td>\n      <td>-</td>\n      <td>-</td>\n      <td>-</td>\n      <td>-</td>\n    </tr>\n    <tr>\n      <th>86</th>\n      <td>Gotta Get Away</td>\n      <td>1965</td>\n      <td>1965</td>\n      <td>December's Children (And Everybody's)</td>\n      <td>Studio</td>\n      <td>ABKCO Records</td>\n      <td>10.0</td>\n      <td>2:07</td>\n      <td>Jagger/Richards</td>\n      <td>Jagger</td>\n      <td>0.069300</td>\n      <td>0.666</td>\n      <td>0.550</td>\n      <td>0.574000</td>\n      <td>0.1420</td>\n      <td>-8.296</td>\n      <td>0.0326</td>\n      <td>112.947</td>\n      <td>0.6990</td>\n      <td>Yes</td>\n      <td>-</td>\n      <td>-</td>\n      <td>-</td>\n      <td>-</td>\n      <td>-</td>\n      <td>-</td>\n      <td>-</td>\n      <td>-</td>\n      <td>-</td>\n      <td>-</td>\n      <td>-</td>\n      <td>-</td>\n      <td>-</td>\n      <td>-</td>\n      <td>-</td>\n    </tr>\n    <tr>\n      <th>103</th>\n      <td>Hitch Hike</td>\n      <td>1965</td>\n      <td>1965</td>\n      <td>Out of Our Heads</td>\n      <td>Studio</td>\n      <td>ABKCO Records</td>\n      <td>2.0</td>\n      <td>2:26</td>\n      <td>Marvin Gaye/William \"Mickey\" Stevenson/Clarenc...</td>\n      <td>Jagger</td>\n      <td>0.340000</td>\n      <td>0.747</td>\n      <td>0.835</td>\n      <td>0.733000</td>\n      <td>0.0281</td>\n      <td>-7.040</td>\n      <td>0.0324</td>\n      <td>123.456</td>\n      <td>0.9630</td>\n      <td>Yes</td>\n      <td>-</td>\n      <td>-</td>\n      <td>-</td>\n      <td>-</td>\n      <td>-</td>\n      <td>-</td>\n      <td>-</td>\n      <td>-</td>\n      <td>-</td>\n      <td>-</td>\n      <td>-</td>\n      <td>-</td>\n      <td>-</td>\n      <td>-</td>\n      <td>-</td>\n    </tr>\n    <tr>\n      <th>111</th>\n      <td>I Can't Be Satisfied</td>\n      <td>1964</td>\n      <td>1965</td>\n      <td>The Rolling Stones No.2</td>\n      <td>Studio</td>\n      <td>Decca</td>\n      <td>9.0</td>\n      <td>3:26</td>\n      <td>Muddy Waters</td>\n      <td>Jagger</td>\n      <td>0.137000</td>\n      <td>0.485</td>\n      <td>0.525</td>\n      <td>0.014600</td>\n      <td>0.3140</td>\n      <td>-10.585</td>\n      <td>0.0616</td>\n      <td>198.549</td>\n      <td>0.5830</td>\n      <td>Yes</td>\n      <td>-</td>\n      <td>-</td>\n      <td>-</td>\n      <td>-</td>\n      <td>-</td>\n      <td>-</td>\n      <td>-</td>\n      <td>-</td>\n      <td>-</td>\n      <td>-</td>\n      <td>-</td>\n      <td>-</td>\n      <td>-</td>\n      <td>-</td>\n      <td>-</td>\n    </tr>\n    <tr>\n      <th>117</th>\n      <td>I'm Alright</td>\n      <td>1965</td>\n      <td>1965</td>\n      <td>Got Live If You Want It!</td>\n      <td>Live</td>\n      <td>ABKCO Records / Universal</td>\n      <td>10.0</td>\n      <td>2:26</td>\n      <td>Bo Diddley</td>\n      <td>Jagger, Richards</td>\n      <td>0.000058</td>\n      <td>0.426</td>\n      <td>0.824</td>\n      <td>0.716000</td>\n      <td>0.9460</td>\n      <td>-9.782</td>\n      <td>0.0502</td>\n      <td>118.944</td>\n      <td>0.6120</td>\n      <td>Yes</td>\n      <td>-</td>\n      <td>-</td>\n      <td>-</td>\n      <td>-</td>\n      <td>-</td>\n      <td>-</td>\n      <td>-</td>\n      <td>-</td>\n      <td>-</td>\n      <td>-</td>\n      <td>-</td>\n      <td>-</td>\n      <td>-</td>\n      <td>-</td>\n      <td>-</td>\n    </tr>\n    <tr>\n      <th>118</th>\n      <td>I'm Free</td>\n      <td>1965</td>\n      <td>1965</td>\n      <td>December's Children (And Everybody's)</td>\n      <td>Studio</td>\n      <td>ABKCO Records</td>\n      <td>8.0</td>\n      <td>2:24</td>\n      <td>Jagger/Richards</td>\n      <td>Jagger</td>\n      <td>0.197000</td>\n      <td>0.640</td>\n      <td>0.443</td>\n      <td>0.039700</td>\n      <td>0.4350</td>\n      <td>-10.652</td>\n      <td>0.0310</td>\n      <td>118.710</td>\n      <td>0.5820</td>\n      <td>Yes</td>\n      <td>-</td>\n      <td>-</td>\n      <td>-</td>\n      <td>-</td>\n      <td>-</td>\n      <td>-</td>\n      <td>-</td>\n      <td>-</td>\n      <td>-</td>\n      <td>-</td>\n      <td>-</td>\n      <td>-</td>\n      <td>-</td>\n      <td>-</td>\n      <td>-</td>\n    </tr>\n    <tr>\n      <th>119</th>\n      <td>I'm Moving On</td>\n      <td>1965</td>\n      <td>1965</td>\n      <td>December's Children (And Everybody's)</td>\n      <td>Studio</td>\n      <td>ABKCO Records</td>\n      <td>12.0</td>\n      <td>2:13</td>\n      <td>Hank Snow</td>\n      <td>Jagger</td>\n      <td>NaN</td>\n      <td>NaN</td>\n      <td>NaN</td>\n      <td>NaN</td>\n      <td>NaN</td>\n      <td>NaN</td>\n      <td>NaN</td>\n      <td>NaN</td>\n      <td>NaN</td>\n      <td>Yes</td>\n      <td>-</td>\n      <td>-</td>\n      <td>-</td>\n      <td>-</td>\n      <td>-</td>\n      <td>-</td>\n      <td>-</td>\n      <td>-</td>\n      <td>-</td>\n      <td>-</td>\n      <td>-</td>\n      <td>-</td>\n      <td>-</td>\n      <td>-</td>\n      <td>-</td>\n    </tr>\n    <tr>\n      <th>154</th>\n      <td>Look What You've Done</td>\n      <td>1964</td>\n      <td>1965</td>\n      <td>December's Children (And Everybody's)</td>\n      <td>Studio</td>\n      <td>ABKCO Records</td>\n      <td>4.0</td>\n      <td>2:16</td>\n      <td>Muddy Waters</td>\n      <td>Jagger</td>\n      <td>0.493000</td>\n      <td>0.576</td>\n      <td>0.569</td>\n      <td>0.288000</td>\n      <td>0.5610</td>\n      <td>-9.475</td>\n      <td>0.0507</td>\n      <td>98.239</td>\n      <td>0.7420</td>\n      <td>Yes</td>\n      <td>-</td>\n      <td>-</td>\n      <td>-</td>\n      <td>-</td>\n      <td>-</td>\n      <td>-</td>\n      <td>-</td>\n      <td>-</td>\n      <td>-</td>\n      <td>-</td>\n      <td>-</td>\n      <td>-</td>\n      <td>-</td>\n      <td>-</td>\n      <td>-</td>\n    </tr>\n    <tr>\n      <th>164</th>\n      <td>Mercy, Mercy</td>\n      <td>1964</td>\n      <td>1965</td>\n      <td>Out of Our Heads</td>\n      <td>Studio</td>\n      <td>ABKCO Records</td>\n      <td>1.0</td>\n      <td>2:47</td>\n      <td>Don Covay/Ronnie Miller</td>\n      <td>Jagger</td>\n      <td>0.049500</td>\n      <td>0.711</td>\n      <td>0.636</td>\n      <td>0.674000</td>\n      <td>0.0806</td>\n      <td>-9.935</td>\n      <td>0.0457</td>\n      <td>117.807</td>\n      <td>0.7840</td>\n      <td>Yes</td>\n      <td>-</td>\n      <td>-</td>\n      <td>-</td>\n      <td>-</td>\n      <td>-</td>\n      <td>-</td>\n      <td>-</td>\n      <td>-</td>\n      <td>-</td>\n      <td>-</td>\n      <td>-</td>\n      <td>-</td>\n      <td>-</td>\n      <td>-</td>\n      <td>-</td>\n    </tr>\n    <tr>\n      <th>183</th>\n      <td>Off The Hook</td>\n      <td>1964</td>\n      <td>1965</td>\n      <td>The Rolling Stones, Now!</td>\n      <td>Studio</td>\n      <td>ABKCO Records</td>\n      <td>8.0</td>\n      <td>2:35</td>\n      <td>Jagger/Richards</td>\n      <td>Jagger</td>\n      <td>0.169000</td>\n      <td>0.632</td>\n      <td>0.618</td>\n      <td>0.000002</td>\n      <td>0.1630</td>\n      <td>-11.015</td>\n      <td>0.0303</td>\n      <td>76.641</td>\n      <td>0.8640</td>\n      <td>Yes</td>\n      <td>-</td>\n      <td>-</td>\n      <td>-</td>\n      <td>-</td>\n      <td>-</td>\n      <td>-</td>\n      <td>-</td>\n      <td>-</td>\n      <td>-</td>\n      <td>-</td>\n      <td>-</td>\n      <td>-</td>\n      <td>-</td>\n      <td>-</td>\n      <td>-</td>\n    </tr>\n    <tr>\n      <th>184</th>\n      <td>Oh, Baby (We Got A Good Thing Going)</td>\n      <td>1964</td>\n      <td>1965</td>\n      <td>The Rolling Stones, Now!</td>\n      <td>Studio</td>\n      <td>ABKCO Records</td>\n      <td>10.0</td>\n      <td>2:09</td>\n      <td>Barbara Lynn Ozen</td>\n      <td>Jagger</td>\n      <td>NaN</td>\n      <td>NaN</td>\n      <td>NaN</td>\n      <td>NaN</td>\n      <td>NaN</td>\n      <td>NaN</td>\n      <td>NaN</td>\n      <td>NaN</td>\n      <td>NaN</td>\n      <td>Yes</td>\n      <td>-</td>\n      <td>-</td>\n      <td>-</td>\n      <td>-</td>\n      <td>-</td>\n      <td>-</td>\n      <td>-</td>\n      <td>-</td>\n      <td>-</td>\n      <td>-</td>\n      <td>-</td>\n      <td>-</td>\n      <td>-</td>\n      <td>-</td>\n      <td>-</td>\n    </tr>\n    <tr>\n      <th>188</th>\n      <td>One More Try</td>\n      <td>1965</td>\n      <td>1965</td>\n      <td>Out of Our Heads</td>\n      <td>Studio</td>\n      <td>ABKCO Records</td>\n      <td>12.0</td>\n      <td>1:58</td>\n      <td>Jagger/Richards</td>\n      <td>Jagger</td>\n      <td>0.036200</td>\n      <td>0.522</td>\n      <td>0.811</td>\n      <td>0.463000</td>\n      <td>0.3010</td>\n      <td>-9.364</td>\n      <td>0.0700</td>\n      <td>177.706</td>\n      <td>0.9100</td>\n      <td>Yes</td>\n      <td>-</td>\n      <td>-</td>\n      <td>-</td>\n      <td>-</td>\n      <td>-</td>\n      <td>-</td>\n      <td>-</td>\n      <td>-</td>\n      <td>-</td>\n      <td>-</td>\n      <td>-</td>\n      <td>-</td>\n      <td>-</td>\n      <td>-</td>\n      <td>-</td>\n    </tr>\n    <tr>\n      <th>192</th>\n      <td>Pain In My Heart</td>\n      <td>1964</td>\n      <td>1965</td>\n      <td>The Rolling Stones, Now!</td>\n      <td>Studio</td>\n      <td>ABKCO Records</td>\n      <td>9.0</td>\n      <td>2:12</td>\n      <td>Allen Toussaint (under the pseudonym Naomi Nev...</td>\n      <td>Jagger</td>\n      <td>0.618000</td>\n      <td>0.463</td>\n      <td>0.555</td>\n      <td>0.799000</td>\n      <td>0.1360</td>\n      <td>-8.952</td>\n      <td>0.0371</td>\n      <td>176.858</td>\n      <td>0.8250</td>\n      <td>Yes</td>\n      <td>-</td>\n      <td>-</td>\n      <td>-</td>\n      <td>-</td>\n      <td>-</td>\n      <td>-</td>\n      <td>-</td>\n      <td>-</td>\n      <td>-</td>\n      <td>-</td>\n      <td>-</td>\n      <td>-</td>\n      <td>-</td>\n      <td>-</td>\n      <td>-</td>\n    </tr>\n    <tr>\n      <th>195</th>\n      <td>Play With Fire</td>\n      <td>1965</td>\n      <td>1965</td>\n      <td>Out of Our Heads</td>\n      <td>Studio</td>\n      <td>ABKCO Records</td>\n      <td>10.0</td>\n      <td>2:15</td>\n      <td>Jagger/Richards</td>\n      <td>Jagger</td>\n      <td>0.238000</td>\n      <td>0.574</td>\n      <td>0.413</td>\n      <td>0.000298</td>\n      <td>0.2420</td>\n      <td>-9.548</td>\n      <td>0.0269</td>\n      <td>108.719</td>\n      <td>0.0876</td>\n      <td>Yes</td>\n      <td>-</td>\n      <td>-</td>\n      <td>-</td>\n      <td>-</td>\n      <td>-</td>\n      <td>-</td>\n      <td>-</td>\n      <td>-</td>\n      <td>-</td>\n      <td>-</td>\n      <td>-</td>\n      <td>-</td>\n      <td>-</td>\n      <td>-</td>\n      <td>-</td>\n    </tr>\n    <tr>\n      <th>216</th>\n      <td>She Said Yeah</td>\n      <td>1965</td>\n      <td>1965</td>\n      <td>December's Children (And Everybody's)</td>\n      <td>Studio</td>\n      <td>ABKCO Records</td>\n      <td>1.0</td>\n      <td>1:35</td>\n      <td>Sonny Bono/Roddy Jackson</td>\n      <td>Jagger</td>\n      <td>0.031500</td>\n      <td>0.421</td>\n      <td>0.830</td>\n      <td>0.023400</td>\n      <td>0.0482</td>\n      <td>-7.818</td>\n      <td>0.0631</td>\n      <td>111.124</td>\n      <td>0.8350</td>\n      <td>Yes</td>\n      <td>-</td>\n      <td>-</td>\n      <td>-</td>\n      <td>-</td>\n      <td>-</td>\n      <td>-</td>\n      <td>-</td>\n      <td>-</td>\n      <td>-</td>\n      <td>-</td>\n      <td>-</td>\n      <td>-</td>\n      <td>-</td>\n      <td>-</td>\n      <td>-</td>\n    </tr>\n    <tr>\n      <th>225</th>\n      <td>The Singer Not The Song</td>\n      <td>1965</td>\n      <td>1965</td>\n      <td>December's Children (And Everybody's)</td>\n      <td>Studio</td>\n      <td>ABKCO Records</td>\n      <td>5.0</td>\n      <td>2:23</td>\n      <td>Jagger/Richards</td>\n      <td>Jagger</td>\n      <td>0.046500</td>\n      <td>0.718</td>\n      <td>0.589</td>\n      <td>0.000201</td>\n      <td>0.0926</td>\n      <td>-9.169</td>\n      <td>0.0293</td>\n      <td>110.783</td>\n      <td>0.8530</td>\n      <td>Yes</td>\n      <td>-</td>\n      <td>-</td>\n      <td>-</td>\n      <td>-</td>\n      <td>-</td>\n      <td>-</td>\n      <td>-</td>\n      <td>-</td>\n      <td>-</td>\n      <td>-</td>\n      <td>-</td>\n      <td>-</td>\n      <td>-</td>\n      <td>-</td>\n      <td>-</td>\n    </tr>\n    <tr>\n      <th>235</th>\n      <td>The Spider And The Fly</td>\n      <td>1965</td>\n      <td>1965</td>\n      <td>Stripped</td>\n      <td>Live</td>\n      <td>Virgin</td>\n      <td>5.0</td>\n      <td>3:28</td>\n      <td>Jagger/Richards</td>\n      <td>Jagger</td>\n      <td>0.120000</td>\n      <td>0.737</td>\n      <td>0.458</td>\n      <td>0.182000</td>\n      <td>0.0713</td>\n      <td>-10.681</td>\n      <td>0.0322</td>\n      <td>98.390</td>\n      <td>0.9090</td>\n      <td>Yes</td>\n      <td>-</td>\n      <td>-</td>\n      <td>-</td>\n      <td>-</td>\n      <td>-</td>\n      <td>-</td>\n      <td>-</td>\n      <td>-</td>\n      <td>-</td>\n      <td>-</td>\n      <td>-</td>\n      <td>-</td>\n      <td>-</td>\n      <td>-</td>\n      <td>-</td>\n    </tr>\n    <tr>\n      <th>244</th>\n      <td>Surprise, Surprise</td>\n      <td>1964</td>\n      <td>1965</td>\n      <td>The Rolling Stones, Now!</td>\n      <td>Studio</td>\n      <td>ABKCO Records</td>\n      <td>12.0</td>\n      <td>2:31</td>\n      <td>Jagger/Richards</td>\n      <td>Jagger</td>\n      <td>0.030000</td>\n      <td>0.750</td>\n      <td>0.882</td>\n      <td>0.000005</td>\n      <td>0.1090</td>\n      <td>-8.842</td>\n      <td>0.0762</td>\n      <td>107.690</td>\n      <td>0.9390</td>\n      <td>Yes</td>\n      <td>-</td>\n      <td>-</td>\n      <td>-</td>\n      <td>-</td>\n      <td>-</td>\n      <td>-</td>\n      <td>-</td>\n      <td>-</td>\n      <td>-</td>\n      <td>-</td>\n      <td>-</td>\n      <td>-</td>\n      <td>-</td>\n      <td>-</td>\n      <td>-</td>\n    </tr>\n    <tr>\n      <th>253</th>\n      <td>Talkin' About You</td>\n      <td>1965</td>\n      <td>1965</td>\n      <td>December's Children (And Everybody's)</td>\n      <td>Studio</td>\n      <td>ABKCO Records</td>\n      <td>2.0</td>\n      <td>2:31</td>\n      <td>Chuck Berry</td>\n      <td>Jagger</td>\n      <td>0.114000</td>\n      <td>0.668</td>\n      <td>0.637</td>\n      <td>0.000418</td>\n      <td>0.0603</td>\n      <td>-8.337</td>\n      <td>0.0370</td>\n      <td>120.292</td>\n      <td>0.8330</td>\n      <td>Yes</td>\n      <td>-</td>\n      <td>-</td>\n      <td>-</td>\n      <td>-</td>\n      <td>-</td>\n      <td>-</td>\n      <td>-</td>\n      <td>-</td>\n      <td>-</td>\n      <td>-</td>\n      <td>-</td>\n      <td>-</td>\n      <td>-</td>\n      <td>-</td>\n      <td>-</td>\n    </tr>\n    <tr>\n      <th>255</th>\n      <td>That's How Strong My Love Is</td>\n      <td>1965</td>\n      <td>1965</td>\n      <td>Out of Our Heads</td>\n      <td>Studio</td>\n      <td>ABKCO Records</td>\n      <td>4.0</td>\n      <td>2:25</td>\n      <td>Roosevelt Jamison</td>\n      <td>Jagger</td>\n      <td>0.001510</td>\n      <td>0.431</td>\n      <td>0.596</td>\n      <td>0.004070</td>\n      <td>0.0642</td>\n      <td>-9.121</td>\n      <td>0.0269</td>\n      <td>96.711</td>\n      <td>0.5410</td>\n      <td>Yes</td>\n      <td>-</td>\n      <td>-</td>\n      <td>-</td>\n      <td>-</td>\n      <td>-</td>\n      <td>-</td>\n      <td>-</td>\n      <td>-</td>\n      <td>-</td>\n      <td>-</td>\n      <td>-</td>\n      <td>-</td>\n      <td>-</td>\n      <td>-</td>\n      <td>-</td>\n    </tr>\n    <tr>\n      <th>273</th>\n      <td>The Under Assistant West Coast Promotion Man</td>\n      <td>1965</td>\n      <td>1965</td>\n      <td>Out of Our Heads</td>\n      <td>Studio</td>\n      <td>ABKCO Records</td>\n      <td>9.0</td>\n      <td>3:07</td>\n      <td>Nanker Phelge[a]</td>\n      <td>Jagger</td>\n      <td>0.088800</td>\n      <td>0.575</td>\n      <td>0.673</td>\n      <td>0.000003</td>\n      <td>0.2220</td>\n      <td>-7.811</td>\n      <td>0.0347</td>\n      <td>136.974</td>\n      <td>0.6250</td>\n      <td>Yes</td>\n      <td>-</td>\n      <td>-</td>\n      <td>-</td>\n      <td>-</td>\n      <td>-</td>\n      <td>-</td>\n      <td>-</td>\n      <td>-</td>\n      <td>-</td>\n      <td>-</td>\n      <td>-</td>\n      <td>-</td>\n      <td>-</td>\n      <td>-</td>\n      <td>-</td>\n    </tr>\n    <tr>\n      <th>280</th>\n      <td>What A Shame</td>\n      <td>1964</td>\n      <td>1965</td>\n      <td>The Rolling Stones, Now!</td>\n      <td>Studio</td>\n      <td>ABKCO Records</td>\n      <td>5.0</td>\n      <td>3:06</td>\n      <td>Jagger/Richards</td>\n      <td>Jagger</td>\n      <td>0.165000</td>\n      <td>0.680</td>\n      <td>0.565</td>\n      <td>0.148000</td>\n      <td>0.1400</td>\n      <td>-10.131</td>\n      <td>0.0298</td>\n      <td>127.011</td>\n      <td>0.8900</td>\n      <td>Yes</td>\n      <td>-</td>\n      <td>-</td>\n      <td>-</td>\n      <td>-</td>\n      <td>-</td>\n      <td>-</td>\n      <td>-</td>\n      <td>-</td>\n      <td>-</td>\n      <td>-</td>\n      <td>-</td>\n      <td>-</td>\n      <td>-</td>\n      <td>-</td>\n      <td>-</td>\n    </tr>\n    <tr>\n      <th>292</th>\n      <td>You Can't Catch Me</td>\n      <td>1964</td>\n      <td>1965</td>\n      <td>The Rolling Stones, Now!</td>\n      <td>Studio</td>\n      <td>ABKCO Records</td>\n      <td>3.0</td>\n      <td>3:40</td>\n      <td>Chuck Berry</td>\n      <td>Jagger</td>\n      <td>0.061100</td>\n      <td>0.659</td>\n      <td>0.872</td>\n      <td>0.003540</td>\n      <td>0.3480</td>\n      <td>-11.355</td>\n      <td>0.0478</td>\n      <td>104.217</td>\n      <td>0.8400</td>\n      <td>Yes</td>\n      <td>-</td>\n      <td>-</td>\n      <td>-</td>\n      <td>-</td>\n      <td>-</td>\n      <td>-</td>\n      <td>-</td>\n      <td>-</td>\n      <td>-</td>\n      <td>-</td>\n      <td>-</td>\n      <td>-</td>\n      <td>-</td>\n      <td>-</td>\n      <td>-</td>\n    </tr>\n  </tbody>\n</table>\n</div>"
     },
     "metadata": {},
     "output_type": "display_data"
    },
    {
     "data": {
      "text/plain": "pandas.core.frame.DataFrame"
     },
     "metadata": {},
     "output_type": "display_data"
    }
   ],
   "source": [
    "songs_by_year = songs.groupby('Year_released')\n",
    "display(songs_by_year)\n",
    "display(type(songs_by_year))\n",
    "display(songs_by_year.get_group(1965))\n",
    "display(type(songs_by_year.get_group(1965)))"
   ],
   "metadata": {
    "collapsed": false,
    "ExecuteTime": {
     "end_time": "2023-11-10T20:46:23.252336100Z",
     "start_time": "2023-11-10T20:46:22.943062100Z"
    }
   }
  },
  {
   "cell_type": "markdown",
   "source": [
    "How many songs are there in the dataset for each `Year_released` (`<pd.df>['<column>'].value_counts()`, `<pd.df>['<column>'].value_counts()[<year>]`, `<pd.df>['<column>'].value_counts().sort_index()`)?\n",
    "\n",
    "Note that `value_counts()` returns a `pd.Series` object, with the index equal to `<pd.df>['<column>'].unique()` values."
   ],
   "metadata": {
    "collapsed": false
   }
  },
  {
   "cell_type": "code",
   "execution_count": 167,
   "outputs": [
    {
     "data": {
      "text/plain": "1965    30\n1967    25\n1966    18\n1964    18\n1972    18\n1994    15\n2005    15\n1997    13\n2016    12\n1989    12\n1986    11\n1981    11\n1971    10\n1973    10\n1978    10\n1983    10\n1980    10\n1974    10\n1969     9\n1968     9\n1976     6\n1977     2\n1982     2\n1975     2\n1991     2\n1995     2\n2004     2\n2008     1\n1998     1\n1970     1\nName: Year_released, dtype: int64"
     },
     "execution_count": 167,
     "metadata": {},
     "output_type": "execute_result"
    }
   ],
   "source": [
    "songs.Year_released.value_counts()"
   ],
   "metadata": {
    "collapsed": false,
    "ExecuteTime": {
     "end_time": "2023-11-10T20:46:33.728528700Z",
     "start_time": "2023-11-10T20:46:33.610878300Z"
    }
   }
  },
  {
   "cell_type": "markdown",
   "source": [
    "Sort the songs from the dataset by the year of release (`<pd.df>.sort_values(by='<column name>', ascending=False/True)`).\n",
    "(It is also possible to use `inplace=True` in `sort_values()`, but it will change the order of songs in the dataset from that point on.)"
   ],
   "metadata": {
    "collapsed": false
   }
  },
  {
   "cell_type": "code",
   "execution_count": 168,
   "outputs": [
    {
     "data": {
      "text/plain": "                      Title  Year_recorded  Year_released  \\\n129       It's All Over Now           1964           1964   \n245                 Susie Q           1964           1964   \n170  Mona (I Need You Baby)           1964           1964   \n16        Around And Around           1964           1964   \n85    Good Times, Bad Times           1964           1964   \n..                      ...            ...            ...   \n201        Ride 'Em On Down           2015           2016   \n94       Hate To See You Go           2015           2016   \n149             Little Rain           2015           2016   \n112   I Can't Quit You Baby           2015           2016   \n135          Just Your Fool           2015           2016   \n\n                        Album Album_type          Record_label  Track_number  \\\n129                    12 X 5     Studio         ABKCO Records           6.0   \n245   The Rolling Stones No.2     Studio                 Decca          12.0   \n170  The Rolling Stones, Now!     Studio         ABKCO Records           6.0   \n16              Love You Live       Live                Virgin           4.0   \n85                     12 X 5     Studio         ABKCO Records           5.0   \n..                        ...        ...                   ...           ...   \n201           Blue & Lonesome     Studio  Interscope / Polydor           7.0   \n94            Blue & Lonesome     Studio  Interscope / Polydor           8.0   \n149           Blue & Lonesome     Studio  Interscope / Polydor          10.0   \n112           Blue & Lonesome     Studio  Interscope / Polydor          12.0   \n135           Blue & Lonesome     Studio  Interscope / Polydor           1.0   \n\n    Duration                                   Songwriter Lead_vocal  \\\n129     3:27                  Bobby Womack/Shirley Womack     Jagger   \n245     1:50  Dale Hawkins/Stan Lewis/Eleanore Broadwater     Jagger   \n170     3:35                                   Bo Diddley     Jagger   \n16      3:52                                  Chuck Berry     Jagger   \n85      2:31                              Jagger/Richards     Jagger   \n..       ...                                          ...        ...   \n201     2:48                                 Eddie Taylor     Jagger   \n94      3:20                                Little Walter     Jagger   \n149     3:32                 Ewart G.Abner Jr./Jimmy Reed     Jagger   \n112     5:13                                 Willie Dixon     Jagger   \n135     2:16                                Buddy Johnson     Jagger   \n\n     acousticness  danceability    energy  instrumentalness  liveness  \\\n129      0.029600      0.600000  0.702000          0.000005    0.3290   \n245      0.035400      0.502000  0.752000          0.638000    0.1580   \n170      0.070067      0.694333  0.662667          0.000246    0.0942   \n16       0.448000      0.312000  0.617000          0.000097    0.2740   \n85       0.067200      0.677000  0.512000          0.006910    0.0945   \n..            ...           ...       ...               ...       ...   \n201      0.140000      0.508000  0.949000          0.014900    0.3760   \n94       0.399000      0.418000  0.828000          0.669000    0.1460   \n149      0.844000      0.432000  0.384000          0.047100    0.1020   \n112      0.226000      0.328000  0.711000          0.017200    0.0669   \n135      0.329000      0.547000  0.903000          0.216000    0.3880   \n\n      loudness  speechiness       tempo   valence British_charts         Date  \\\n129 -10.560000     0.031100   99.143000  0.716000            Yes  08.07. 1964   \n245  -9.028000     0.037200   81.103000  0.968000            Yes            -   \n170 -10.677333     0.127667   98.931667  0.421333            Yes            -   \n16  -11.783000     0.067200  183.436000  0.789000            Yes            -   \n85   -9.561000     0.028600   98.888000  0.668000            Yes            -   \n..         ...          ...         ...       ...            ...          ...   \n201  -4.203000     0.086600  116.004000  0.726000            Yes            -   \n94   -5.173000     0.122000  184.436000  0.376000            Yes            -   \n149  -6.894000     0.027900   94.380000  0.168000            Yes            -   \n112  -5.037000     0.045500  182.500000  0.170000            Yes            -   \n135  -3.832000     0.057900  116.152000  0.842000            Yes            -   \n\n    UK_peak_pos WoC Weeks_at_no_1 US_cash US_rec_world AUS  US GER NLD FRA  \\\n129          01  15            01      25           33   -  26  14   1   7   \n245           -   -             -       -            -   -   -   -   -   -   \n170           -   -             -       -            -   -   -   -   -   -   \n16            -   -             -       -            -   -   -   -   -   -   \n85            -   -             -       -            -   -   -   -   -   -   \n..          ...  ..           ...     ...          ...  ..  ..  ..  ..  ..   \n201           -   -             -       -            -   -   -   -   -   -   \n94            -   -             -       -            -   -   -   -   -   -   \n149           -   -             -       -            -   -   -   -   -   -   \n112           -   -             -       -            -   -   -   -   -   -   \n135           -   -             -       -            -   -   -   -   -   -   \n\n    SWI CAN POL Certification  \n129   -  26   -             -  \n245   -   -   -             -  \n170   -   -   -             -  \n16    -   -   -             -  \n85    -   -   -             -  \n..   ..  ..  ..           ...  \n201   -   -   -             -  \n94    -   -   -             -  \n149   -   -   -             -  \n112   -   -   -             -  \n135   -   -   -             -  \n\n[297 rows x 35 columns]",
      "text/html": "<div>\n<style scoped>\n    .dataframe tbody tr th:only-of-type {\n        vertical-align: middle;\n    }\n\n    .dataframe tbody tr th {\n        vertical-align: top;\n    }\n\n    .dataframe thead th {\n        text-align: right;\n    }\n</style>\n<table border=\"1\" class=\"dataframe\">\n  <thead>\n    <tr style=\"text-align: right;\">\n      <th></th>\n      <th>Title</th>\n      <th>Year_recorded</th>\n      <th>Year_released</th>\n      <th>Album</th>\n      <th>Album_type</th>\n      <th>Record_label</th>\n      <th>Track_number</th>\n      <th>Duration</th>\n      <th>Songwriter</th>\n      <th>Lead_vocal</th>\n      <th>acousticness</th>\n      <th>danceability</th>\n      <th>energy</th>\n      <th>instrumentalness</th>\n      <th>liveness</th>\n      <th>loudness</th>\n      <th>speechiness</th>\n      <th>tempo</th>\n      <th>valence</th>\n      <th>British_charts</th>\n      <th>Date</th>\n      <th>UK_peak_pos</th>\n      <th>WoC</th>\n      <th>Weeks_at_no_1</th>\n      <th>US_cash</th>\n      <th>US_rec_world</th>\n      <th>AUS</th>\n      <th>US</th>\n      <th>GER</th>\n      <th>NLD</th>\n      <th>FRA</th>\n      <th>SWI</th>\n      <th>CAN</th>\n      <th>POL</th>\n      <th>Certification</th>\n    </tr>\n  </thead>\n  <tbody>\n    <tr>\n      <th>129</th>\n      <td>It's All Over Now</td>\n      <td>1964</td>\n      <td>1964</td>\n      <td>12 X 5</td>\n      <td>Studio</td>\n      <td>ABKCO Records</td>\n      <td>6.0</td>\n      <td>3:27</td>\n      <td>Bobby Womack/Shirley Womack</td>\n      <td>Jagger</td>\n      <td>0.029600</td>\n      <td>0.600000</td>\n      <td>0.702000</td>\n      <td>0.000005</td>\n      <td>0.3290</td>\n      <td>-10.560000</td>\n      <td>0.031100</td>\n      <td>99.143000</td>\n      <td>0.716000</td>\n      <td>Yes</td>\n      <td>08.07. 1964</td>\n      <td>01</td>\n      <td>15</td>\n      <td>01</td>\n      <td>25</td>\n      <td>33</td>\n      <td>-</td>\n      <td>26</td>\n      <td>14</td>\n      <td>1</td>\n      <td>7</td>\n      <td>-</td>\n      <td>26</td>\n      <td>-</td>\n      <td>-</td>\n    </tr>\n    <tr>\n      <th>245</th>\n      <td>Susie Q</td>\n      <td>1964</td>\n      <td>1964</td>\n      <td>The Rolling Stones No.2</td>\n      <td>Studio</td>\n      <td>Decca</td>\n      <td>12.0</td>\n      <td>1:50</td>\n      <td>Dale Hawkins/Stan Lewis/Eleanore Broadwater</td>\n      <td>Jagger</td>\n      <td>0.035400</td>\n      <td>0.502000</td>\n      <td>0.752000</td>\n      <td>0.638000</td>\n      <td>0.1580</td>\n      <td>-9.028000</td>\n      <td>0.037200</td>\n      <td>81.103000</td>\n      <td>0.968000</td>\n      <td>Yes</td>\n      <td>-</td>\n      <td>-</td>\n      <td>-</td>\n      <td>-</td>\n      <td>-</td>\n      <td>-</td>\n      <td>-</td>\n      <td>-</td>\n      <td>-</td>\n      <td>-</td>\n      <td>-</td>\n      <td>-</td>\n      <td>-</td>\n      <td>-</td>\n      <td>-</td>\n    </tr>\n    <tr>\n      <th>170</th>\n      <td>Mona (I Need You Baby)</td>\n      <td>1964</td>\n      <td>1964</td>\n      <td>The Rolling Stones, Now!</td>\n      <td>Studio</td>\n      <td>ABKCO Records</td>\n      <td>6.0</td>\n      <td>3:35</td>\n      <td>Bo Diddley</td>\n      <td>Jagger</td>\n      <td>0.070067</td>\n      <td>0.694333</td>\n      <td>0.662667</td>\n      <td>0.000246</td>\n      <td>0.0942</td>\n      <td>-10.677333</td>\n      <td>0.127667</td>\n      <td>98.931667</td>\n      <td>0.421333</td>\n      <td>Yes</td>\n      <td>-</td>\n      <td>-</td>\n      <td>-</td>\n      <td>-</td>\n      <td>-</td>\n      <td>-</td>\n      <td>-</td>\n      <td>-</td>\n      <td>-</td>\n      <td>-</td>\n      <td>-</td>\n      <td>-</td>\n      <td>-</td>\n      <td>-</td>\n      <td>-</td>\n    </tr>\n    <tr>\n      <th>16</th>\n      <td>Around And Around</td>\n      <td>1964</td>\n      <td>1964</td>\n      <td>Love You Live</td>\n      <td>Live</td>\n      <td>Virgin</td>\n      <td>4.0</td>\n      <td>3:52</td>\n      <td>Chuck Berry</td>\n      <td>Jagger</td>\n      <td>0.448000</td>\n      <td>0.312000</td>\n      <td>0.617000</td>\n      <td>0.000097</td>\n      <td>0.2740</td>\n      <td>-11.783000</td>\n      <td>0.067200</td>\n      <td>183.436000</td>\n      <td>0.789000</td>\n      <td>Yes</td>\n      <td>-</td>\n      <td>-</td>\n      <td>-</td>\n      <td>-</td>\n      <td>-</td>\n      <td>-</td>\n      <td>-</td>\n      <td>-</td>\n      <td>-</td>\n      <td>-</td>\n      <td>-</td>\n      <td>-</td>\n      <td>-</td>\n      <td>-</td>\n      <td>-</td>\n    </tr>\n    <tr>\n      <th>85</th>\n      <td>Good Times, Bad Times</td>\n      <td>1964</td>\n      <td>1964</td>\n      <td>12 X 5</td>\n      <td>Studio</td>\n      <td>ABKCO Records</td>\n      <td>5.0</td>\n      <td>2:31</td>\n      <td>Jagger/Richards</td>\n      <td>Jagger</td>\n      <td>0.067200</td>\n      <td>0.677000</td>\n      <td>0.512000</td>\n      <td>0.006910</td>\n      <td>0.0945</td>\n      <td>-9.561000</td>\n      <td>0.028600</td>\n      <td>98.888000</td>\n      <td>0.668000</td>\n      <td>Yes</td>\n      <td>-</td>\n      <td>-</td>\n      <td>-</td>\n      <td>-</td>\n      <td>-</td>\n      <td>-</td>\n      <td>-</td>\n      <td>-</td>\n      <td>-</td>\n      <td>-</td>\n      <td>-</td>\n      <td>-</td>\n      <td>-</td>\n      <td>-</td>\n      <td>-</td>\n    </tr>\n    <tr>\n      <th>...</th>\n      <td>...</td>\n      <td>...</td>\n      <td>...</td>\n      <td>...</td>\n      <td>...</td>\n      <td>...</td>\n      <td>...</td>\n      <td>...</td>\n      <td>...</td>\n      <td>...</td>\n      <td>...</td>\n      <td>...</td>\n      <td>...</td>\n      <td>...</td>\n      <td>...</td>\n      <td>...</td>\n      <td>...</td>\n      <td>...</td>\n      <td>...</td>\n      <td>...</td>\n      <td>...</td>\n      <td>...</td>\n      <td>...</td>\n      <td>...</td>\n      <td>...</td>\n      <td>...</td>\n      <td>...</td>\n      <td>...</td>\n      <td>...</td>\n      <td>...</td>\n      <td>...</td>\n      <td>...</td>\n      <td>...</td>\n      <td>...</td>\n      <td>...</td>\n    </tr>\n    <tr>\n      <th>201</th>\n      <td>Ride 'Em On Down</td>\n      <td>2015</td>\n      <td>2016</td>\n      <td>Blue &amp; Lonesome</td>\n      <td>Studio</td>\n      <td>Interscope / Polydor</td>\n      <td>7.0</td>\n      <td>2:48</td>\n      <td>Eddie Taylor</td>\n      <td>Jagger</td>\n      <td>0.140000</td>\n      <td>0.508000</td>\n      <td>0.949000</td>\n      <td>0.014900</td>\n      <td>0.3760</td>\n      <td>-4.203000</td>\n      <td>0.086600</td>\n      <td>116.004000</td>\n      <td>0.726000</td>\n      <td>Yes</td>\n      <td>-</td>\n      <td>-</td>\n      <td>-</td>\n      <td>-</td>\n      <td>-</td>\n      <td>-</td>\n      <td>-</td>\n      <td>-</td>\n      <td>-</td>\n      <td>-</td>\n      <td>-</td>\n      <td>-</td>\n      <td>-</td>\n      <td>-</td>\n      <td>-</td>\n    </tr>\n    <tr>\n      <th>94</th>\n      <td>Hate To See You Go</td>\n      <td>2015</td>\n      <td>2016</td>\n      <td>Blue &amp; Lonesome</td>\n      <td>Studio</td>\n      <td>Interscope / Polydor</td>\n      <td>8.0</td>\n      <td>3:20</td>\n      <td>Little Walter</td>\n      <td>Jagger</td>\n      <td>0.399000</td>\n      <td>0.418000</td>\n      <td>0.828000</td>\n      <td>0.669000</td>\n      <td>0.1460</td>\n      <td>-5.173000</td>\n      <td>0.122000</td>\n      <td>184.436000</td>\n      <td>0.376000</td>\n      <td>Yes</td>\n      <td>-</td>\n      <td>-</td>\n      <td>-</td>\n      <td>-</td>\n      <td>-</td>\n      <td>-</td>\n      <td>-</td>\n      <td>-</td>\n      <td>-</td>\n      <td>-</td>\n      <td>-</td>\n      <td>-</td>\n      <td>-</td>\n      <td>-</td>\n      <td>-</td>\n    </tr>\n    <tr>\n      <th>149</th>\n      <td>Little Rain</td>\n      <td>2015</td>\n      <td>2016</td>\n      <td>Blue &amp; Lonesome</td>\n      <td>Studio</td>\n      <td>Interscope / Polydor</td>\n      <td>10.0</td>\n      <td>3:32</td>\n      <td>Ewart G.Abner Jr./Jimmy Reed</td>\n      <td>Jagger</td>\n      <td>0.844000</td>\n      <td>0.432000</td>\n      <td>0.384000</td>\n      <td>0.047100</td>\n      <td>0.1020</td>\n      <td>-6.894000</td>\n      <td>0.027900</td>\n      <td>94.380000</td>\n      <td>0.168000</td>\n      <td>Yes</td>\n      <td>-</td>\n      <td>-</td>\n      <td>-</td>\n      <td>-</td>\n      <td>-</td>\n      <td>-</td>\n      <td>-</td>\n      <td>-</td>\n      <td>-</td>\n      <td>-</td>\n      <td>-</td>\n      <td>-</td>\n      <td>-</td>\n      <td>-</td>\n      <td>-</td>\n    </tr>\n    <tr>\n      <th>112</th>\n      <td>I Can't Quit You Baby</td>\n      <td>2015</td>\n      <td>2016</td>\n      <td>Blue &amp; Lonesome</td>\n      <td>Studio</td>\n      <td>Interscope / Polydor</td>\n      <td>12.0</td>\n      <td>5:13</td>\n      <td>Willie Dixon</td>\n      <td>Jagger</td>\n      <td>0.226000</td>\n      <td>0.328000</td>\n      <td>0.711000</td>\n      <td>0.017200</td>\n      <td>0.0669</td>\n      <td>-5.037000</td>\n      <td>0.045500</td>\n      <td>182.500000</td>\n      <td>0.170000</td>\n      <td>Yes</td>\n      <td>-</td>\n      <td>-</td>\n      <td>-</td>\n      <td>-</td>\n      <td>-</td>\n      <td>-</td>\n      <td>-</td>\n      <td>-</td>\n      <td>-</td>\n      <td>-</td>\n      <td>-</td>\n      <td>-</td>\n      <td>-</td>\n      <td>-</td>\n      <td>-</td>\n    </tr>\n    <tr>\n      <th>135</th>\n      <td>Just Your Fool</td>\n      <td>2015</td>\n      <td>2016</td>\n      <td>Blue &amp; Lonesome</td>\n      <td>Studio</td>\n      <td>Interscope / Polydor</td>\n      <td>1.0</td>\n      <td>2:16</td>\n      <td>Buddy Johnson</td>\n      <td>Jagger</td>\n      <td>0.329000</td>\n      <td>0.547000</td>\n      <td>0.903000</td>\n      <td>0.216000</td>\n      <td>0.3880</td>\n      <td>-3.832000</td>\n      <td>0.057900</td>\n      <td>116.152000</td>\n      <td>0.842000</td>\n      <td>Yes</td>\n      <td>-</td>\n      <td>-</td>\n      <td>-</td>\n      <td>-</td>\n      <td>-</td>\n      <td>-</td>\n      <td>-</td>\n      <td>-</td>\n      <td>-</td>\n      <td>-</td>\n      <td>-</td>\n      <td>-</td>\n      <td>-</td>\n      <td>-</td>\n      <td>-</td>\n    </tr>\n  </tbody>\n</table>\n<p>297 rows × 35 columns</p>\n</div>"
     },
     "execution_count": 168,
     "metadata": {},
     "output_type": "execute_result"
    }
   ],
   "source": [
    "songs.sort_values('Year_released', )                # ascending=True is the default"
   ],
   "metadata": {
    "collapsed": false,
    "ExecuteTime": {
     "end_time": "2023-11-10T20:46:53.200845300Z",
     "start_time": "2023-11-10T20:46:53.059637900Z"
    }
   }
  },
  {
   "cell_type": "markdown",
   "source": [
    "Group the songs in the dataset by the year of release and display `mean` and/or `max` duration of the songs in each year, as well as the number (`count`) of songs in each year (`<pd.df>.groupby('<column>').<another column>.<f()>.sort_values(ascending=False)` (aggregate using function `f()`, e.g. `mean()`), `<pd.df>.groupby('<column>').<another column>.agg(['f1 name>', '<f2 name>', ...])` (aggregate using multiple functions, e.g. `mean()`, `count()`, `max()`,...)).\n",
    "If `sort_values()` is used after `agg([<'f1 name>', '<f2 name>', ...])` (`agg(['<f1 name>', '<f2 name>', ...]).sort_values(by='<f name>', ascending=False)`), it must be passed one positional argument (`by='<f name>'`) before the optional `ascending=False`."
   ],
   "metadata": {
    "collapsed": false
   }
  },
  {
   "cell_type": "code",
   "execution_count": 173,
   "outputs": [
    {
     "data": {
      "text/plain": "                        Title Duration\n50                   Corinna      0:16\n177      The Nearness Of You      0:16\n205             Rock Me Baby      0:16\n283  Who's Been Sleeping Here     0:16",
      "text/html": "<div>\n<style scoped>\n    .dataframe tbody tr th:only-of-type {\n        vertical-align: middle;\n    }\n\n    .dataframe tbody tr th {\n        vertical-align: top;\n    }\n\n    .dataframe thead th {\n        text-align: right;\n    }\n</style>\n<table border=\"1\" class=\"dataframe\">\n  <thead>\n    <tr style=\"text-align: right;\">\n      <th></th>\n      <th>Title</th>\n      <th>Duration</th>\n    </tr>\n  </thead>\n  <tbody>\n    <tr>\n      <th>50</th>\n      <td>Corinna</td>\n      <td>0:16</td>\n    </tr>\n    <tr>\n      <th>177</th>\n      <td>The Nearness Of You</td>\n      <td>0:16</td>\n    </tr>\n    <tr>\n      <th>205</th>\n      <td>Rock Me Baby</td>\n      <td>0:16</td>\n    </tr>\n    <tr>\n      <th>283</th>\n      <td>Who's Been Sleeping Here</td>\n      <td>0:16</td>\n    </tr>\n  </tbody>\n</table>\n</div>"
     },
     "metadata": {},
     "output_type": "display_data"
    },
    {
     "data": {
      "text/plain": "0      3:31\n1      3:58\n2      4:45\n3      3:07\n4      3:39\n       ... \n292    3:40\n293    3:43\n294    3:28\n295    2:50\n296    2:33\nName: Duration, Length: 297, dtype: object"
     },
     "execution_count": 173,
     "metadata": {},
     "output_type": "execute_result"
    }
   ],
   "source": [
    "# To make all strings in songs.Duration look alike, insert placeholder values for those that are now 'No'\n",
    "i = songs.Duration == 'No'\n",
    "songs.loc[i, 'Duration'] = '0:16'\n",
    "display(songs.loc[songs.Duration == '0:16', ['Title', 'Duration']])\n",
    "songs.Duration"
   ],
   "metadata": {
    "collapsed": false,
    "ExecuteTime": {
     "end_time": "2023-11-10T20:52:46.259324900Z",
     "start_time": "2023-11-10T20:52:46.082421Z"
    }
   }
  },
  {
   "cell_type": "code",
   "execution_count": 174,
   "outputs": [
    {
     "name": "stdout",
     "output_type": "stream",
     "text": [
      "0    211\n",
      "1    238\n",
      "2    285\n",
      "3    187\n",
      "4    219\n",
      "5    210\n",
      "6    257\n",
      "7    230\n",
      "8    286\n",
      "9    138\n",
      "Name: Duration, dtype: object\n",
      "0    211\n",
      "1    238\n",
      "2    285\n",
      "3    187\n",
      "4    219\n",
      "5    210\n",
      "6    257\n",
      "7    230\n",
      "8    286\n",
      "9    138\n",
      "Name: Duration, dtype: object\n"
     ]
    },
    {
     "data": {
      "text/plain": "0"
     },
     "execution_count": 174,
     "metadata": {},
     "output_type": "execute_result"
    }
   ],
   "source": [
    "# Convert Duration to int\n",
    "\n",
    "# songs.Duration\n",
    "# songs.Duration[:10]\n",
    "# songs[:10]\n",
    "\n",
    "# duration = songs.Duration.copy()\n",
    "# duration[:10]\n",
    "# print(duration[0].split(':'))\n",
    "\n",
    "duration = songs.Duration.copy()\n",
    "for i in range(len(duration)):\n",
    "    duration[i] = int(duration[i].split(':')[0]) * 60 + int(duration[i].split(':')[1])\n",
    "print(duration[:10])\n",
    "songs.Duration = duration\n",
    "print(songs.Duration[:10])\n",
    "songs.Duration.isna().sum()\n",
    "\n",
    "# m, s = '0:13'.split(':')\n",
    "# print(m, s)"
   ],
   "metadata": {
    "collapsed": false,
    "ExecuteTime": {
     "end_time": "2023-11-10T20:53:23.357417400Z",
     "start_time": "2023-11-10T20:53:23.219607800Z"
    }
   }
  },
  {
   "cell_type": "code",
   "execution_count": 185,
   "outputs": [
    {
     "data": {
      "text/plain": "               count        mean  max\nYear_released                        \n1998               1   16.000000   16\n1970               1  273.000000  273\n2008               1  358.000000  358\n2004               2   16.000000   16\n1995               2  289.000000  338\n1982               2  154.500000  201\n1991               2  276.500000  286\n1975               2  283.500000  299\n1977               2  364.000000  384\n1976               6  319.500000  429\n1968               9  247.222222  467\n1969               9  291.000000  544\n1978              10  253.400000  355\n1980              10  245.100000  339\n1973              10  280.200000  354\n1983              10  269.900000  374\n1971              10  276.200000  436\n1974              10  286.500000  398\n1981              11  246.272727  392\n1986              11  217.727273  313\n2016              12  213.000000  313\n1989              12  240.500000  295\n1997              13  308.000000  477\n1994              15  247.533333  375\n2005              15  241.533333  310\n1972              18  223.888889  318\n1966              18  209.222222  695\n1964              18  173.944444  273\n1967              25  195.080000  308\n1965              30  158.866667  253",
      "text/html": "<div>\n<style scoped>\n    .dataframe tbody tr th:only-of-type {\n        vertical-align: middle;\n    }\n\n    .dataframe tbody tr th {\n        vertical-align: top;\n    }\n\n    .dataframe thead th {\n        text-align: right;\n    }\n</style>\n<table border=\"1\" class=\"dataframe\">\n  <thead>\n    <tr style=\"text-align: right;\">\n      <th></th>\n      <th>count</th>\n      <th>mean</th>\n      <th>max</th>\n    </tr>\n    <tr>\n      <th>Year_released</th>\n      <th></th>\n      <th></th>\n      <th></th>\n    </tr>\n  </thead>\n  <tbody>\n    <tr>\n      <th>1998</th>\n      <td>1</td>\n      <td>16.000000</td>\n      <td>16</td>\n    </tr>\n    <tr>\n      <th>1970</th>\n      <td>1</td>\n      <td>273.000000</td>\n      <td>273</td>\n    </tr>\n    <tr>\n      <th>2008</th>\n      <td>1</td>\n      <td>358.000000</td>\n      <td>358</td>\n    </tr>\n    <tr>\n      <th>2004</th>\n      <td>2</td>\n      <td>16.000000</td>\n      <td>16</td>\n    </tr>\n    <tr>\n      <th>1995</th>\n      <td>2</td>\n      <td>289.000000</td>\n      <td>338</td>\n    </tr>\n    <tr>\n      <th>1982</th>\n      <td>2</td>\n      <td>154.500000</td>\n      <td>201</td>\n    </tr>\n    <tr>\n      <th>1991</th>\n      <td>2</td>\n      <td>276.500000</td>\n      <td>286</td>\n    </tr>\n    <tr>\n      <th>1975</th>\n      <td>2</td>\n      <td>283.500000</td>\n      <td>299</td>\n    </tr>\n    <tr>\n      <th>1977</th>\n      <td>2</td>\n      <td>364.000000</td>\n      <td>384</td>\n    </tr>\n    <tr>\n      <th>1976</th>\n      <td>6</td>\n      <td>319.500000</td>\n      <td>429</td>\n    </tr>\n    <tr>\n      <th>1968</th>\n      <td>9</td>\n      <td>247.222222</td>\n      <td>467</td>\n    </tr>\n    <tr>\n      <th>1969</th>\n      <td>9</td>\n      <td>291.000000</td>\n      <td>544</td>\n    </tr>\n    <tr>\n      <th>1978</th>\n      <td>10</td>\n      <td>253.400000</td>\n      <td>355</td>\n    </tr>\n    <tr>\n      <th>1980</th>\n      <td>10</td>\n      <td>245.100000</td>\n      <td>339</td>\n    </tr>\n    <tr>\n      <th>1973</th>\n      <td>10</td>\n      <td>280.200000</td>\n      <td>354</td>\n    </tr>\n    <tr>\n      <th>1983</th>\n      <td>10</td>\n      <td>269.900000</td>\n      <td>374</td>\n    </tr>\n    <tr>\n      <th>1971</th>\n      <td>10</td>\n      <td>276.200000</td>\n      <td>436</td>\n    </tr>\n    <tr>\n      <th>1974</th>\n      <td>10</td>\n      <td>286.500000</td>\n      <td>398</td>\n    </tr>\n    <tr>\n      <th>1981</th>\n      <td>11</td>\n      <td>246.272727</td>\n      <td>392</td>\n    </tr>\n    <tr>\n      <th>1986</th>\n      <td>11</td>\n      <td>217.727273</td>\n      <td>313</td>\n    </tr>\n    <tr>\n      <th>2016</th>\n      <td>12</td>\n      <td>213.000000</td>\n      <td>313</td>\n    </tr>\n    <tr>\n      <th>1989</th>\n      <td>12</td>\n      <td>240.500000</td>\n      <td>295</td>\n    </tr>\n    <tr>\n      <th>1997</th>\n      <td>13</td>\n      <td>308.000000</td>\n      <td>477</td>\n    </tr>\n    <tr>\n      <th>1994</th>\n      <td>15</td>\n      <td>247.533333</td>\n      <td>375</td>\n    </tr>\n    <tr>\n      <th>2005</th>\n      <td>15</td>\n      <td>241.533333</td>\n      <td>310</td>\n    </tr>\n    <tr>\n      <th>1972</th>\n      <td>18</td>\n      <td>223.888889</td>\n      <td>318</td>\n    </tr>\n    <tr>\n      <th>1966</th>\n      <td>18</td>\n      <td>209.222222</td>\n      <td>695</td>\n    </tr>\n    <tr>\n      <th>1964</th>\n      <td>18</td>\n      <td>173.944444</td>\n      <td>273</td>\n    </tr>\n    <tr>\n      <th>1967</th>\n      <td>25</td>\n      <td>195.080000</td>\n      <td>308</td>\n    </tr>\n    <tr>\n      <th>1965</th>\n      <td>30</td>\n      <td>158.866667</td>\n      <td>253</td>\n    </tr>\n  </tbody>\n</table>\n</div>"
     },
     "execution_count": 185,
     "metadata": {},
     "output_type": "execute_result"
    }
   ],
   "source": [
    "# Make the groupings and aggregations\n",
    "\n",
    "# songs.groupby('Year_released').energy.mean().sort_values(ascending=True)\n",
    "# songs.groupby('Year_released').energy.count().sort_values(ascending=True)\n",
    "# songs.groupby('Year_released').energy.agg(['count', 'mean', 'max']).sort_values(by='count', ascending=True)\n",
    "\n",
    "songs.groupby('Year_released').Duration.mean().sort_values(ascending=True)\n",
    "songs.groupby('Year_released').Duration.count().sort_values(ascending=True)\n",
    "songs.groupby('Year_released').Duration.agg(['count', 'mean', 'max']).sort_values(by='count', ascending=True)\n",
    "\n",
    "# display(songs.loc[songs.Duration == 16, ['Title', 'Duration', 'Year_released']])\n"
   ],
   "metadata": {
    "collapsed": false,
    "ExecuteTime": {
     "end_time": "2023-11-10T21:16:15.487103Z",
     "start_time": "2023-11-10T21:16:15.352328300Z"
    }
   }
  },
  {
   "cell_type": "markdown",
   "source": [
    "## Data visualization\n",
    "Plot some scatterplots, line plots, bar graphs, histograms, scatterplots, box plots, violins, heatmaps,...\n",
    "[Example](https://www.analyticsvidhya.com/blog/2021/08/how-to-perform-exploratory-data-analysis-a-guide-for-beginners/)\n",
    "\n",
    "[Matplotlib examples](https://matplotlib.org/stable/gallery/index.html)\n",
    "[Seaborn examples](https://seaborn.pydata.org/examples/index.html) (see also [The Python Graph Gallery](https://www.python-graph-gallery.com/); it has a very neat user interface!)\n",
    "[Plotnine examples](https://plotnine.readthedocs.io/en/stable/api.html) (click on any element for its API and examples)\n",
    "\n",
    "<u>**Note that it is also possible to**</u> <u>**[plot lines, bargraphs,... with Pandas only](https://pandas.pydata.org/docs/reference/api/pandas.DataFrame.plot.line.html)**</u> (although in such cases Pandas interacts with Matplotlib under the surface)."
   ],
   "metadata": {
    "collapsed": false
   }
  },
  {
   "cell_type": "markdown",
   "source": [
    "##### Scatterplot"
   ],
   "metadata": {
    "collapsed": false
   }
  },
  {
   "cell_type": "markdown",
   "source": [
    "Read a slightly different dataset.\n",
    "\n",
    "`pd.read_csv()` returns a `pd.DataFrame` object.\n",
    "\n",
    "As for specifying the path of the dataset properly, see [this](https://stackoverflow.com/questions/35384358/how-to-open-my-files-in-data-folder-with-pandas-using-relative-path) (more specifically, **both** [this](https://stackoverflow.com/a/35384414/1899061) and [this](https://stackoverflow.com/a/43600253/1899061))."
   ],
   "metadata": {
    "collapsed": false
   }
  },
  {
   "cell_type": "code",
   "execution_count": 2,
   "outputs": [],
   "source": [
    "# Get the songs as a pd.DataFrame object from 'data/The Rolling Stones songs dataset, v2.csv', or from\n",
    "# '../data/The Rolling Stones songs dataset, v2.csv', or '../../data/The Rolling Stones dataset, v2.csv', or ...,\n",
    "# depending on where the csv file is located\n"
   ],
   "metadata": {
    "collapsed": false
   }
  },
  {
   "cell_type": "markdown",
   "source": [
    "Check for missing values (use, e.g., `sb.heatmap(<pd.df>.isna(), cbar=False, cmap='viridis')`)."
   ],
   "metadata": {
    "collapsed": false
   }
  },
  {
   "cell_type": "code",
   "execution_count": null,
   "outputs": [],
   "source": [],
   "metadata": {
    "collapsed": false
   }
  },
  {
   "cell_type": "markdown",
   "source": [
    "Scatterplot the relationship between `Duration` and `Other.releases`."
   ],
   "metadata": {
    "collapsed": false
   }
  },
  {
   "cell_type": "markdown",
   "source": [
    "To set the ranges of values on x-axis and y-axis (`Duration`, `Other.releases`), check the max values or run `describe()`."
   ],
   "metadata": {
    "collapsed": false
   }
  },
  {
   "cell_type": "code",
   "execution_count": null,
   "outputs": [],
   "source": [],
   "metadata": {
    "collapsed": false
   }
  },
  {
   "cell_type": "markdown",
   "source": [
    "###### 1. Matplotlib version"
   ],
   "metadata": {
    "collapsed": false
   }
  },
  {
   "cell_type": "markdown",
   "source": [
    "[Matplotlib scatterplot example](https://matplotlib.org/stable/gallery/shapes_and_collections/scatter.html)\n",
    "\n",
    "Use the following syntax:\n",
    "`ax = plt.axes()`\n",
    "`ax.set(xlim=(<from>, <to>), ylim=(<from>, <to>), xlabel='<xlabel>', ylabel='<ylabel>', title='<title>')`\n",
    "`ax.scatter(<pd.df>['<X>'], <pd.df>['<Y>'], marker='<marker type>', c='<color>', edgecolors='<edgecolor>', s=<marker size>);`\n",
    "The color parameter (`c`) is optional; if present, it should be a scalar or a sequence of length consistent with the lengths of `<X>` and `<Y>` (`(<X>, <Y>)` points). The `marker` parameter is optional as well. Both `c` and `marker` have defaults. For other values of `c` and `marker`, see [this](https://matplotlib.org/stable/gallery/color/named_colors.html) and [this](https://matplotlib.org/stable/api/_as_gen/matplotlib.markers.MarkerStyle.html#matplotlib.markers.MarkerStyle), respectively. A good value for `s` is 30-40 for 200-300 markers on the plot.\n",
    "\n",
    "Alternatively:\n",
    "`ax.plot(<pd.df>['<X>'], <pd.df>['<Y>'], marker='<marker type>', color='<color>', linestyle='');`\n",
    "The `linestyle=''` parameter is essential for plotting the dots only - omitting it means that the connecting lines are plotted as well."
   ],
   "metadata": {
    "collapsed": false
   }
  },
  {
   "cell_type": "code",
   "execution_count": null,
   "outputs": [],
   "source": [],
   "metadata": {
    "collapsed": false
   }
  },
  {
   "cell_type": "markdown",
   "source": [
    "###### 2. Plotnine version\n",
    "[Plotnine scatterplot example](https://plotnine.readthedocs.io/en/stable/generated/plotnine.geoms.geom_point.html#plotnine.geoms.geom_point)\n",
    "\n",
    "In *Plotnine*, the syntax for setting the ranges on x and y axes is `xlim(<from>, <to>)`, `ylim(<from>, <to>)`."
   ],
   "metadata": {
    "collapsed": false
   }
  },
  {
   "cell_type": "markdown",
   "source": [
    "If `<x>` and `<y>` values are not in a dataframe columns (`<X>` and `<Y>`) already, create a minimal dataframe to support plotting (`<df> = pd.DataFrame({'<X>': <x>, '<Y>': <y>})`)."
   ],
   "metadata": {
    "collapsed": false
   }
  },
  {
   "cell_type": "code",
   "execution_count": null,
   "outputs": [],
   "source": [],
   "metadata": {
    "collapsed": false
   }
  },
  {
   "cell_type": "markdown",
   "source": [
    "Use `ggplot` as:\n",
    "\n",
    "`(`\n",
    "&emsp;&emsp;`ggplot(<df>, aes(x='<X>', y='<Y>) +`\n",
    "&emsp;&emsp;`geom_point(color='<color>', fill='<fill color>', shape='<shape>', size=<size>) +`\n",
    "&emsp;&emsp;`labs(x='...', y='...', title='...') ).draw();`\n",
    "\n",
    "The `color`, `fill` and `shape` parameters have defaults. The other values of these parameters are the same as in Matplotlib (see [this](https://matplotlib.org/stable/gallery/color/named_colors.html) and [this](https://matplotlib.org/stable/api/_as_gen/matplotlib.markers.MarkerStyle.html#matplotlib.markers.MarkerStyle), respectively).\n",
    "\n",
    "**Note:** `aes(x='<X>', y='<Y>)` shows compiler errors but works anyway; `aes('<X>', '<Y>)` does not show any compiler error. However, `labs(x='...', y='...', title='...')` shows compiler errors regardless of `x=...`, `y=...`, ..., but works only *with* `x=...`, `y=...`, ..."
   ],
   "metadata": {
    "collapsed": false
   }
  },
  {
   "cell_type": "code",
   "execution_count": null,
   "outputs": [],
   "source": [],
   "metadata": {
    "collapsed": false
   }
  },
  {
   "cell_type": "markdown",
   "source": [
    "###### 3. A brief analysis of the plot: What are the shortest/longest songs and their durations?"
   ],
   "metadata": {
    "collapsed": false
   }
  },
  {
   "cell_type": "code",
   "execution_count": null,
   "outputs": [],
   "source": [
    "# display(<pd.df>['column'] <= <value>)                                    # Boolean mask\n",
    "# display(type(<pd.df>['column'] <= <value>))                              # pd.Series\n",
    "# display(<pd.df>[<pd.df>['column'] <= <value>]['column to to display'])   # select one column\n",
    "# display(<pd.df>[<pd.df>['column'] <= <value>]['column 1  to to display', 'column 2 to display',...])   # select multiple columns\n",
    "\n",
    "# Try this also with .loc[], as well as with an explicitly set index and with .index\n"
   ],
   "metadata": {
    "collapsed": false
   }
  },
  {
   "cell_type": "markdown",
   "source": [
    "##### Line plot"
   ],
   "metadata": {
    "collapsed": false
   }
  },
  {
   "cell_type": "markdown",
   "source": [
    "How many songs from 1964 are there?"
   ],
   "metadata": {
    "collapsed": false
   }
  },
  {
   "cell_type": "code",
   "execution_count": null,
   "outputs": [],
   "source": [
    "# Use <pd.df>['<column>'].value_counts(), <pd.df>['<column>'].value_counts()[<specific value> in <column>]\n"
   ],
   "metadata": {
    "collapsed": false
   }
  },
  {
   "cell_type": "markdown",
   "source": [
    "Sort this result by index: `pd.Series.sort_index()` (there is also `pd.DataFrame.sort_index()`)."
   ],
   "metadata": {
    "collapsed": false
   }
  },
  {
   "cell_type": "code",
   "execution_count": null,
   "outputs": [],
   "source": [
    "# Define val_counts_sorted_by_index\n"
   ],
   "metadata": {
    "collapsed": false
   }
  },
  {
   "cell_type": "markdown",
   "source": [
    "Preparation for plotting (`counts` on y-axis, `year` on x-axis): get the `np.ndarray` version of `val_counts_sorted_by_index`, as well as of its index.\n",
    "\n",
    "One way of doing it is to use `np.array()` over `val_counts_sorted_by_index.index` and `val_counts_sorted_by_index.values`. However, the same effect is achieved using only `val_counts_sorted_by_index.index` and `val_counts_sorted_by_index.values` (their type is `np.ndarray`)."
   ],
   "metadata": {
    "collapsed": false
   }
  },
  {
   "cell_type": "code",
   "execution_count": null,
   "outputs": [],
   "source": [],
   "metadata": {
    "collapsed": false
   }
  },
  {
   "cell_type": "markdown",
   "source": [
    "And now plot it."
   ],
   "metadata": {
    "collapsed": false
   }
  },
  {
   "cell_type": "markdown",
   "source": [
    "###### 1. Matplotlib version\n",
    "[Matplotlib line plot example](https://matplotlib.org/stable/gallery/lines_bars_and_markers/simple_plot.html)\n",
    "\n",
    "`ax = plt.axes()`\n",
    "`ax.set(xlim=(<lower limit>, <upper limit>), ylim=(<lower limit>, <upper limit>), xlabel='...', ylabel='...', title='...')`\n",
    "`ax.plot(<x>, <y>, color='...', marker='<marker type>', linewidth=<number>, alpha=<number>)`\n",
    "\n",
    "Do not use `x=<x>, y=<y>` in `ax.plot()`, it generates an error. Use just `<x>, <y>`. For the other parameters, the keywords are necessary.\n",
    "\n",
    "Examples of parameters in `ax.plot()`: `color='steelblue'`, `linewidth=3`, `alpha=0.8` (alpha: transparency (0-1))."
   ],
   "metadata": {
    "collapsed": false
   }
  },
  {
   "cell_type": "code",
   "execution_count": null,
   "outputs": [],
   "source": [],
   "metadata": {
    "collapsed": false
   }
  },
  {
   "cell_type": "markdown",
   "source": [
    "###### 2. Plotnine version\n",
    "[Plotnine line plot example](https://plotnine.readthedocs.io/en/stable/generated/plotnine.geoms.geom_line.html#plotnine.geoms.geom_line)\n",
    "[Excellent tutorial on plotnine](https://realpython.com/ggplot-python/)"
   ],
   "metadata": {
    "collapsed": false
   }
  },
  {
   "cell_type": "markdown",
   "source": [
    "For some reasons, running the Matplotlib version immediately before running the Plotnine version sometimes resets all values in `year` to 1970 (!!!), so re-creating `year` here might be necessary."
   ],
   "metadata": {
    "collapsed": false
   }
  },
  {
   "cell_type": "code",
   "execution_count": null,
   "outputs": [],
   "source": [
    "# year = np.array(val_counts_sorted_by_index.index)\n",
    "# display(year)\n"
   ],
   "metadata": {
    "collapsed": false
   }
  },
  {
   "cell_type": "markdown",
   "source": [
    "If `<x>` and `<y>` values are not in a dataframe columns (`<X>` and `<Y>`) already, create a minimal dataframe to support plotting (`<df> = pd.DataFrame({'<X>': <x>, '<Y>': <y>})`)."
   ],
   "metadata": {
    "collapsed": false
   }
  },
  {
   "cell_type": "code",
   "execution_count": null,
   "outputs": [],
   "source": [],
   "metadata": {
    "collapsed": false
   }
  },
  {
   "cell_type": "markdown",
   "source": [
    "Use `ggplot` as:\n",
    "\n",
    "`(`\n",
    "&emsp;&emsp;`ggplot(<df>, aes(<x> = '<X>', <y> = '<Y>) +`\n",
    "&emsp;&emsp;`geom_line(color='<color>', size=<size>, alpha=<transparency, 0-1>, linetype='<linetype>') +`\n",
    "&emsp;&emsp;`labs(x='...', y='...')`\n",
    "`).draw();`\n",
    "\n",
    "Examples of parameters in `geom_line()`: `color='steelblue'`, `size=1`, `linetype='solid'`, `alpha=0.8` (alpha: transparency (0-1)).\n"
   ],
   "metadata": {
    "collapsed": false
   }
  },
  {
   "cell_type": "code",
   "execution_count": null,
   "outputs": [],
   "source": [],
   "metadata": {
    "collapsed": false
   }
  },
  {
   "cell_type": "markdown",
   "source": [
    "###### 3. Smoothen the curves\n",
    "Based on [this](https://stackoverflow.com/a/5284038/1899061).\n",
    "`from scipy.interpolate import make_interp_spline, BSpline`\n",
    "\n",
    "`<x> = <definition of x-axis variable>`\n",
    "`<y> = <definition of y-axis variable>`\n",
    "\n",
    "`<x_smooth> = np.linspace(<x>.min(), <x>max(), 300)`&emsp;&emsp;&emsp;&emsp;# 300: the number of points to make between `<x>.min() and <x>.max()`\n",
    "`spl = make_interp_spline(year, counts, k=3)`&emsp;&emsp;&emsp;&emsp;&emsp;&emsp;&emsp; # type: BSpline\n",
    "`<y_smooth> = spl(<x>_smooth)`\n",
    "\n",
    "`plt.xlim([<lowest value of x to show on the plot>, <highest value of x to show on the plot>])`\n",
    "`plt.ylim([<lowest value of y to show on the plot>, <highest value of x to show on the plot>])`\n",
    "\n",
    "`plt.plot(<x_smooth>, <y_smooth>)`\n",
    "`plt.plot(<x>, <y>)`&emsp;&emsp;&emsp;&emsp;&emsp;&emsp;&emsp;&emsp;&emsp;&emsp;&emsp;&emsp;&emsp;&emsp;&emsp;&emsp;&emsp;&emsp;&emsp;# optional: show the segmented line on the same plot as well\n",
    "`plt.show()`\n",
    "\n"
   ],
   "metadata": {
    "collapsed": false
   }
  },
  {
   "cell_type": "code",
   "execution_count": null,
   "outputs": [],
   "source": [
    "# # 300 represents the number of points to make between T.min and T.max\n",
    "# T = np.array([6, 7, 8, 9, 10, 11, 12])\n",
    "# power = np.array([1.53E+03, 5.92E+02, 2.04E+02, 7.24E+01, 2.72E+01, 1.10E+01, 4.70E+00])\n",
    "#\n",
    "# # plt.plot(T,power)\n",
    "# # plt.show()\n",
    "#\n",
    "# xnew = np.linspace(T.min(), T.max(), 300)\n",
    "#\n",
    "# spl = make_interp_spline(T, power, k=3)  # type: BSpline\n",
    "# power_smooth = spl(xnew)\n",
    "#\n",
    "# plt.plot(xnew, power_smooth)\n",
    "# plt.show()\n",
    "\n",
    "# from scipy.interpolate import make_interp_spline, BSpline\n",
    "#\n",
    "# year_smooth = np.linspace(year.min(), year.max(), 300)\n",
    "# spl = make_interp_spline(year, counts, k=3)  # type: BSpline\n",
    "# counts_smooth = spl(year_smooth)\n",
    "#\n",
    "# plt.xlim([1961, 1980])\n",
    "# plt.ylim([0, 70])\n",
    "#\n",
    "# plt.plot(year_smooth, counts_smooth)\n",
    "# plt.plot(year, counts)\n",
    "# plt.show()\n",
    "#\n",
    "# # Alternatively\n",
    "# ax = plt.axes()\n",
    "# ax.set(xlim=(years.min(), years.max()), ylim=(0, 70), xlabel='year', ylabel='count', title='Song counts over years')\n",
    "# ax.plot(years, counts, color='steelblue', linewidth=2, marker='o', alpha=0.8)\n",
    "# ax.plot(year_smooth, counts_smooth, color='steelblue', linewidth=3, alpha=0.8);"
   ],
   "metadata": {
    "collapsed": false
   }
  },
  {
   "cell_type": "markdown",
   "source": [
    "###### 4. Multiple subplots\n",
    "(shown here after [this](https://jakevdp.github.io/PythonDataScienceHandbook/04.08-multiple-subplots.html))"
   ],
   "metadata": {
    "collapsed": false
   }
  },
  {
   "cell_type": "code",
   "execution_count": null,
   "outputs": [],
   "source": [
    "# # From https://jakevdp.github.io/PythonDataScienceHandbook/04.08-multiple-subplots.html\n",
    "# fig = plt.figure()\n",
    "# ax1 = fig.add_axes([0.1, 0.55, 0.8, 0.4],\n",
    "#                    xticklabels=[], ylim=(-1.2, 1.2))\n",
    "# ax2 = fig.add_axes([0.1, 0.1, 0.8, 0.4],\n",
    "#                    ylim=(-1.2, 1.2))\n",
    "# # Meanings of the numbers in [0.1, 0.55, 0.8, 0.4]:\n",
    "# #     0.1 - distance from the left edge of fig (grey area)\n",
    "# #     0.55 - distance between the upper and lower subplots (0.5: they touch each other)\n",
    "# #     0.8 - distance from the right edge of fig (grey area)\n",
    "# #     0.4 - area assigned to the upper/lower subplot (ax1/ax2) along the vertical axes\n",
    "# # Experiment with these numbers to get a better feeling for them\n",
    "\n",
    "# x = np.linspace(0, 10)\n",
    "# ax1.plot(np.sin(x))\n",
    "# ax2.plot(np.cos(x));\n",
    "\n",
    "# fig, ax = plt.subplots()\n",
    "# ax\n",
    "\n",
    "\n",
    "# fig = plt.figure()\n",
    "# # fig\n",
    "# ax1 = fig.add_axes([0.1, 0.65, 0.8, 0.4],\n",
    "#                    xlim=(1961, 1980), ylim=(0, 70),\n",
    "#                    xlabel='year', ylabel='counts',\n",
    "#                    title='Number of songs recorded over the years')\n",
    "# ax2 = fig.add_axes([0.1, 0.1, 0.8, 0.4],\n",
    "#                    xlim=(1961, 1970), ylim=(0, 70),\n",
    "#                    xlabel='year', ylabel='counts',\n",
    "#                    title='Number of songs recorded over the years')\n",
    "# # display(type(ax1))\n",
    "#\n",
    "# ax1.plot(year, counts, color='steelblue', linewidth=3, alpha=0.8)    # alpha: transparency (0-1)\n",
    "# ax2.plot(year, counts, color='purple', linewidth=3, alpha=0.8);    # alpha: transparency (0-1)"
   ],
   "metadata": {
    "collapsed": false
   }
  },
  {
   "cell_type": "markdown",
   "source": [
    "##### Histogram"
   ],
   "metadata": {
    "collapsed": false
   }
  },
  {
   "cell_type": "markdown",
   "source": [
    "Use Pandas to extract song lengths as a `pd.Series` object (`<pd.Series object> = <pd.df>['<column>']`)."
   ],
   "metadata": {
    "collapsed": false
   }
  },
  {
   "cell_type": "code",
   "execution_count": null,
   "outputs": [],
   "source": [
    "# Get the song lengths as a pd.Series object\n"
   ],
   "metadata": {
    "collapsed": false
   }
  },
  {
   "cell_type": "code",
   "execution_count": null,
   "outputs": [],
   "source": [
    "# Convert the song lengths into a NumPy array (using <song lengths>.values or np.array(<song lengths>))\n"
   ],
   "metadata": {
    "collapsed": false
   }
  },
  {
   "cell_type": "markdown",
   "source": [
    "###### 1. Matplotlib version\n",
    "[Matplotlib histogram example](https://matplotlib.org/stable/gallery/statistics/hist.html)\n",
    "\n",
    "Plot the histogram of the song lengths using Matplotlib.\n",
    "\n",
    "Minimal version: `plt.hist(<x>, <number of bins>);`\n",
    "\n",
    "Alternatively:\n",
    "`ax = plt.axes()`\n",
    "`ax.set(xlabel='...', ylabel='...', title='...')`\n",
    "`ax.hist(<x>, <number of bins>)`\n",
    "\n",
    "As for the plot styles, there are a lot of [available styles](https://www.dunderdata.com/blog/view-all-available-matplotlib-styles) that can be also shown in code using `plt.style.available`. See also [this](https://www.analyticsvidhya.com/blog/2021/08/exploring-matplotlib-stylesheets-for-data-visualization/).\n",
    "\n",
    "Alternatively, plot style can be set using `sb.set_theme()` (or just `sb.set()`, but that function might get deprecated and removed from *Seaborn* in the future). See [`sb_set_theme()` documentation](https://seaborn.pydata.org/generated/seaborn.set_theme.html) for the function's parameters and defaults."
   ],
   "metadata": {
    "collapsed": false
   }
  },
  {
   "cell_type": "code",
   "execution_count": null,
   "metadata": {
    "scrolled": true
   },
   "outputs": [],
   "source": [
    "# Set plot style using sb.set_theme()\n",
    "\n",
    "# Plot the histogram - x: song time in [sec]; y: number of songs; 40 bins\n",
    "\n",
    "# Minimal version\n",
    "\n",
    "# A more detailed version\n"
   ]
  },
  {
   "cell_type": "markdown",
   "source": [
    "###### 2. Plotnine version\n",
    "[Plotnine histogram example](https://plotnine.readthedocs.io/en/stable/generated/plotnine.geoms.geom_histogram.html#plotnine.geoms.geom_histogram)\n",
    "\n",
    "Plot the histogram of the song lengths using *Plotnine*.\n",
    "\n",
    "A minimal, but effective version:\n",
    "`plot = ggplot(songs, aes(x='<x>'))`\n",
    "`plot + geom_histogram(bins=40)`\n",
    "\n",
    "A more detailed version:\n",
    "`(`\n",
    "&emsp;&emsp;`ggplot(songs, aes(x='<x>')) +`\n",
    "&emsp;&emsp;`geom_histogram(bins=40, color='<color>', fill='<fill>', size='<outline thickness>', alpha=<transparency, 0-1>) +`\n",
    "&emsp;&emsp;`labs(x='<x>', y='count', title='<title>')`\n",
    "`).draw();`\n",
    "\n",
    "[Excellent tutorial on plotnine](https://realpython.com/ggplot-python/)."
   ],
   "metadata": {
    "collapsed": false
   }
  },
  {
   "cell_type": "code",
   "execution_count": null,
   "outputs": [],
   "source": [
    "# plot = ggplot(songs, aes(x='Duration'))\n",
    "# plot + geom_histogram(bins=40)\n"
   ],
   "metadata": {
    "collapsed": false
   }
  },
  {
   "cell_type": "markdown",
   "source": [
    "To avoid the annoying text output like `<ggplot: (177159008578)>` under the plot, use the following syntax:\n",
    "\n",
    "`(`\n",
    "&emsp;&emsp;`ggplot(songs, aes(x='<x>')) +`\n",
    "&emsp;&emsp;`geom_histogram(bins=40, color='<color>', fill='<fill>', size='<outline thickness>', alpha=<transparency, 0-1>) +`\n",
    "&emsp;&emsp;`labs(x='<x>', y='count', title='<title>')`\n",
    "`).draw();`"
   ],
   "metadata": {
    "collapsed": false
   }
  },
  {
   "cell_type": "code",
   "execution_count": null,
   "outputs": [],
   "source": [],
   "metadata": {
    "collapsed": false
   }
  },
  {
   "cell_type": "markdown",
   "source": [
    "##### Bar graph"
   ],
   "metadata": {
    "collapsed": false
   }
  },
  {
   "cell_type": "markdown",
   "source": [
    "How many Rolling Stones songs have reached Billboard Top 50?"
   ],
   "metadata": {
    "collapsed": false
   }
  },
  {
   "cell_type": "markdown",
   "source": [
    "Read the dataset (`'../data/The Rolling Stones songs dataset, v2.csv'`) and make some minor transformations.\n",
    "\n",
    "`pd.read_csv()` returns a `pd.DataFrame` object.\n",
    "\n",
    "As for specifying the path of the dataset properly, see [this](https://stackoverflow.com/questions/35384358/how-to-open-my-files-in-data-folder-with-pandas-using-relative-path) (more specifically, **both** [this](https://stackoverflow.com/a/35384414/1899061) and [this](https://stackoverflow.com/a/43600253/1899061))."
   ],
   "metadata": {
    "collapsed": false
   }
  },
  {
   "cell_type": "code",
   "execution_count": null,
   "outputs": [],
   "source": [
    "# Get the songs as a pd.DataFrame object from 'data/The Rolling Stones songs dataset, v1.csv', or from\n",
    "# '../data/The Rolling Stones songs dataset, v1.csv', or '../../data/The Rolling Stones songs dataset, v1.csv', or ..., # depending on where the csv file is located\n"
   ],
   "metadata": {
    "collapsed": false
   }
  },
  {
   "cell_type": "markdown",
   "source": [
    "Add another column, `Top50`: a song has reached Billboard Top 50 chart (`Yes`), or it hasn't (`No`)."
   ],
   "metadata": {
    "collapsed": false
   }
  },
  {
   "cell_type": "code",
   "execution_count": null,
   "outputs": [],
   "source": [],
   "metadata": {
    "collapsed": false
   }
  },
  {
   "cell_type": "markdown",
   "source": [
    "Create the index of the songs that HAVE reached Billboard Top 50: `i = songs.loc[songs['Top.50.Billboard'] != -1].index` or `i = np.array(songs.loc[songs['Top.50.Billboard'] != -1].index)`."
   ],
   "metadata": {
    "collapsed": false
   }
  },
  {
   "cell_type": "code",
   "execution_count": null,
   "outputs": [],
   "source": [],
   "metadata": {
    "collapsed": false
   }
  },
  {
   "cell_type": "markdown",
   "source": [
    "Change the values of `Top50` corresponding to the created index to `Yes`."
   ],
   "metadata": {
    "collapsed": false
   }
  },
  {
   "cell_type": "code",
   "execution_count": null,
   "outputs": [],
   "source": [],
   "metadata": {
    "collapsed": false
   }
  },
  {
   "cell_type": "markdown",
   "source": [
    "Check if the newly added `Top50` column is now OK. Try this using the index created in the previous step, as well as using `i = songs.loc[songs['Top.50.Billboard'] != -1].index` directly."
   ],
   "metadata": {
    "collapsed": false
   }
  },
  {
   "cell_type": "code",
   "execution_count": null,
   "outputs": [],
   "source": [],
   "metadata": {
    "collapsed": false
   }
  },
  {
   "cell_type": "markdown",
   "source": [
    "<u>Save this version as a new *.csv* file, for use in the subsequent examples.</u> (`<pd.df>.to_csv('<path>')`)"
   ],
   "metadata": {
    "collapsed": false
   }
  },
  {
   "cell_type": "code",
   "execution_count": null,
   "outputs": [],
   "source": [],
   "metadata": {
    "collapsed": false
   }
  },
  {
   "cell_type": "markdown",
   "source": [
    "###### Preparing the data for plotting the bar graph"
   ],
   "metadata": {
    "collapsed": false
   }
  },
  {
   "cell_type": "markdown",
   "source": [
    "Group the data - group the songs by the year of release."
   ],
   "metadata": {
    "collapsed": false
   }
  },
  {
   "cell_type": "code",
   "execution_count": null,
   "outputs": [],
   "source": [],
   "metadata": {
    "collapsed": false
   }
  },
  {
   "cell_type": "markdown",
   "source": [
    "Use `get_group(<year>)` to get all songs for a selected year and `value_counts()` over the resulting group's `Top50` column (showing the `Yes` and `No` subgroups). This is a precursor to creating the data for the y-axis of the bar graph."
   ],
   "metadata": {
    "collapsed": false
   }
  },
  {
   "cell_type": "code",
   "execution_count": null,
   "outputs": [],
   "source": [],
   "metadata": {
    "collapsed": false
   }
  },
  {
   "cell_type": "markdown",
   "source": [
    "Build the data to plot by extracting relevant items from each group."
   ],
   "metadata": {
    "collapsed": false
   }
  },
  {
   "cell_type": "markdown",
   "source": [
    "For x-axis, use `unique()` over the `Year` column and then `np.sort()` the results."
   ],
   "metadata": {
    "collapsed": false
   }
  },
  {
   "cell_type": "code",
   "execution_count": null,
   "outputs": [],
   "source": [],
   "metadata": {
    "collapsed": false
   }
  },
  {
   "cell_type": "markdown",
   "source": [
    "For y-axis, create the lists of the numbers of the songs that have reached Billboard Top 50 (`in_top50`) and of those that haven't (`not_in_top50`).\n",
    "(Start from two empty lists. Loop over the sorted list of years created in the previous step, `get_group()` for each year and append the `value_counts()['Yes']` of the `Top50` column of the current year (`y['Top.50']`) to `in_top50` if any of `y['Top.50']` has the value `Yes`, otherwise append 0. Do the similar thing for `not_in_top50`. Display both lists in the end to double-check the result.)"
   ],
   "metadata": {
    "collapsed": false
   }
  },
  {
   "cell_type": "code",
   "execution_count": null,
   "outputs": [],
   "source": [],
   "metadata": {
    "collapsed": false
   }
  },
  {
   "cell_type": "markdown",
   "source": [
    "And now plot the bar graph. Based on the second example from [here](https://pandas.pydata.org/pandas-docs/stable/reference/api/pandas.DataFrame.plot.bar.html) (using `<pd.df>.plot.bar()`, not Matplotlib or Seaborn).\n",
    "For a complete list of parameters used in `**kwargs`, see [this](https://pandas.pydata.org/pandas-docs/stable/reference/api/pandas.DataFrame.plot.html).\n",
    "For a list of named colors (Matplotlib named colors), see [here](https://matplotlib.org/stable/gallery/color/named_colors.html#css-colors)."
   ],
   "metadata": {
    "collapsed": false
   }
  },
  {
   "cell_type": "markdown",
   "source": [
    "First create an auxiliary dataframe to use for plotting. Use `in_top50` and `not_in_top50` as the columns, <u>and the sorted list of years created above as the index of the dataframe</u>."
   ],
   "metadata": {
    "collapsed": false
   }
  },
  {
   "cell_type": "code",
   "execution_count": null,
   "outputs": [],
   "source": [
    "# # The role-model example from https://pandas.pydata.org/pandas-docs/stable/reference/api/pandas.DataFrame.plot.bar.html\n",
    "# speed = [0.1, 17.5, 40, 48, 52, 69, 88]\n",
    "# lifespan = [2, 8, 70, 1.5, 25, 12, 28]\n",
    "# index = ['snail', 'pig', 'elephant', 'rabbit', 'giraffe', 'coyote', 'horse']\n",
    "# df = pd.DataFrame({'speed': speed, 'lifespan': lifespan}, index=index)\n"
   ],
   "metadata": {
    "collapsed": false
   }
  },
  {
   "cell_type": "markdown",
   "source": [
    "[Pandas bargraph example](https://pandas.pydata.org/docs/reference/api/pandas.DataFrame.plot.bar.html)\n",
    "\n",
    "Use `ax = <pd.df>.plot.bar()` to plot the bargraph.\n",
    "\n",
    "Relevant parameters:\n",
    "- `rot=<rotation angle [degrees]>` for the x-axis labels\n",
    "- `ylim=(<from>, <to>)`\n",
    "- `color={'In Top 50': 'limegreen', 'Not in Top 50': 'navajowhite'}` (for a list of Matplotlib named colors, see [here](https://matplotlib.org/stable/gallery/color/named_colors.html#css-colors))\n",
    "- `edgecolor='<color of bin lines>'`\n",
    "- `title='<title>'`\n",
    "- `xlabel='<xlabel>'`\n",
    "- `ylabel='<ylabel>'`\n",
    "- `fontsize=<fontsize>` (for all text; suitable fontsizes are 10, 12,...)\n",
    "- `stacked=True` (the bins for the same x-axis value stacked on top of one another)\n",
    "\n",
    "The returned value (`ax`) is usually unnecessary and can be omitted."
   ],
   "metadata": {
    "collapsed": false
   }
  },
  {
   "cell_type": "code",
   "execution_count": null,
   "outputs": [],
   "source": [],
   "metadata": {
    "collapsed": false
   }
  },
  {
   "cell_type": "markdown",
   "source": [
    "##### Box plot\n",
    "[Seaborn boxplot example](https://seaborn.pydata.org/generated/seaborn.boxplot.html) (used here as the role model)\n",
    "\n",
    "For Seaborn color palette names see [this](https://seaborn.pydata.org/generated/seaborn.color_palette.html#seaborn.color_palette) or [this](https://10xsoft.org/courses/data-analysis/mastering-data-visualization-with-python/section-4-data-visualization-using-seaborn/colour-palettes-seaborn/). To list the names of some ('quantitative') Seaborn color palettes, use `sns.palettes.SEABORN_PALETTES.keys()` (see [this](https://10xsoft.org/courses/data-analysis/mastering-data-visualization-with-python/section-4-data-visualization-using-seaborn/colour-palettes-seaborn/) and [this](https://www.codecademy.com/article/seaborn-design-ii) for additional named palettes)."
   ],
   "metadata": {
    "collapsed": false
   }
  },
  {
   "cell_type": "markdown",
   "source": [
    "Read the dataset (`'../data/The Rolling Stones songs dataset, v2.csv'`).\n",
    "\n",
    "`pd.read_csv()` returns a `pd.DataFrame` object.\n",
    "\n",
    "As for specifying the path of the dataset properly, see [this](https://stackoverflow.com/questions/35384358/how-to-open-my-files-in-data-folder-with-pandas-using-relative-path) (more specifically, **both** [this](https://stackoverflow.com/a/35384414/1899061) and [this](https://stackoverflow.com/a/43600253/1899061))."
   ],
   "metadata": {
    "collapsed": false
   }
  },
  {
   "cell_type": "code",
   "execution_count": 1,
   "outputs": [],
   "source": [
    "# Get the songs as a pd.DataFrame object from 'data/The Rolling Stones dataset, v1.csv', or from\n",
    "# '../data/The Rolling Stones songs dataset, v1.csv', or '../../data/The Rolling Stones songs dataset, v1.csv', or ..., depending on where the csv file is located\n"
   ],
   "metadata": {
    "collapsed": false,
    "ExecuteTime": {
     "end_time": "2023-11-09T09:41:10.080329300Z",
     "start_time": "2023-11-09T09:41:10.070926200Z"
    }
   }
  },
  {
   "cell_type": "markdown",
   "source": [
    "Use `sb.boxplot()` to plot some boxplots.\n",
    "\n",
    "For a single-column boxplot, relevant parameters are `y=<pd.df>['column']` (for 'vertical' boxplot) or `x=<pd.df>['column']` (for 'horizontal' boxplot), and `palette='palette'` (e.g., 'Set3', 'pastel', ...; see the links above for other named color palettes).\n",
    "\n",
    "For a multiple-column boxplot, relevant parameters are `data=<pd.df>[['column1', 'column2',...]]`, `orient='v'` (for 'vertical' boxplot) and `palette='palette'`."
   ],
   "metadata": {
    "collapsed": false
   }
  },
  {
   "cell_type": "code",
   "execution_count": null,
   "outputs": [],
   "source": [
    "# display(sb.palettes.SEABORN_PALETTES.keys())\n",
    "\n",
    "# For a single column (e.g., Duration)\n",
    "\n",
    "# For multiple columns (e.g., Other.releases and Duration)\n"
   ],
   "metadata": {
    "collapsed": false
   }
  },
  {
   "cell_type": "markdown",
   "source": [
    "##### Violin plot\n",
    "[Seaborn violin plot example](https://seaborn.pydata.org/generated/seaborn.violinplot.html)\n",
    "\n",
    "Combines box plot and density plot. Based on [this](https://stackoverflow.com/questions/46134113/seaborn-violin-plot-from-pandas-dataframe-each-column-its-own-separate-violin-p) and [this](https://seaborn.pydata.org/generated/seaborn.violinplot.html)."
   ],
   "metadata": {
    "collapsed": false
   }
  },
  {
   "cell_type": "markdown",
   "source": [
    "Read the dataset (`'../data/The Rolling Stones songs dataset, v2.csv'`).\n",
    "\n",
    "`pd.read_csv()` returns a `pd.DataFrame` object.\n",
    "\n",
    "As for specifying the path of the dataset properly, see [this](https://stackoverflow.com/questions/35384358/how-to-open-my-files-in-data-folder-with-pandas-using-relative-path) (more specifically, **both** [this](https://stackoverflow.com/a/35384414/1899061) and [this](https://stackoverflow.com/a/43600253/1899061))."
   ],
   "metadata": {
    "collapsed": false
   }
  },
  {
   "cell_type": "code",
   "execution_count": null,
   "outputs": [],
   "source": [
    "# Get the songs as a pd.DataFrame object from 'data/The Rolling Stones songs dataset, v1.csv', or from\n",
    "# '../data/The Rolling Stones songs dataset, v1.csv', or '../../data/The Rolling Stones songs dataset, v1.csv', \n",
    "# or ..., depending on where the csv file is located\n"
   ],
   "metadata": {
    "collapsed": false
   }
  },
  {
   "cell_type": "markdown",
   "source": [
    "Use `sb.violinplot()` like: `sb.violinplot(x=<pd.df>.loc[<selected indices for <column 1>, '<column 1>'], y=<pd.df>['<column 2>'], palette='<palette>')`.\n",
    "\n",
    "For example, if the violin plot should represent density/boxplot diagram of song `Duration` in certain `Year`s, then `<column 1>` is `Year` and `<column 2>` is `Duration`. Good values for `'<palette>'` are, e.g., 'Set3', 'pastel',...).\n",
    "\n",
    "Try setting the index of selected observations both implicitly (directly in the `x` parameter) and explicitly (before the call to `sb.violinplot()`) and then using `x=<pd.df>.loc[<index>, '<column for x-axis>']`."
   ],
   "metadata": {
    "collapsed": false
   }
  },
  {
   "cell_type": "code",
   "execution_count": null,
   "outputs": [],
   "source": [],
   "metadata": {
    "collapsed": false
   }
  },
  {
   "cell_type": "markdown",
   "source": [
    "##### Heat map\n",
    "[Seaborn heat map example](https://seaborn.pydata.org/generated/seaborn.heatmap.html) (used here as the role model)\n",
    "\n",
    "To create a heatmap, create the corresponding pivot table first. [An intuitive visual explanation of pivot tables](https://support.microsoft.com/en-us/office/overview-of-pivottables-and-pivotcharts-527c8fa3-02c0-445a-a2db-7794676bce96#:~:text=A%20PivotTable%20is%20an%20interactive,unanticipated%20questions%20about%20your%20data.).\n"
   ],
   "metadata": {
    "collapsed": false
   }
  },
  {
   "cell_type": "markdown",
   "source": [
    "Read the dataset (`'../data/The Rolling Stones songs dataset, v3.csv'`). This dataset already has been saved when plotting the bar graph above, so it already has the `Top50` column.\n",
    "\n",
    "`pd.read_csv()` returns a `pd.DataFrame` object.\n",
    "\n",
    "As for specifying the path of the dataset properly, see [this](https://stackoverflow.com/questions/35384358/how-to-open-my-files-in-data-folder-with-pandas-using-relative-path) (more specifically, **both** [this](https://stackoverflow.com/a/35384414/1899061) and [this](https://stackoverflow.com/a/43600253/1899061))."
   ],
   "metadata": {
    "collapsed": false
   }
  },
  {
   "cell_type": "code",
   "execution_count": null,
   "outputs": [],
   "source": [
    "# Get the songs as a pd.DataFrame object from 'data/The Rolling Stones songs dataset, v1.csv', or from\n",
    "# '../data/The Rolling Stones songs dataset, v1.csv', or '../../data/The Rolling Stones songs dataset, v1.csv', \n",
    "# or ..., depending on where the csv file is located\n"
   ],
   "metadata": {
    "collapsed": false
   }
  },
  {
   "cell_type": "markdown",
   "source": [
    "Categorize songs according to the number of other releases.\n",
    "Insert a new column, e.g. `Other.releases.category` and set it to the default value `Medium`. Then split the range of `Other.releases` to five subranges, `very-Low` to `very_high` (find the `max()` of `Other.releases` first). Each such a subrange is actually an index of selected songs, based on the value of `Other.releases` (e.g., `very_low = songs['Other.releases'] < 10`). Then use `<pd.df>.loc[<index of selected observations>, <relevant column>]` to change the default value `Medium` where appropriate (e.g., `songs.loc[very_low, 'Other.releases.category'] = 'Very Low'`)."
   ],
   "metadata": {
    "collapsed": false
   }
  },
  {
   "cell_type": "code",
   "execution_count": null,
   "outputs": [],
   "source": [],
   "metadata": {
    "collapsed": false
   }
  },
  {
   "cell_type": "markdown",
   "source": [
    "Rearrange the categories of `Other.releases.category` to make the output natural.\n",
    "Use `<pd.df>['<column>'] = pd.Categorical(<pd.df>[<column>], categories=['<cat1>, <cat2>, ...'], ordered=True)`. In this example, order categories from `Very High` to `Very Low`."
   ],
   "metadata": {
    "collapsed": false
   }
  },
  {
   "cell_type": "code",
   "execution_count": null,
   "outputs": [],
   "source": [],
   "metadata": {
    "collapsed": false
   }
  },
  {
   "cell_type": "markdown",
   "source": [
    "Create a suitable pivot table. Use `<pivot table> = <pd.df>.pivot_table(values='<column with values to show on the heatmap>', index='<categorical index>', columns='<column>')`\n",
    "- `values`: e.g. 'Duration'\n",
    "- `index`: to be shown on y-axis, e.g. 'Other.releases.category'\n",
    "- `columns`: to be shown on x-axis, e.g. 'Year'"
   ],
   "metadata": {
    "collapsed": false
   }
  },
  {
   "cell_type": "code",
   "execution_count": null,
   "outputs": [],
   "source": [
    "\n",
    "# # Alternatively\n",
    "# s = songs.pivot_table(values='Duration', index=['Very Low', 'Low', 'Medium', 'High', 'Very High'], columns='Year')"
   ],
   "metadata": {
    "collapsed": false
   }
  },
  {
   "cell_type": "markdown",
   "source": [
    "Plot the corresponding heatmap. Based on [this](https://pythonbasics.org/seaborn-heatmap/), [this](https://seaborn.pydata.org/generated/seaborn.heatmap.html), and [this](https://stackoverflow.com/a/29648332/1899061).\n",
    "\n",
    "It is often a good idea to change the default figure size first, using `sb.set_theme(rc={'figure.figsize': (<x_size>, <y_size>)})`, to avoid cluttering on the heatmap. Here `rc` stands for 'run command' - essentially, configurations which will execute when running the code. Experiment with `(<x_size>, <y_size>)`. The values that have worked well in this example: (15.7, 5.27).\n",
    "\n",
    "Then use `sb.heatmap(data=<pivot table>, annot=True, fmt='<format string>', cmap='<color map>');`\n",
    "- `data=<pivot table>`: the pivot table created in the previous step\n",
    "- `annot=True`: annotate heatmap cells with values\n",
    "- `fmt='<format_string>'`: for example, use `'.0f'` to show int values in annotations, not scientific notation (`'g'` for using mixed int and float annotations)\n",
    "- `cmap='<color map>'`: color map (see [this](https://10xsoft.org/courses/data-analysis/mastering-data-visualization-with-python/section-4-data-visualization-using-seaborn/colour-palettes-seaborn/)); a good one is 'icefire'"
   ],
   "metadata": {
    "collapsed": false
   }
  },
  {
   "cell_type": "code",
   "execution_count": null,
   "outputs": [],
   "source": [],
   "metadata": {
    "collapsed": false
   }
  },
  {
   "cell_type": "markdown",
   "source": [
    "##### A fancier example\n",
    "Average duration of songs over the years, represented as circles with sizes proportional to the numbers of songs."
   ],
   "metadata": {
    "collapsed": false
   }
  },
  {
   "cell_type": "code",
   "execution_count": null,
   "outputs": [],
   "source": [
    "songs = pd.read_csv('../data/The Rolling Stones songs dataset, v2.csv')\n",
    "songs_by_year = songs.groupby('Year')\n",
    "years_1962_1970 = np.array(range(1962, 1971))\n",
    "\n",
    "avg_duration = []\n",
    "for year in years_1962_1970:\n",
    "    avg_duration.append(np.mean(songs_by_year.get_group(year)['Duration']))\n",
    "avg_duration = np.array(avg_duration)\n",
    "\n",
    "rng = np.random.RandomState(370)\n",
    "\n",
    "colors = rng.choice(100, size=len(years_1962_1970), replace=False)          # random sample, no duplicates\n",
    "# display(colors)\n",
    "\n",
    "sizes = []\n",
    "for year in years_1962_1970:\n",
    "    sizes.append(len(songs_by_year.get_group(year)) * 100)                  # sizes proportional to the numbers of songs\n",
    "\n",
    "plt.title('Song duration over the years', fontdict={'size': 20})\n",
    "plt.xlabel('Year')\n",
    "plt.ylabel('Duration')\n",
    "plt.xlim(1961, 1971)\n",
    "plt.scatter(years_1962_1970, avg_duration,\n",
    "            c=colors, s=sizes, alpha=0.3,                                   # alpha: the level of transparency\n",
    "            cmap='Set1')                                                    # cmap: a pre-defined color map\n",
    "plt.colorbar();                                                             # show color scale\n",
    "\n",
    "# # Alternatively, but without showing the colorbar\n",
    "# ax = plt.axes()\n",
    "# ax.set(xlabel='Year', ylabel='Duration', xlim=(1961, 1971),\n",
    "#        title='Song duration over the years')\n",
    "# ax.scatter(years_1962_1970, avg_duration,\n",
    "#            c=colors, s=sizes, alpha=0.3,                                    # alpha: the level of transparency\n",
    "#            cmap='Set1');                                                    # cmap: a pre-defined color map"
   ],
   "metadata": {
    "collapsed": false
   }
  },
  {
   "cell_type": "markdown",
   "metadata": {},
   "source": [
    "## Masking - Boolean arrays as masks"
   ]
  },
  {
   "cell_type": "markdown",
   "source": [
    "A simple example.\n",
    "Create a small `pd.Series` object (e.g., `a`) and a boolean mask as a list of the same length (e.g., `mask`) and show the effect of running `a[mask]`."
   ],
   "metadata": {
    "collapsed": false
   }
  },
  {
   "cell_type": "code",
   "execution_count": null,
   "outputs": [],
   "source": [],
   "metadata": {
    "collapsed": false
   }
  },
  {
   "cell_type": "markdown",
   "source": [
    "An example from the `'../data/The Rolling Stones songs dataset, v2.csv'` dataset."
   ],
   "metadata": {
    "collapsed": false
   }
  },
  {
   "cell_type": "markdown",
   "source": [
    "Read the dataset.\n",
    "\n",
    "`pd.read_csv()` returns a `pd.DataFrame` object.\n",
    "\n",
    "As for specifying the path of the dataset properly, see [this](https://stackoverflow.com/questions/35384358/how-to-open-my-files-in-data-folder-with-pandas-using-relative-path) (more specifically, **both** [this](https://stackoverflow.com/a/35384414/1899061) and [this](https://stackoverflow.com/a/43600253/1899061))."
   ],
   "metadata": {
    "collapsed": false
   }
  },
  {
   "cell_type": "code",
   "execution_count": 2,
   "outputs": [],
   "source": [
    "# Get the songs as a pd.DataFrame object from 'data/The Rolling Stones songs dataset, v1.csv', or from\n",
    "# '../data/The Rolling Stones songs dataset, v1.csv', or '../../data/The Rolling Stones songs dataset, v1.csv', \n",
    "# or ..., depending on where the csv file is located\n"
   ],
   "metadata": {
    "collapsed": false
   }
  },
  {
   "cell_type": "markdown",
   "source": [
    "Extract song release years into a NumPy array (use the `values` attribute of the `Year` column)."
   ],
   "metadata": {
    "collapsed": false
   }
  },
  {
   "cell_type": "code",
   "execution_count": null,
   "metadata": {},
   "outputs": [],
   "source": []
  },
  {
   "cell_type": "markdown",
   "source": [
    "Extract songs released after 1968.\n",
    "Create a mask (a Boolean array of the same length as `Year`), `True` if the year is greater than 1968, and show a slice of it. It is a simple relational expression, no need for `.loc[]`."
   ],
   "metadata": {
    "collapsed": false
   }
  },
  {
   "cell_type": "code",
   "execution_count": null,
   "metadata": {},
   "outputs": [],
   "source": []
  },
  {
   "cell_type": "markdown",
   "source": [
    "Get the titles of the first 10 songs released after 1968.\n",
    "Use indexing with the mask created in the previous step."
   ],
   "metadata": {
    "collapsed": false
   }
  },
  {
   "cell_type": "code",
   "execution_count": null,
   "outputs": [],
   "source": [
    "# Get the titles of the first 10 songs such that years > 1968\n"
   ],
   "metadata": {
    "collapsed": false
   }
  },
  {
   "cell_type": "markdown",
   "source": [
    "Get the titles of the last 10 songs such that `years > 1968` and `times < 120`.\n",
    "Create two simple masks, one for `Year` and another one for `Duration`, and use `&` in indexing the relevant observations in the dataframe. Remember to use the `values` attribute of both columns to convert the values to NumPy arrays."
   ],
   "metadata": {
    "collapsed": false
   }
  },
  {
   "cell_type": "code",
   "execution_count": null,
   "outputs": [],
   "source": [
    "# Get the titles of the last 10 songs such that years > 1968 and times < 120\n"
   ],
   "metadata": {
    "collapsed": false
   }
  },
  {
   "cell_type": "markdown",
   "source": [
    "Get the titles of all songs released 1966 or 1967, as well as the mean value of their lengths.\n",
    "Create an appropriate mask for years, and use `np.mean()` to show the mean value of the lengths of the songs extracted using the mask.\n",
    "\n",
    "**IMPORTANT:** Element-wise logical operators to compare `pd.Series` objects are `&` and `|`, not `and` and `or`."
   ],
   "metadata": {
    "collapsed": false
   }
  },
  {
   "cell_type": "code",
   "execution_count": null,
   "outputs": [],
   "source": [],
   "metadata": {
    "collapsed": false
   }
  },
  {
   "cell_type": "markdown",
   "metadata": {},
   "source": [
    "## Fancy indexing\n",
    "Fancy indexing is like simple indexing, but arrays of indices are passed in place of single scalars."
   ]
  },
  {
   "cell_type": "markdown",
   "metadata": {},
   "source": [
    "Create an array of 10 random integers (using `np.random.seed(<seed>)`, `<array> = np.random.randint(10, size=10)`) and a list of a couple of indices to select the relevant values from the array. Try also changing the values at these indices only."
   ]
  },
  {
   "cell_type": "code",
   "execution_count": null,
   "metadata": {},
   "outputs": [],
   "source": []
  },
  {
   "cell_type": "markdown",
   "metadata": {},
   "source": [
    "## Sorting arrays"
   ]
  },
  {
   "cell_type": "markdown",
   "source": [
    "Create an `np.array` of `int` values and demonstrate that `np.sort(<np.array>)` does not change the array, whereas the `<np.array>.sort()` does (inplace sorting)."
   ],
   "metadata": {
    "collapsed": false
   }
  },
  {
   "cell_type": "code",
   "execution_count": null,
   "metadata": {},
   "outputs": [],
   "source": []
  },
  {
   "cell_type": "markdown",
   "metadata": {},
   "source": [
    "The `np.argsort()` function returns the *indices* that would sort an array."
   ]
  },
  {
   "cell_type": "markdown",
   "source": [
    "What are the longest and the shortest Rolling Stones songs?"
   ],
   "metadata": {
    "collapsed": false
   }
  },
  {
   "cell_type": "markdown",
   "source": [
    "Read the dataset, `'../data/The Rolling Stones songs dataset, v1.csv'`.\n",
    "\n",
    "`pd.read_csv()` returns a `pd.DataFrame` object.\n",
    "\n",
    "As for specifying the path of the dataset properly, see [this](https://stackoverflow.com/questions/35384358/how-to-open-my-files-in-data-folder-with-pandas-using-relative-path) (more specifically, **both** [this](https://stackoverflow.com/a/35384414/1899061) and [this](https://stackoverflow.com/a/43600253/1899061))."
   ],
   "metadata": {
    "collapsed": false
   }
  },
  {
   "cell_type": "code",
   "execution_count": 4,
   "outputs": [],
   "source": [
    "# Get the songs as a pd.DataFrame object from 'data/The Rolling Stones songs dataset, v1.csv', or from\n",
    "# '../data/The Rolling Stones songs dataset, v1.csv', or '../../data/The Rolling Stones songs dataset, v1.csv', or ..., depending on where the csv file is located\n"
   ],
   "metadata": {
    "collapsed": false
   }
  },
  {
   "cell_type": "markdown",
   "source": [
    "Extract `times` - song durations - from the `values` attribute of the `Duration` column and pass it to `np.argsort()` to get the index that sorts the song times in the ascending order. To sort in descending order, use `(-<np.array>).argsort()` or `<index> = np.argsort(-<np.array>)` (see [this](https://stackoverflow.com/questions/16486252/is-it-possible-to-use-argsort-in-descending-order)).\n",
    "Use the index created that way to print the titles and the durations of, e.g., ten longest songs and ten shortest songs. It boils down to fancy indexing the `Title` and `Duration` columns with the index created that way."
   ],
   "metadata": {
    "collapsed": false
   }
  },
  {
   "cell_type": "markdown",
   "source": [],
   "metadata": {
    "collapsed": false
   }
  },
  {
   "cell_type": "code",
   "execution_count": null,
   "metadata": {},
   "outputs": [],
   "source": []
  }
 ],
 "metadata": {
  "kernelspec": {
   "display_name": "Python 3 (ipykernel)",
   "language": "python",
   "name": "python3"
  },
  "language_info": {
   "codemirror_mode": {
    "name": "ipython",
    "version": 3
   },
   "file_extension": ".py",
   "mimetype": "text/x-python",
   "name": "python",
   "nbconvert_exporter": "python",
   "pygments_lexer": "ipython3",
   "version": "3.10.0"
  }
 },
 "nbformat": 4,
 "nbformat_minor": 4
}
